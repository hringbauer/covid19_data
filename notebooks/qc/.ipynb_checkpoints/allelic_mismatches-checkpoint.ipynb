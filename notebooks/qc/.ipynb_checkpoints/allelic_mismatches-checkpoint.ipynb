{
 "cells": [
  {
   "cell_type": "markdown",
   "metadata": {},
   "source": [
    "# Check Common allele frequencies and how mistakes are distributed among Labs"
   ]
  },
  {
   "cell_type": "code",
   "execution_count": 1,
   "metadata": {},
   "outputs": [
    {
     "name": "stdout",
     "output_type": "stream",
     "text": [
      "Current machine: compute-e-16-233.o2.rc.hms.harvard.edu\n",
      "HSM Computational partition detected.\n",
      "/n/groups/reich/hringbauer/git/covid19_data\n"
     ]
    }
   ],
   "source": [
    "import numpy as np\n",
    "import os as os\n",
    "import sys as sys\n",
    "import multiprocessing as mp\n",
    "import pandas as pd\n",
    "import socket\n",
    "import matplotlib.pyplot as plt\n",
    "from itertools import groupby\n",
    "from shutil import which\n",
    "import os\n",
    "import re as re\n",
    "import h5py\n",
    "import itertools as it\n",
    "\n",
    "### Pick the right path (whether on cluster or at home)\n",
    "socket_name = socket.gethostname()\n",
    "print(f\"Current machine: {socket_name}\")\n",
    "if socket_name == \"DESKTOP-5RJD9NC\":\n",
    "    path = \"/gitProjects/covid19_data\"   # The Path on Harald's machine\n",
    "if socket_name.startswith(\"compute-\"):\n",
    "    print(\"HSM Computational partition detected.\")\n",
    "    path = \"/n/groups/reich/hringbauer/git/covid19_data/\"  # The Path on Midway Cluster\n",
    "else: \n",
    "    raise RuntimeWarning(\"Not compatible machine. Check!!\")\n",
    "    \n",
    "### Check whether required bins are available\n",
    "req_bins = [\"mafft\"] \n",
    "for b in req_bins:\n",
    "    s = which(b)\n",
    "    if not s:\n",
    "        print(f\"Make sure to install {b} and have in path. I cannot find it!\")\n",
    "        \n",
    "os.chdir(path)  # Set the right Path (in line with Atom default)\n",
    "print(os.getcwd())"
   ]
  },
  {
   "cell_type": "markdown",
   "metadata": {},
   "source": [
    "### Define Functions"
   ]
  },
  {
   "cell_type": "code",
   "execution_count": 2,
   "metadata": {},
   "outputs": [],
   "source": [
    "def filter_reliable_snps(df, frac_cov=0.75, min_alt=50,\n",
    "                        alt_col=\"altcount\", tot_col=\"totcount\", output=True):\n",
    "    \"\"\"Filter to reliable SNPs\n",
    "    df: Input dataframe (allele spectrum)\n",
    "    frac_cov: \"\"\"\n",
    "    max_count = np.max(df_spec[tot_col])  # Max. Coverage\n",
    "    idx = (df[alt_col]>min_alt) & (df[tot_col]>(frac_cov*max_count))\n",
    "    df = df[idx].copy()\n",
    "    if output:\n",
    "        print(f\"Max Covered: {max_count} Inds\")\n",
    "        print(f\"Cutoff: {frac_cov*max_count}\")\n",
    "        print(f\"Filtered to {np.sum(idx)} / {len(idx)} Variants\")\n",
    "    return df\n",
    "\n",
    "def load_h5(path = \"./output/h5/covid_seqs.h5\"):\n",
    "    \"\"\"Load and return HDF5\"\"\"\n",
    "    f = h5py.File(path, \"r\") # Load for Sanity Check. See below!  \n",
    "    print(f\"Loaded HDF5 from {path}\")\n",
    "    print(list(f))\n",
    "    print(np.shape(f[\"gt\"]))\n",
    "    assert(np.shape(f[\"gt\"])[0]==len(f[\"samples\"]))\n",
    "    return f\n",
    "\n",
    "def create_int_df(f, df_snps, h5_field=\"gt\"):\n",
    "    \"\"\"Produce ref derived 0/1 counts for\n",
    "    allele frequency file f and variant datafram df_snps\"\"\"\n",
    "    n, _ = np.shape(f[h5_field])\n",
    "    l = len(df_snps)\n",
    "    gt = -np.ones((n,l), dtype=\"int8\")\n",
    "    g = f[h5_field][:, df_snps[\"pos\"]]\n",
    "    ref_idx = g == df_snps[\"ref\"].astype('|S1').values[None,:]\n",
    "    alt_idx = g == df_snps[\"alt\"].astype('|S1').values[None,:]\n",
    "\n",
    "    ## Sanity Checks\n",
    "    assert(np.sum(ref_idx, axis=0)==df_snps[\"refcount\"].values).all()\n",
    "    assert(np.sum(alt_idx, axis=0)==df_snps[\"altcount\"].values).all()\n",
    "\n",
    "    gt[ref_idx]=0\n",
    "    gt[alt_idx]=1\n",
    "    return gt"
   ]
  },
  {
   "cell_type": "markdown",
   "metadata": {},
   "source": [
    "# Load common alleles & clean data"
   ]
  },
  {
   "cell_type": "code",
   "execution_count": 3,
   "metadata": {},
   "outputs": [
    {
     "name": "stdout",
     "output_type": "stream",
     "text": [
      "Loaded 29903 Loci Statistics from ./output/tables/allele_spectrum.tsv\n",
      "Maximum Covered Locus: 4953 Inds\n"
     ]
    }
   ],
   "source": [
    "path_spectrum = \"./output/tables/allele_spectrum.tsv\"\n",
    "\n",
    "df_spec = pd.read_csv(path_spectrum, sep=\"\\t\")\n",
    "print(f\"Loaded {len(df_spec)} Loci Statistics from {path_spectrum}\")\n",
    "df_spec[\"totcount\"] = (df_spec[\"refcount\"] + df_spec[\"altcount\"])  # Create the total Count\n",
    "max_count = np.max(df_spec[\"totcount\"])\n",
    "print(f\"Maximum Covered Locus: {max_count} Inds\")"
   ]
  },
  {
   "cell_type": "code",
   "execution_count": 4,
   "metadata": {},
   "outputs": [
    {
     "data": {
      "image/png": "[encoded data removed]",
      "text/plain": [
       "<Figure size 288x288 with 1 Axes>"
      ]
     },
     "metadata": {
      "needs_background": "light"
     },
     "output_type": "display_data"
    }
   ],
   "source": [
    "plt.figure(figsize=(4,4))\n",
    "ax=plt.gca()\n",
    "ax.scatter(df_spec[\"refcount\"], df_spec[\"altcount\"], ec='k')\n",
    "ax.set_xlabel(\"Ref Count\")\n",
    "ax.set_ylabel(\"Alt Count\")\n",
    "ax.axhline(50)\n",
    "#ax.set_xlim([2500,3300])\n",
    "plt.show()"
   ]
  },
  {
   "cell_type": "markdown",
   "metadata": {},
   "source": [
    "# Analyze SNPs on 0/1/-1 basis"
   ]
  },
  {
   "cell_type": "code",
   "execution_count": 5,
   "metadata": {},
   "outputs": [
    {
     "name": "stdout",
     "output_type": "stream",
     "text": [
      "Max Covered: 4953 Inds\n",
      "Cutoff: 3714.75\n",
      "Filtered to 47 / 29903 Variants\n",
      "Loaded HDF5 from ./output/h5/covid_seqs.h5\n",
      "['gt', 'samples']\n",
      "(4954, 29903)\n"
     ]
    },
    {
     "data": {
      "text/plain": [
       "(4954, 47)"
      ]
     },
     "execution_count": 5,
     "metadata": {},
     "output_type": "execute_result"
    }
   ],
   "source": [
    "df_snps = filter_reliable_snps(df_spec, frac_cov=0.75, min_alt=50)\n",
    "f = load_h5(path = \"./output/h5/covid_seqs.h5\")\n",
    "\n",
    "### Load relevant parts of the HDF5\n",
    "gt = create_int_df(f, df_snps)  # Create 0/1 Genotype Matrix [n,l] for df_snps Positions\n",
    "np.shape(gt)"
   ]
  },
  {
   "cell_type": "markdown",
   "metadata": {},
   "source": [
    "### Load the relevant parts of the hdf5"
   ]
  },
  {
   "cell_type": "code",
   "execution_count": 25,
   "metadata": {},
   "outputs": [],
   "source": [
    "def return_der_stats(g1, g2, cov_only=True):\n",
    "    \"\"\"Calculate and return statistics\n",
    "    of ancestral/derived.\n",
    "    g1, g2: Arrays of Genotypes (0/1/-1)\"\"\"\n",
    "    if cov_only:\n",
    "        idx = (g1>=0) & (g2>=0)\n",
    "        g1, g2 = g1[idx], g2[idx] \n",
    "    d1 = (g1 == 1)\n",
    "    d2 = (g2 == 1)\n",
    "    td1, td2 = np.sum(d1), np.sum(d2)  # How many are derived\n",
    "    \n",
    "    both_d = np.sum(d1 & d2)\n",
    "    min_d = np.min([td1,td2])\n",
    "    min_idx = np.argmin([td1,td2])\n",
    "    \n",
    "    return both_d, min_d, min_idx\n",
    "\n",
    "def calc_pw_stats(gt):\n",
    "    \"\"\"Calculate pw. Loci statistics for Genotypes gt (n,l).\n",
    "    Return Matrix of minimum derived allele, both_derived allele, and fraction\"\"\"\n",
    "    assert(len(np.shape(gt))==2)  # Sanity Check if Genotype Matrix\n",
    "    \n",
    "    l = np.shape(gt)[1]\n",
    "    both_ds, min_ds = np.zeros((l,l), dtype=\"int\"), np.zeros((l,l),dtype=\"int\")\n",
    "    fracs = np.zeros((l,l),dtype=\"float\")\n",
    "    \n",
    "    for (i1,i2) in it.combinations(range(l),2):\n",
    "        both_d, min_d, min_idx = return_der_stats(gt[:,i1], gt[:,i2], cov_only=True)\n",
    "        \n",
    "        both_ds[i1,i2]=both_d\n",
    "        min_ds[i1,i2]=min_d\n",
    "    \n",
    "    ### Mirror Values\n",
    "    min_ds = min_ds + min_ds.T\n",
    "    both_ds = both_ds + both_ds.T\n",
    "        \n",
    "    ### Do the Diagonal\n",
    "    for i in range(l):\n",
    "        min_ds[i,i] = np.sum(gt[:,i]*(gt[:,i]>=0))\n",
    "        both_ds[i,i] = np.sum(gt[:,i]*(gt[:,i]>=0))\n",
    "    assert(np.min(min_ds)>0)  # To make sure only derived Markers where in there\n",
    "    fracs = both_ds / min_ds\n",
    "    return both_ds, min_ds, fracs"
   ]
  },
  {
   "cell_type": "code",
   "execution_count": 26,
   "metadata": {},
   "outputs": [],
   "source": [
    "both_ds, min_ds, fracs =calc_pw_stats(gt)"
   ]
  },
  {
   "cell_type": "code",
   "execution_count": 27,
   "metadata": {},
   "outputs": [
    {
     "data": {
      "text/plain": [
       "array([[2251,   72,    6, ...,    0,    0,   82],\n",
       "       [  72,   73,    0, ...,    0,    0,    0],\n",
       "       [   6,    0,  669, ...,    0,   53,    6],\n",
       "       ...,\n",
       "       [   0,    0,    0, ...,  800,    0,    0],\n",
       "       [   0,    0,   53, ...,    0,   53,    0],\n",
       "       [  82,    0,    6, ...,    0,    0,   83]])"
      ]
     },
     "execution_count": 27,
     "metadata": {},
     "output_type": "execute_result"
    }
   ],
   "source": [
    "both_ds"
   ]
  },
  {
   "cell_type": "code",
   "execution_count": 29,
   "metadata": {},
   "outputs": [
    {
     "data": {
      "image/png": "[encoded data removed]",
      "text/plain": [
       "<Figure size 288x288 with 1 Axes>"
      ]
     },
     "metadata": {
      "needs_background": "light"
     },
     "output_type": "display_data"
    }
   ],
   "source": [
    "plt.figure(figsize=(4,4))\n",
    "ax = plt.gca()\n",
    "ax.scatter(min_ds.flatten(), both_ds.flatten(), ec=\"k\", zorder=1)\n",
    "ax.set_xlabel(\"Minimum # Derived Individuals\")\n",
    "ax.set_ylabel(\" #Both Indiivdiual Dervied\")\n",
    "ax.set_title(\"All Pairs of Markers\")\n",
    "m = np.max(min_ds)\n",
    "ax.plot([0,m],[0,m], c=\"silver\", zorder=0)\n",
    "#ax.set_xlim([0,100])\n",
    "#ax.set_ylim([0,100])\n",
    "plt.show()"
   ]
  },
  {
   "cell_type": "code",
   "execution_count": 32,
   "metadata": {},
   "outputs": [
    {
     "data": {
      "image/png": "[encoded data removed]",
      "text/plain": [
       "<Figure size 288x288 with 1 Axes>"
      ]
     },
     "metadata": {
      "needs_background": "light"
     },
     "output_type": "display_data"
    }
   ],
   "source": [
    "plt.figure(figsize=(4,4))\n",
    "ax = plt.gca()\n",
    "ax.hist(both_ds/min_ds, bins=100, ec=\"k\")\n",
    "ax.set_ylim([0,50])\n",
    "plt.show()"
   ]
  },
  {
   "cell_type": "markdown",
   "metadata": {},
   "source": [
    "\n",
    "# Area 51"
   ]
  },
  {
   "cell_type": "code",
   "execution_count": null,
   "metadata": {},
   "outputs": [],
   "source": []
  },
  {
   "cell_type": "code",
   "execution_count": 71,
   "metadata": {},
   "outputs": [
    {
     "data": {
      "text/plain": [
       "array([1444,   70,  368,   86,  159,  101,  102,  156, 1470,  734,   54,\n",
       "        476, 1472,  296,  117,  126,  498,  514,  532,   56,   96, 1482,\n",
       "        468,   59,  355,  172,  724,   76,  114,  445,  444,  444,   53,\n",
       "         67])"
      ]
     },
     "execution_count": 71,
     "metadata": {},
     "output_type": "execute_result"
    }
   ],
   "source": [
    "np.sum(gt==1, axis=0)"
   ]
  },
  {
   "cell_type": "code",
   "execution_count": 28,
   "metadata": {},
   "outputs": [
    {
     "data": {
      "image/png": "[encoded data removed]",
      "text/plain": [
       "<Figure size 432x432 with 1 Axes>"
      ]
     },
     "metadata": {
      "needs_background": "light"
     },
     "output_type": "display_data"
    }
   ],
   "source": [
    "plt.figure(figsize=(6,6))\n",
    "ax=plt.gca()\n",
    "ax.hist(df_spec[\"totcount\"], ec=\"k\", bins=200)\n",
    "ax.set_xlabel(\"Covered\")\n",
    "ax.set_ylabel(\"Count\")\n",
    "ax.axhline(50)\n",
    "#ax.set_xlim([2500,3300])\n",
    "ax.set_ylim([0,50])\n",
    "plt.show()"
   ]
  },
  {
   "cell_type": "markdown",
   "metadata": {},
   "source": [
    "### Test Loading hdf5"
   ]
  },
  {
   "cell_type": "code",
   "execution_count": 2,
   "metadata": {},
   "outputs": [
    {
     "name": "stdout",
     "output_type": "stream",
     "text": [
      "Loaded HDF5 from /home/np29/myhdf5/2bit_uchar.h5\n",
      "['2bit']\n"
     ]
    }
   ],
   "source": [
    "path=\"/home/np29/myhdf5/2bit_uchar.h5\"\n",
    "f = h5py.File(path, \"r\") # Load for Sanity Check. See below!  \n",
    "print(f\"Loaded HDF5 from {path}\")\n",
    "print(list(f))"
   ]
  },
  {
   "cell_type": "code",
   "execution_count": 4,
   "metadata": {},
   "outputs": [
    {
     "data": {
      "text/plain": [
       "array([[0, 1],\n",
       "       [2, 3],\n",
       "       [0, 1]], dtype=uint8)"
      ]
     },
     "execution_count": 4,
     "metadata": {},
     "output_type": "execute_result"
    }
   ],
   "source": [
    "f[\"2bit\"][:]"
   ]
  },
  {
   "cell_type": "code",
   "execution_count": 36,
   "metadata": {},
   "outputs": [
    {
     "data": {
      "text/plain": [
       "array([[1.        , 0.40824829],\n",
       "       [0.40824829, 1.        ]])"
      ]
     },
     "execution_count": 36,
     "metadata": {},
     "output_type": "execute_result"
    }
   ],
   "source": [
    "a = [0, 1, 1, 1, 0]\n",
    "b= [0, 0, 1, 0, 0]\n",
    "\n",
    "np.corrcoef(a,b)"
   ]
  }
 ],
 "metadata": {
  "kernelspec": {
   "display_name": "Python 3",
   "language": "python",
   "name": "python3"
  },
  "language_info": {
   "codemirror_mode": {
    "name": "ipython",
    "version": 3
   },
   "file_extension": ".py",
   "mimetype": "text/x-python",
   "name": "python",
   "nbconvert_exporter": "python",
   "pygments_lexer": "ipython3",
   "version": "3.7.4"
  }
 },
 "nbformat": 4,
 "nbformat_minor": 4
}
