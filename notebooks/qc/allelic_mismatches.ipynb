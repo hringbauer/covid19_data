{
 "cells": [
  {
   "cell_type": "markdown",
   "metadata": {},
   "source": [
    "# Check Common allele frequencies and how mistakes are distributed among Labs"
   ]
  },
  {
   "cell_type": "code",
   "execution_count": 1,
   "metadata": {},
   "outputs": [
    {
     "name": "stdout",
     "output_type": "stream",
     "text": [
      "Current machine: compute-e-16-235.o2.rc.hms.harvard.edu\n",
      "HSM Computational partition detected.\n",
      "/n/groups/reich/hringbauer/git/covid19_data\n"
     ]
    }
   ],
   "source": [
    "import numpy as np\n",
    "import os as os\n",
    "import sys as sys\n",
    "import multiprocessing as mp\n",
    "import pandas as pd\n",
    "import socket\n",
    "import matplotlib.pyplot as plt\n",
    "from itertools import groupby\n",
    "from shutil import which\n",
    "import os\n",
    "import re as re\n",
    "import h5py\n",
    "import itertools as it\n",
    "\n",
    "### Pick the right path (whether on cluster or at home)\n",
    "socket_name = socket.gethostname()\n",
    "print(f\"Current machine: {socket_name}\")\n",
    "if socket_name == \"DESKTOP-5RJD9NC\":\n",
    "    path = \"/gitProjects/covid19_data\"   # The Path on Harald's machine\n",
    "if socket_name.startswith(\"compute-\"):\n",
    "    print(\"HSM Computational partition detected.\")\n",
    "    path = \"/n/groups/reich/hringbauer/git/covid19_data/\"  # The Path on Midway Cluster\n",
    "else: \n",
    "    raise RuntimeWarning(\"Not compatible machine. Check!!\")\n",
    "    \n",
    "### Check whether required bins are available\n",
    "req_bins = [\"mafft\"] \n",
    "for b in req_bins:\n",
    "    s = which(b)\n",
    "    if not s:\n",
    "        print(f\"Make sure to install {b} and have in path. I cannot find it!\")\n",
    "        \n",
    "os.chdir(path)  # Set the right Path (in line with Atom default)\n",
    "print(os.getcwd())"
   ]
  },
  {
   "cell_type": "markdown",
   "metadata": {},
   "source": [
    "### Define Functions"
   ]
  },
  {
   "cell_type": "code",
   "execution_count": 2,
   "metadata": {},
   "outputs": [],
   "source": [
    "def filter_reliable_snps(df, frac_cov=0.75, min_alt=50,\n",
    "                        alt_col=\"altcount\", tot_col=\"totcount\", output=True):\n",
    "    \"\"\"Filter to reliable SNPs\n",
    "    df: Input dataframe (allele spectrum)\n",
    "    frac_cov: \"\"\"\n",
    "    max_count = np.max(df_spec[tot_col])  # Max. Coverage\n",
    "    idx = (df[alt_col]>min_alt) & (df[tot_col]>(frac_cov*max_count))\n",
    "    df = df[idx].copy()\n",
    "    if output:\n",
    "        print(f\"Max Covered: {max_count} Inds\")\n",
    "        print(f\"Cutoff: {frac_cov*max_count}\")\n",
    "        print(f\"Filtered to {np.sum(idx)} / {len(idx)} Variants\")\n",
    "    return df\n",
    "\n",
    "def load_h5(path = \"./output/h5/covid_seqs.h5\"):\n",
    "    \"\"\"Load and return HDF5\"\"\"\n",
    "    f = h5py.File(path, \"r\") # Load for Sanity Check. See below!  \n",
    "    print(f\"Loaded HDF5 from {path}\")\n",
    "    print(list(f))\n",
    "    print(np.shape(f[\"gt\"]))\n",
    "    assert(np.shape(f[\"gt\"])[0]==len(f[\"samples\"]))\n",
    "    return f\n",
    "\n",
    "def load_spectrum_df(path_spectrum = \"./output/tables/allele_spectrum.tsv\"):\n",
    "    \"\"\"Load and process Spectrum Dataframe. Return dataframe\"\"\"\n",
    "    df_spec = pd.read_csv(path_spectrum, sep=\"\\t\")\n",
    "    print(f\"Loaded {len(df_spec)} Loci Statistics from {path_spectrum}\")\n",
    "    df_spec[\"totcount\"] = (df_spec[\"refcount\"] + df_spec[\"altcount\"])  # Create the total Count\n",
    "    max_count = np.max(df_spec[\"totcount\"])\n",
    "    print(f\"Maximum Covered Locus: {max_count} Inds\")\n",
    "    return df_spec\n",
    "\n",
    "def create_int_df(f, df_snps, h5_field=\"gt\", ref_id = \"Wuhan-Hu-1\", \n",
    "                  sample_field=\"samples\"):\n",
    "    \"\"\"Produce ref derived 0/1 counts for\n",
    "    allele frequency file f and variant datafram df_snps\"\"\"\n",
    "    n, _ = np.shape(f[h5_field])\n",
    "    l = len(df_snps)\n",
    "    gt = -np.ones((n,l), dtype=\"int8\")\n",
    "    g = f[h5_field][:, df_snps[\"pos\"]]\n",
    "    ref_idx = (g == df_snps[\"ref\"].astype('|S1').values[None,:])\n",
    "    alt_idx = (g == df_snps[\"alt\"].astype('|S1').values[None,:])\n",
    "\n",
    "    ## Sanity Checks\n",
    "    assert(np.sum(ref_idx, axis=0)==df_snps[\"refcount\"].values).all()\n",
    "    assert(np.sum(alt_idx, axis=0)==df_snps[\"altcount\"].values).all()\n",
    "    \n",
    "    ### Flip Allele to Reference if required (where alt sequence is matching)\n",
    "    if len(ref_id)>0:\n",
    "        idx = [(ref_id in s)  for s in f[sample_field]]\n",
    "        assert(np.sum(idx)==1) # Sanity check\n",
    "        g_ref = f[h5_field][:, df_snps[\"pos\"]][idx,:][0]\n",
    "\n",
    "        g_ref0 = df_snps[\"alt\"].astype('|S1').values[None,:][0]\n",
    "        flip_idx = (g_ref == g_ref0)\n",
    "        ref_idx[:,flip_idx], alt_idx[:,flip_idx] = alt_idx[:,flip_idx], ref_idx[:,flip_idx]\n",
    "        print(f\"Flipped {np.sum(flip_idx)} Loci to {ref_id}\")\n",
    "\n",
    "    gt[ref_idx]=0\n",
    "    gt[alt_idx]=1\n",
    "    return gt\n",
    "\n",
    "\n",
    "##################################################\n",
    "\n",
    "def return_der_stats(g1, g2, cov_only=True):\n",
    "    \"\"\"Calculate and return statistics\n",
    "    of ancestral/derived.\n",
    "    g1, g2: Arrays of Genotypes (0/1/-1)\"\"\"\n",
    "    if cov_only:\n",
    "        idx = (g1>=0) & (g2>=0)\n",
    "        g1, g2 = g1[idx], g2[idx] \n",
    "    d1 = (g1 == 1)\n",
    "    d2 = (g2 == 1)\n",
    "    td1, td2 = np.sum(d1), np.sum(d2)  # How many are derived\n",
    "    \n",
    "    both_d = np.sum(d1 & d2)\n",
    "    min_d = np.min([td1,td2])\n",
    "    min_idx = np.argmin([td1,td2])\n",
    "    \n",
    "    return both_d, min_d, min_idx\n",
    "\n",
    "def calc_pw_stats(gt):\n",
    "    \"\"\"Calculate pw. Loci statistics for Genotypes gt (n,l).\n",
    "    Return Matrix of minimum derived allele, both_derived allele, and fraction\"\"\"\n",
    "    assert(len(np.shape(gt))==2)  # Sanity Check if Genotype Matrix\n",
    "    \n",
    "    l = np.shape(gt)[1]\n",
    "    both_ds, min_ds = np.zeros((l,l), dtype=\"int\"), np.zeros((l,l),dtype=\"int\")\n",
    "    fracs = np.zeros((l,l),dtype=\"float\")\n",
    "    \n",
    "    for (i1,i2) in it.combinations(range(l),2):\n",
    "        both_d, min_d, min_idx = return_der_stats(gt[:,i1], gt[:,i2], cov_only=True)\n",
    "        \n",
    "        both_ds[i1,i2]=both_d\n",
    "        min_ds[i1,i2]=min_d\n",
    "    \n",
    "    ### Mirror Values\n",
    "    min_ds = min_ds + min_ds.T\n",
    "    both_ds = both_ds + both_ds.T\n",
    "        \n",
    "    ### Do the Diagonal\n",
    "    for i in range(l):\n",
    "        min_ds[i,i] = np.sum(gt[:,i]*(gt[:,i]>=0))\n",
    "        both_ds[i,i] = np.sum(gt[:,i]*(gt[:,i]>=0))\n",
    "    assert(np.min(min_ds)>0)  # To make sure only derived Markers where in there\n",
    "    fracs = both_ds / min_ds\n",
    "    return both_ds, min_ds, fracs"
   ]
  },
  {
   "cell_type": "markdown",
   "metadata": {},
   "source": [
    "# Load common alleles & clean data"
   ]
  },
  {
   "cell_type": "code",
   "execution_count": 3,
   "metadata": {},
   "outputs": [
    {
     "name": "stdout",
     "output_type": "stream",
     "text": [
      "Loaded 29903 Loci Statistics from ./output/tables/allele_spectrum.tsv\n",
      "Maximum Covered Locus: 15052 Inds\n"
     ]
    }
   ],
   "source": [
    "df_spec = load_spectrum_df(path_spectrum = \"./output/tables/allele_spectrum.tsv\")"
   ]
  },
  {
   "cell_type": "code",
   "execution_count": 11,
   "metadata": {},
   "outputs": [
    {
     "data": {
      "image/png": "[encoded data removed]",
      "text/plain": [
       "<Figure size 288x288 with 1 Axes>"
      ]
     },
     "metadata": {
      "needs_background": "light"
     },
     "output_type": "display_data"
    }
   ],
   "source": [
    "plt.figure(figsize=(4,4))\n",
    "ax=plt.gca()\n",
    "ax.scatter(df_spec[\"refcount\"], df_spec[\"altcount\"], ec='k')\n",
    "ax.set_xlabel(\"Ref Count\")\n",
    "ax.set_ylabel(\"Alt Count\")\n",
    "ax.axhline(50)\n",
    "#ax.set_ylim([0,1500])\n",
    "plt.show()"
   ]
  },
  {
   "cell_type": "markdown",
   "metadata": {},
   "source": [
    "# Analyze SNPs on 0/1/-1 basis"
   ]
  },
  {
   "cell_type": "code",
   "execution_count": 19,
   "metadata": {},
   "outputs": [
    {
     "name": "stdout",
     "output_type": "stream",
     "text": [
      "CPU times: user 6 µs, sys: 0 ns, total: 6 µs\n",
      "Wall time: 11.9 µs\n",
      "Loaded 29903 Loci Statistics from ./output/tables/allele_spectrum.tsv\n",
      "Maximum Covered Locus: 15052 Inds\n",
      "Max Covered: 15052 Inds\n",
      "Cutoff: 11289.0\n",
      "Filtered to 74 / 29903 Variants\n",
      "Loaded HDF5 from ./output/h5/covid_seqs.h5\n",
      "['gt', 'samples']\n",
      "(15056, 29903)\n",
      "Flipped 4 Loci to Wuhan-Hu-1\n"
     ]
    },
    {
     "data": {
      "text/plain": [
       "(15056, 74)"
      ]
     },
     "execution_count": 19,
     "metadata": {},
     "output_type": "execute_result"
    }
   ],
   "source": [
    "%time\n",
    "df_spec = load_spectrum_df(path_spectrum = \"./output/tables/allele_spectrum.tsv\")\n",
    "df_snps = filter_reliable_snps(df_spec, frac_cov=0.75, min_alt=100)\n",
    "f = load_h5(path = \"./output/h5/covid_seqs.h5\")  # Now load the hdf5\n",
    "\n",
    "### Load relevant parts of the HDF5\n",
    "gt = create_int_df(f, df_snps, ref_id='Wuhan-Hu-1')  # Create 0/1 Genotype Matrix [n,l] for df_snps Positions\n",
    "np.shape(gt)"
   ]
  },
  {
   "cell_type": "markdown",
   "metadata": {},
   "source": [
    "### Load and plot pw. Loci stats for these common alleles"
   ]
  },
  {
   "cell_type": "code",
   "execution_count": 20,
   "metadata": {},
   "outputs": [],
   "source": [
    "both_ds, min_ds, fracs = calc_pw_stats(gt)"
   ]
  },
  {
   "cell_type": "code",
   "execution_count": 26,
   "metadata": {},
   "outputs": [],
   "source": [
    "def plot_derived_pairs(both_df, min_ds, ylim=[]):\n",
    "    \"\"\"Plot # both derived vrs minimum derived\"\"\"\n",
    "    plt.figure(figsize=(4,4))\n",
    "    ax = plt.gca()\n",
    "    ax.scatter(min_ds.flatten(), both_ds.flatten(), ec=\"k\", zorder=1)\n",
    "    ax.set_xlabel(\"Minimum # Derived Individuals\")\n",
    "    ax.set_ylabel(\" #Both Indiivdiual Dervied\")\n",
    "    ax.set_title(\"All Pairs of Markers\")\n",
    "    m = np.max(min_ds)\n",
    "    ax.plot([0,m],[0,m], c=\"silver\", zorder=0)\n",
    "    if len(ylim)>0:\n",
    "        ax.set_ylim(ylim)\n",
    "    plt.show()"
   ]
  },
  {
   "cell_type": "code",
   "execution_count": 31,
   "metadata": {},
   "outputs": [
    {
     "data": {
      "image/png": "[encoded data removed]",
      "text/plain": [
       "<Figure size 288x288 with 1 Axes>"
      ]
     },
     "metadata": {
      "needs_background": "light"
     },
     "output_type": "display_data"
    }
   ],
   "source": [
    "plot_derived_pairs(both_ds, min_ds, ylim=[0,1000])"
   ]
  },
  {
   "cell_type": "code",
   "execution_count": 32,
   "metadata": {},
   "outputs": [
    {
     "data": {
      "image/png": "[encoded data removed]",
      "text/plain": [
       "<Figure size 288x288 with 1 Axes>"
      ]
     },
     "metadata": {
      "needs_background": "light"
     },
     "output_type": "display_data"
    }
   ],
   "source": [
    "plt.figure(figsize=(4,4))\n",
    "ax = plt.gca()\n",
    "ax.hist(fracs.flatten(), bins=100, ec=\"k\")\n",
    "ax.set_ylim([0,100])\n",
    "plt.show()"
   ]
  },
  {
   "cell_type": "markdown",
   "metadata": {},
   "source": [
    "# Plot Inconsistencies between Loci"
   ]
  },
  {
   "cell_type": "code",
   "execution_count": 33,
   "metadata": {},
   "outputs": [
    {
     "data": {
      "image/png": "[encoded data removed]",
      "text/plain": [
       "<Figure size 432x432 with 2 Axes>"
      ]
     },
     "metadata": {
      "needs_background": "light"
     },
     "output_type": "display_data"
    }
   ],
   "source": [
    "both_ds, min_ds, fracs =calc_pw_stats(gt)\n",
    "\n",
    "fig = plt.figure(figsize=(6,6))\n",
    "ax=plt.gca()\n",
    "#fig,, (ax1, ax2) = plt.subplots(figsize=(6,6), ncols=3)\n",
    "pos = ax.imshow(fracs, cmap=\"RdBu_r\")\n",
    "fig.colorbar(pos, ax=ax, label=\"Concordance Index\")\n",
    "ax.set_xlabel(\"Locus 1\")\n",
    "ax.set_ylabel(\"Locus 2\")\n",
    "#fig.colorbar(pos, ax=ax1)\n",
    "plt.show()"
   ]
  },
  {
   "cell_type": "code",
   "execution_count": 36,
   "metadata": {},
   "outputs": [
    {
     "data": {
      "text/plain": [
       "array([ 0,  4,  0,  0,  0,  1,  1,  0,  0,  1,  0,  0,  0,  4,  0,  0,  1,\n",
       "        0,  6,  1,  0,  1,  1,  5,  2,  0,  0,  7,  4,  5,  1,  0,  0,  0,\n",
       "        0,  0,  0,  0,  0,  0,  2,  0,  4,  1,  0,  0,  0,  0,  1,  2,  0,\n",
       "        0,  1,  0,  0,  0,  0,  9,  0,  1, 10,  1,  1,  1,  0,  5,  1,  2,\n",
       "        2,  2,  0,  0,  0,  1])"
      ]
     },
     "execution_count": 36,
     "metadata": {},
     "output_type": "execute_result"
    }
   ],
   "source": [
    "cts =np.sum((fracs>0.2) & (fracs<0.8), axis=0)\n",
    "cts"
   ]
  },
  {
   "cell_type": "code",
   "execution_count": 37,
   "metadata": {},
   "outputs": [
    {
     "data": {
      "text/html": [
       "<div>\n",
       "<style scoped>\n",
       "    .dataframe tbody tr th:only-of-type {\n",
       "        vertical-align: middle;\n",
       "    }\n",
       "\n",
       "    .dataframe tbody tr th {\n",
       "        vertical-align: top;\n",
       "    }\n",
       "\n",
       "    .dataframe thead th {\n",
       "        text-align: right;\n",
       "    }\n",
       "</style>\n",
       "<table border=\"1\" class=\"dataframe\">\n",
       "  <thead>\n",
       "    <tr style=\"text-align: right;\">\n",
       "      <th></th>\n",
       "      <th>refcount</th>\n",
       "      <th>altcount</th>\n",
       "      <th>ref</th>\n",
       "      <th>alt</th>\n",
       "      <th>pos</th>\n",
       "      <th>totcount</th>\n",
       "    </tr>\n",
       "  </thead>\n",
       "  <tbody>\n",
       "    <tr>\n",
       "      <th>7437</th>\n",
       "      <td>14881</td>\n",
       "      <td>138</td>\n",
       "      <td>t</td>\n",
       "      <td>c</td>\n",
       "      <td>7437</td>\n",
       "      <td>15019</td>\n",
       "    </tr>\n",
       "    <tr>\n",
       "      <th>10322</th>\n",
       "      <td>14793</td>\n",
       "      <td>127</td>\n",
       "      <td>a</td>\n",
       "      <td>g</td>\n",
       "      <td>10322</td>\n",
       "      <td>14920</td>\n",
       "    </tr>\n",
       "    <tr>\n",
       "      <th>13729</th>\n",
       "      <td>14885</td>\n",
       "      <td>130</td>\n",
       "      <td>c</td>\n",
       "      <td>t</td>\n",
       "      <td>13729</td>\n",
       "      <td>15015</td>\n",
       "    </tr>\n",
       "    <tr>\n",
       "      <th>14785</th>\n",
       "      <td>14887</td>\n",
       "      <td>135</td>\n",
       "      <td>c</td>\n",
       "      <td>t</td>\n",
       "      <td>14785</td>\n",
       "      <td>15022</td>\n",
       "    </tr>\n",
       "    <tr>\n",
       "      <th>27963</th>\n",
       "      <td>14774</td>\n",
       "      <td>205</td>\n",
       "      <td>c</td>\n",
       "      <td>t</td>\n",
       "      <td>27963</td>\n",
       "      <td>14979</td>\n",
       "    </tr>\n",
       "    <tr>\n",
       "      <th>28310</th>\n",
       "      <td>14835</td>\n",
       "      <td>188</td>\n",
       "      <td>c</td>\n",
       "      <td>t</td>\n",
       "      <td>28310</td>\n",
       "      <td>15023</td>\n",
       "    </tr>\n",
       "    <tr>\n",
       "      <th>28853</th>\n",
       "      <td>14792</td>\n",
       "      <td>208</td>\n",
       "      <td>c</td>\n",
       "      <td>t</td>\n",
       "      <td>28853</td>\n",
       "      <td>15000</td>\n",
       "    </tr>\n",
       "  </tbody>\n",
       "</table>\n",
       "</div>"
      ],
      "text/plain": [
       "       refcount  altcount ref alt    pos  totcount\n",
       "7437      14881       138   t   c   7437     15019\n",
       "10322     14793       127   a   g  10322     14920\n",
       "13729     14885       130   c   t  13729     15015\n",
       "14785     14887       135   c   t  14785     15022\n",
       "27963     14774       205   c   t  27963     14979\n",
       "28310     14835       188   c   t  28310     15023\n",
       "28853     14792       208   c   t  28853     15000"
      ]
     },
     "execution_count": 37,
     "metadata": {},
     "output_type": "execute_result"
    }
   ],
   "source": [
    "idx = np.where(cts>=5)[0]\n",
    "df_snps.iloc[idx,:]"
   ]
  },
  {
   "cell_type": "markdown",
   "metadata": {},
   "source": [
    "# Look only at the Belgium Samples"
   ]
  },
  {
   "cell_type": "code",
   "execution_count": 175,
   "metadata": {},
   "outputs": [
    {
     "name": "stdout",
     "output_type": "stream",
     "text": [
      "Extract 288 / 4954 Samples\n",
      "Extract 19 / 47 Individuals with more than 10 derived Markers\n"
     ]
    }
   ],
   "source": [
    "ctry=\"Belgium\"\n",
    "d=10\n",
    "\n",
    "idx = [ctry in s for s in f[\"samples\"]]\n",
    "print(f\"Extract {np.sum(idx)} / {len(idx)} Samples\")\n",
    "\n",
    "gt_b = gt[idx,:]\n",
    "idx_g = np.sum(gt_b*(gt_b>=0), axis=0)>=d\n",
    "gt_b = gt_b[:,idx_g]\n",
    "print(f\"Extract {np.sum(idx_g)} / {len(idx_g)} Individuals with more than {d} derived Markers\")\n",
    "df_snps_b = df_snps[idx_g].copy()"
   ]
  },
  {
   "cell_type": "code",
   "execution_count": 176,
   "metadata": {},
   "outputs": [
    {
     "data": {
      "image/png": "[encoded data removed]",
      "text/plain": [
       "<Figure size 432x432 with 2 Axes>"
      ]
     },
     "metadata": {
      "needs_background": "light"
     },
     "output_type": "display_data"
    }
   ],
   "source": [
    "both_ds, min_ds, fracs =calc_pw_stats(gt_b)\n",
    "\n",
    "fig = plt.figure(figsize=(6,6))\n",
    "ax=plt.gca()\n",
    "#fig,, (ax1, ax2) = plt.subplots(figsize=(6,6), ncols=3)\n",
    "pos = ax.imshow(fracs, cmap=\"RdBu_r\")\n",
    "fig.colorbar(pos, ax=ax, label=\"Concordance Index\")\n",
    "ax.set_xlabel(\"Locus 1\")\n",
    "ax.set_ylabel(\"Locus 2\")\n",
    "#fig.colorbar(pos, ax=ax1)\n",
    "plt.show()"
   ]
  },
  {
   "cell_type": "code",
   "execution_count": 177,
   "metadata": {},
   "outputs": [
    {
     "data": {
      "text/plain": [
       "array([ 2,  3,  1,  3, 12, 14,  2,  2,  1,  2,  0,  2,  2,  2,  1,  1,  2,\n",
       "        2,  2])"
      ]
     },
     "execution_count": 177,
     "metadata": {},
     "output_type": "execute_result"
    }
   ],
   "source": [
    "cts =np.sum((fracs>0.1) & (fracs<0.9), axis=0)\n",
    "cts"
   ]
  },
  {
   "cell_type": "code",
   "execution_count": 179,
   "metadata": {},
   "outputs": [
    {
     "data": {
      "text/html": [
       "<div>\n",
       "<style scoped>\n",
       "    .dataframe tbody tr th:only-of-type {\n",
       "        vertical-align: middle;\n",
       "    }\n",
       "\n",
       "    .dataframe tbody tr th {\n",
       "        vertical-align: top;\n",
       "    }\n",
       "\n",
       "    .dataframe thead th {\n",
       "        text-align: right;\n",
       "    }\n",
       "</style>\n",
       "<table border=\"1\" class=\"dataframe\">\n",
       "  <thead>\n",
       "    <tr style=\"text-align: right;\">\n",
       "      <th></th>\n",
       "      <th>refcount</th>\n",
       "      <th>altcount</th>\n",
       "      <th>ref</th>\n",
       "      <th>alt</th>\n",
       "      <th>pos</th>\n",
       "      <th>totcount</th>\n",
       "    </tr>\n",
       "  </thead>\n",
       "  <tbody>\n",
       "    <tr>\n",
       "      <th>11082</th>\n",
       "      <td>4223</td>\n",
       "      <td>687</td>\n",
       "      <td>g</td>\n",
       "      <td>t</td>\n",
       "      <td>11082</td>\n",
       "      <td>4910</td>\n",
       "    </tr>\n",
       "    <tr>\n",
       "      <th>13401</th>\n",
       "      <td>4636</td>\n",
       "      <td>51</td>\n",
       "      <td>t</td>\n",
       "      <td>g</td>\n",
       "      <td>13401</td>\n",
       "      <td>4687</td>\n",
       "    </tr>\n",
       "  </tbody>\n",
       "</table>\n",
       "</div>"
      ],
      "text/plain": [
       "       refcount  altcount ref alt    pos  totcount\n",
       "11082      4223       687   g   t  11082      4910\n",
       "13401      4636        51   t   g  13401      4687"
      ]
     },
     "execution_count": 179,
     "metadata": {},
     "output_type": "execute_result"
    }
   ],
   "source": [
    "idx = np.where(cts>=5)[0]\n",
    "df_snps_b.iloc[idx,:]"
   ]
  },
  {
   "cell_type": "code",
   "execution_count": 158,
   "metadata": {},
   "outputs": [
    {
     "data": {
      "text/html": [
       "<div>\n",
       "<style scoped>\n",
       "    .dataframe tbody tr th:only-of-type {\n",
       "        vertical-align: middle;\n",
       "    }\n",
       "\n",
       "    .dataframe tbody tr th {\n",
       "        vertical-align: top;\n",
       "    }\n",
       "\n",
       "    .dataframe thead th {\n",
       "        text-align: right;\n",
       "    }\n",
       "</style>\n",
       "<table border=\"1\" class=\"dataframe\">\n",
       "  <thead>\n",
       "    <tr style=\"text-align: right;\">\n",
       "      <th></th>\n",
       "      <th>refcount</th>\n",
       "      <th>altcount</th>\n",
       "      <th>ref</th>\n",
       "      <th>alt</th>\n",
       "      <th>pos</th>\n",
       "      <th>totcount</th>\n",
       "    </tr>\n",
       "  </thead>\n",
       "  <tbody>\n",
       "    <tr>\n",
       "      <th>28880</th>\n",
       "      <td>4111</td>\n",
       "      <td>802</td>\n",
       "      <td>g</td>\n",
       "      <td>a</td>\n",
       "      <td>28880</td>\n",
       "      <td>4913</td>\n",
       "    </tr>\n",
       "    <tr>\n",
       "      <th>28881</th>\n",
       "      <td>4118</td>\n",
       "      <td>800</td>\n",
       "      <td>g</td>\n",
       "      <td>a</td>\n",
       "      <td>28881</td>\n",
       "      <td>4918</td>\n",
       "    </tr>\n",
       "    <tr>\n",
       "      <th>28882</th>\n",
       "      <td>4118</td>\n",
       "      <td>800</td>\n",
       "      <td>g</td>\n",
       "      <td>c</td>\n",
       "      <td>28882</td>\n",
       "      <td>4918</td>\n",
       "    </tr>\n",
       "  </tbody>\n",
       "</table>\n",
       "</div>"
      ],
      "text/plain": [
       "       refcount  altcount ref alt    pos  totcount\n",
       "28880      4111       802   g   a  28880      4913\n",
       "28881      4118       800   g   a  28881      4918\n",
       "28882      4118       800   g   c  28882      4918"
      ]
     },
     "execution_count": 158,
     "metadata": {},
     "output_type": "execute_result"
    }
   ],
   "source": [
    "#df_snps_b.iloc[[4,5,6, 8,12],:]\n",
    "df_snps_b.iloc[-3:,:]"
   ]
  },
  {
   "cell_type": "markdown",
   "metadata": {},
   "source": [
    "### Screen"
   ]
  },
  {
   "cell_type": "code",
   "execution_count": 35,
   "metadata": {},
   "outputs": [
    {
     "data": {
      "text/plain": [
       "(array([15, 18, 33]),)"
      ]
     },
     "execution_count": 35,
     "metadata": {},
     "output_type": "execute_result"
    }
   ],
   "source": [
    "co_derived = np.sum(fracs>0.8, axis=1)\n",
    "idx_prob = co_derived==1\n",
    "np.where(idx_prob)"
   ]
  },
  {
   "cell_type": "code",
   "execution_count": 33,
   "metadata": {},
   "outputs": [
    {
     "data": {
      "text/html": [
       "<div>\n",
       "<style scoped>\n",
       "    .dataframe tbody tr th:only-of-type {\n",
       "        vertical-align: middle;\n",
       "    }\n",
       "\n",
       "    .dataframe tbody tr th {\n",
       "        vertical-align: top;\n",
       "    }\n",
       "\n",
       "    .dataframe thead th {\n",
       "        text-align: right;\n",
       "    }\n",
       "</style>\n",
       "<table border=\"1\" class=\"dataframe\">\n",
       "  <thead>\n",
       "    <tr style=\"text-align: right;\">\n",
       "      <th></th>\n",
       "      <th>refcount</th>\n",
       "      <th>altcount</th>\n",
       "      <th>ref</th>\n",
       "      <th>alt</th>\n",
       "      <th>pos</th>\n",
       "      <th>totcount</th>\n",
       "    </tr>\n",
       "  </thead>\n",
       "  <tbody>\n",
       "    <tr>\n",
       "      <th>13401</th>\n",
       "      <td>4636</td>\n",
       "      <td>51</td>\n",
       "      <td>t</td>\n",
       "      <td>g</td>\n",
       "      <td>13401</td>\n",
       "      <td>4687</td>\n",
       "    </tr>\n",
       "    <tr>\n",
       "      <th>15323</th>\n",
       "      <td>4727</td>\n",
       "      <td>222</td>\n",
       "      <td>c</td>\n",
       "      <td>t</td>\n",
       "      <td>15323</td>\n",
       "      <td>4949</td>\n",
       "    </tr>\n",
       "    <tr>\n",
       "      <th>26529</th>\n",
       "      <td>4856</td>\n",
       "      <td>62</td>\n",
       "      <td>a</td>\n",
       "      <td>g</td>\n",
       "      <td>26529</td>\n",
       "      <td>4918</td>\n",
       "    </tr>\n",
       "  </tbody>\n",
       "</table>\n",
       "</div>"
      ],
      "text/plain": [
       "       refcount  altcount ref alt    pos  totcount\n",
       "13401      4636        51   t   g  13401      4687\n",
       "15323      4727       222   c   t  15323      4949\n",
       "26529      4856        62   a   g  26529      4918"
      ]
     },
     "execution_count": 33,
     "metadata": {},
     "output_type": "execute_result"
    }
   ],
   "source": [
    "df_snps[co_derived==1]"
   ]
  },
  {
   "cell_type": "markdown",
   "metadata": {},
   "source": [
    "# Idea Reconstruct the Tree of mutations"
   ]
  },
  {
   "cell_type": "code",
   "execution_count": null,
   "metadata": {},
   "outputs": [],
   "source": []
  },
  {
   "cell_type": "markdown",
   "metadata": {},
   "source": [
    "# Idea: Lab specific Mutation Tree"
   ]
  },
  {
   "cell_type": "code",
   "execution_count": null,
   "metadata": {},
   "outputs": [],
   "source": []
  },
  {
   "cell_type": "markdown",
   "metadata": {},
   "source": [
    "\n",
    "# Area 51"
   ]
  },
  {
   "cell_type": "code",
   "execution_count": 52,
   "metadata": {},
   "outputs": [
    {
     "data": {
      "text/plain": [
       "False"
      ]
     },
     "execution_count": 52,
     "metadata": {},
     "output_type": "execute_result"
    }
   ],
   "source": [
    "\"lol\" in \"lo1l1ol\""
   ]
  },
  {
   "cell_type": "markdown",
   "metadata": {},
   "source": [
    "### Test Loading hdf5"
   ]
  },
  {
   "cell_type": "code",
   "execution_count": 2,
   "metadata": {},
   "outputs": [
    {
     "name": "stdout",
     "output_type": "stream",
     "text": [
      "Loaded HDF5 from /home/np29/myhdf5/2bit_uchar.h5\n",
      "['2bit']\n"
     ]
    }
   ],
   "source": [
    "path=\"/home/np29/myhdf5/2bit_uchar.h5\"\n",
    "f = h5py.File(path, \"r\") # Load for Sanity Check. See below!  \n",
    "print(f\"Loaded HDF5 from {path}\")\n",
    "print(list(f))"
   ]
  },
  {
   "cell_type": "code",
   "execution_count": 4,
   "metadata": {},
   "outputs": [
    {
     "data": {
      "text/plain": [
       "array([[0, 1],\n",
       "       [2, 3],\n",
       "       [0, 1]], dtype=uint8)"
      ]
     },
     "execution_count": 4,
     "metadata": {},
     "output_type": "execute_result"
    }
   ],
   "source": [
    "f[\"2bit\"][:]"
   ]
  },
  {
   "cell_type": "code",
   "execution_count": 36,
   "metadata": {},
   "outputs": [
    {
     "data": {
      "text/plain": [
       "array([[1.        , 0.40824829],\n",
       "       [0.40824829, 1.        ]])"
      ]
     },
     "execution_count": 36,
     "metadata": {},
     "output_type": "execute_result"
    }
   ],
   "source": [
    "a = [0, 1, 1, 1, 0]\n",
    "b= [0, 0, 1, 0, 0]\n",
    "\n",
    "np.corrcoef(a,b)"
   ]
  }
 ],
 "metadata": {
  "kernelspec": {
   "display_name": "Python 3",
   "language": "python",
   "name": "python3"
  },
  "language_info": {
   "codemirror_mode": {
    "name": "ipython",
    "version": 3
   },
   "file_extension": ".py",
   "mimetype": "text/x-python",
   "name": "python",
   "nbconvert_exporter": "python",
   "pygments_lexer": "ipython3",
   "version": "3.7.4"
  }
 },
 "nbformat": 4,
 "nbformat_minor": 4
}
