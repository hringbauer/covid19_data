{
 "cells": [
  {
   "cell_type": "markdown",
   "metadata": {},
   "source": [
    "# Analyze Meta Data\n",
    "Load and analyze the Meta Data"
   ]
  },
  {
   "cell_type": "code",
   "execution_count": 29,
   "metadata": {},
   "outputs": [
    {
     "name": "stdout",
     "output_type": "stream",
     "text": [
      "Current machine: compute-e-16-236.o2.rc.hms.harvard.edu\n",
      "HSM Computational partition detected.\n",
      "/n/groups/reich/hringbauer/git/covid19_data\n"
     ]
    }
   ],
   "source": [
    "import numpy as np\n",
    "import os as os\n",
    "import sys as sys\n",
    "import multiprocessing as mp\n",
    "import pandas as pd\n",
    "import socket\n",
    "import matplotlib.pyplot as plt\n",
    "from datetime import date, timedelta\n",
    "\n",
    "### Pick the right path (whether on cluster or at home)\n",
    "socket_name = socket.gethostname()\n",
    "print(f\"Current machine: {socket_name}\")\n",
    "if socket_name == \"DESKTOP-5RJD9NC\":\n",
    "    path = \"/gitProjects/covid19_data\"   # The Path on Harald's machine\n",
    "elif socket_name.startswith(\"compute-\"):\n",
    "    print(\"HSM Computational partition detected.\")\n",
    "    path = \"/n/groups/reich/hringbauer/git/covid19_data/\"  # The Path on Midway Cluster\n",
    "else: \n",
    "    raise RuntimeWarning(\"Not compatible machine. Check!!\")\n",
    "\n",
    "os.chdir(path)  # Set the right Path (in line with Atom default)\n",
    "print(os.getcwd())"
   ]
  },
  {
   "cell_type": "markdown",
   "metadata": {},
   "source": [
    "### Read the Data"
   ]
  },
  {
   "cell_type": "code",
   "execution_count": 3,
   "metadata": {},
   "outputs": [],
   "source": [
    "month = \"mar20\"\n",
    "day = 31\n",
    "data_path = os.path.join(\"data\", month, f\"metadata{day}.tsv\")\n",
    "df = pd.read_csv(data_path, sep=\"\\t\")"
   ]
  },
  {
   "cell_type": "markdown",
   "metadata": {},
   "source": [
    "# Do Histograms"
   ]
  },
  {
   "cell_type": "markdown",
   "metadata": {},
   "source": [
    "# Do a plot per Region"
   ]
  },
  {
   "cell_type": "code",
   "execution_count": 13,
   "metadata": {},
   "outputs": [],
   "source": [
    "### Hot fix\n",
    "idx = (df[\"region\"]==\"USA\")\n",
    "df.loc[idx, \"region\"]= \"North America\""
   ]
  },
  {
   "cell_type": "code",
   "execution_count": 15,
   "metadata": {},
   "outputs": [],
   "source": [
    "color_dict = {\"Europe\": \"lime\",\n",
    "              \"Asia\": \"blue\",\n",
    "              \"North America\":\"red\",\n",
    "              \"Oceania\":\"lightskyblue\",\n",
    "              \"South America\":\"orange\",\n",
    "              \"Africa\":\"gray\",\n",
    "              \"Central America\":\"gray\"\n",
    "              }"
   ]
  },
  {
   "cell_type": "code",
   "execution_count": 16,
   "metadata": {},
   "outputs": [],
   "source": [
    "def plot_hist(df, color_dict, plot_col=\"region\", ec=\"k\",\n",
    "              width=0.9, title=\"Viral Genomes per Region\",\n",
    "              figsize=(3,5), savepath=\"\", fs=12, rotation=30):\n",
    "    \"\"\"Plot Histogram of Values in plot_col in\n",
    "    dataframe df\"\"\"\n",
    "    vc = df[plot_col].value_counts()\n",
    "    labels = vc.index.to_list()\n",
    "    colors = [color_dict[l] for l in labels]\n",
    "    ax = vc.plot(kind='bar', figsize=figsize, width=width, \n",
    "                 ec=ec, color=colors)\n",
    "    for i, xtick in enumerate(ax.get_xticklabels()):\n",
    "        lab = xtick.get_text()\n",
    "        c = color_dict[lab]\n",
    "        xtick.set_color(c)\n",
    "    plt.xticks(rotation=rotation, ha='right')\n",
    "    \n",
    "    ### Set Text Label\n",
    "    label=\"Sequences \\nper region\"\n",
    "    ax.text(0.5, 0.95, label, horizontalalignment='left',      \n",
    "        verticalalignment='top', transform=ax.transAxes,\n",
    "       fontsize=fs)\n",
    "    \n",
    "    ### Save the Figure\n",
    "    if len(savepath)>0:\n",
    "        plt.savefig(savepath, bbox_inches = 'tight', \n",
    "                    pad_inches = 0, dpi=200)\n",
    "        print(f\"Saved to {savepath}\")\n",
    "    plt.show()"
   ]
  },
  {
   "cell_type": "code",
   "execution_count": 17,
   "metadata": {},
   "outputs": [
    {
     "name": "stdout",
     "output_type": "stream",
     "text": [
      "Saved to ./figures/dumpster/covid19_hist.png\n"
     ]
    },
    {
     "data": {
      "image/png": "[encoded data removed]",
      "text/plain": [
       "<Figure size 216x360 with 1 Axes>"
      ]
     },
     "metadata": {},
     "output_type": "display_data"
    }
   ],
   "source": [
    "plot_hist(df, color_dict, \n",
    "          figsize=(3,5), savepath=\"./figures/dumpster/covid19_hist.png\")"
   ]
  },
  {
   "cell_type": "markdown",
   "metadata": {},
   "source": [
    "### Make a global map plot"
   ]
  },
  {
   "cell_type": "markdown",
   "metadata": {},
   "source": [
    "## Plot Dates"
   ]
  },
  {
   "cell_type": "code",
   "execution_count": 57,
   "metadata": {},
   "outputs": [],
   "source": [
    "def plot_hist_dates(dates, date_last=0, days_back=60,\n",
    "              fs = 14, fs_l=6, figsize=(5,6), color=\"gray\",\n",
    "              show=True):\n",
    "    \"\"\"Plot histogram of dates\"\"\"\n",
    "    if not date_last:\n",
    "        today = date.today()\n",
    "    date_bins = [today -  timedelta(days=i) for i in range(days_back, -1, -1)]\n",
    "    label = f\"Sequences submitted daily\\n{date_bins[0]} - {date_bins[-1]}\\nTotal: {len(dates)}\"\n",
    "    print(type(dates[0]))\n",
    "    print(type(date_bins[0]))\n",
    "    plt.figure(figsize=figsize)\n",
    "    ax = plt.gca()\n",
    "    ax.hist(dates, ec=\"k\", color=color, bins=date_bins)\n",
    "    ax.set_xlabel(\"Date\", fontsize=fs)\n",
    "    ax.set_ylabel(\"Count\", fontsize=fs)\n",
    "    plt.xticks(rotation=45, ha='right')\n",
    "    ax.text(0.02, 0.9, label, horizontalalignment='left',      \n",
    "            verticalalignment='center', transform=ax.transAxes,\n",
    "           fontsize=fs)\n",
    "    if show:\n",
    "        plt.show()"
   ]
  },
  {
   "cell_type": "code",
   "execution_count": 56,
   "metadata": {},
   "outputs": [
    {
     "name": "stdout",
     "output_type": "stream",
     "text": [
      "<class 'pandas._libs.tslibs.timestamps.Timestamp'>\n",
      "<class 'datetime.date'>\n"
     ]
    },
    {
     "data": {
      "image/png": "[encoded data removed]",
      "text/plain": [
       "<Figure size 360x432 with 1 Axes>"
      ]
     },
     "metadata": {
      "needs_background": "light"
     },
     "output_type": "display_data"
    }
   ],
   "source": [
    "dates =  pd.to_datetime(df[\"date_submitted\"]) #.apply(lambda x: date(x.year,x.month,x.day))\n",
    "plot_hist_dates(dates, color=\"gray\")"
   ]
  },
  {
   "cell_type": "markdown",
   "metadata": {},
   "source": [
    "# Plot cumulative Dates"
   ]
  },
  {
   "cell_type": "code",
   "execution_count": 58,
   "metadata": {},
   "outputs": [],
   "source": [
    "def plot_cumulative_dates(dates, figsize = (4,6),\n",
    "                         savepath=\"./figures/dumpster/covid19.png\", fs=8,\n",
    "                         date_last = False, days_back=60, color=\"k\",\n",
    "                         scale=\"lin\"):\n",
    "    \"\"\"Plot Cumulaative Dates\"\"\"\n",
    "    if not date_last:\n",
    "        today = date.today()\n",
    "    date_bins = [today -  timedelta(days=i) for i in range(days_back, -1, -1)]\n",
    "    date_bins = [np.datetime64(d) for d in date_bins]\n",
    "    counts = dates.value_counts(bins=date_bins, sort=False)\n",
    "    cum_counts = np.cumsum(counts.values)\n",
    "    \n",
    "    label = f\"Available \\nSARS-CoV-2 \\nGenomes \\n(n={cum_counts[-1]})\"\n",
    "    \n",
    "    plt.figure(figsize=figsize)\n",
    "    ax=plt.gca()\n",
    "    ax.plot(date_bins[:-1], cum_counts, \"o-\",\n",
    "           color=color)\n",
    "    ax.set_xlabel(\"Date\", fontsize=fs)\n",
    "    ax.set_ylabel(\"Cumulative Count\", fontsize=fs)\n",
    "    plt.xticks(rotation=30, ha='right')\n",
    "    \n",
    "    ax.text(0.1, 0.95, label, horizontalalignment='left',      \n",
    "       verticalalignment='top', transform=ax.transAxes,\n",
    "       fontsize=fs)\n",
    "    ax.set_yscale(scale)\n",
    "    \n",
    "    if len(savepath)>0:\n",
    "        plt.savefig(savepath, bbox_inches = 'tight', pad_inches = 0, dpi=200)\n",
    "        print(f\"Saved to {savepath}\")\n",
    "    plt.show()"
   ]
  },
  {
   "cell_type": "code",
   "execution_count": 64,
   "metadata": {},
   "outputs": [
    {
     "name": "stdout",
     "output_type": "stream",
     "text": [
      "Saved to ./figures/dumpster/covid19_cum.png\n"
     ]
    },
    {
     "data": {
      "image/png": "[encoded data removed]",
      "text/plain": [
       "<Figure size 432x288 with 1 Axes>"
      ]
     },
     "metadata": {
      "needs_background": "light"
     },
     "output_type": "display_data"
    }
   ],
   "source": [
    "dates =  pd.to_datetime(df[\"date_submitted\"])\n",
    "plot_cumulative_dates(dates, figsize=(6,4), fs=12, color=\"gray\",\n",
    "                      savepath=\"./figures/dumpster/covid19_cum.png\",\n",
    "                      days_back=75, scale=\"linear\")"
   ]
  },
  {
   "cell_type": "code",
   "execution_count": null,
   "metadata": {},
   "outputs": [],
   "source": []
  }
 ],
 "metadata": {
  "kernelspec": {
   "display_name": "Python 3",
   "language": "python",
   "name": "python3"
  },
  "language_info": {
   "codemirror_mode": {
    "name": "ipython",
    "version": 3
   },
   "file_extension": ".py",
   "mimetype": "text/x-python",
   "name": "python",
   "nbconvert_exporter": "python",
   "pygments_lexer": "ipython3",
   "version": "3.7.4"
  }
 },
 "nbformat": 4,
 "nbformat_minor": 4
}
