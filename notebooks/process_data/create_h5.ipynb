{
 "cells": [
  {
   "cell_type": "markdown",
   "metadata": {},
   "source": [
    "# Combine all fasta into one big .hdf5 file\n",
    "@author Harald Ringbauer, March 2020"
   ]
  },
  {
   "cell_type": "code",
   "execution_count": 3,
   "metadata": {},
   "outputs": [
    {
     "name": "stdout",
     "output_type": "stream",
     "text": [
      "Current machine: compute-e-16-233.o2.rc.hms.harvard.edu\n",
      "HSM Computational partition detected.\n",
      "/n/groups/reich/hringbauer/git/covid19_data\n"
     ]
    }
   ],
   "source": [
    "import numpy as np\n",
    "import os as os\n",
    "import sys as sys\n",
    "import multiprocessing as mp\n",
    "import pandas as pd\n",
    "import socket\n",
    "import matplotlib.pyplot as plt\n",
    "from itertools import groupby\n",
    "from shutil import which\n",
    "import os\n",
    "import re as re\n",
    "import h5py\n",
    "\n",
    "### Pick the right path (whether on cluster or at home)\n",
    "socket_name = socket.gethostname()\n",
    "print(f\"Current machine: {socket_name}\")\n",
    "if socket_name == \"DESKTOP-5RJD9NC\":\n",
    "    path = \"/gitProjects/covid19_data\"   # The Path on Harald's machine\n",
    "if socket_name.startswith(\"compute-\"):\n",
    "    print(\"HSM Computational partition detected.\")\n",
    "    path = \"/n/groups/reich/hringbauer/git/covid19_data/\"  # The Path on Midway Cluster\n",
    "else: \n",
    "    raise RuntimeWarning(\"Not compatible machine. Check!!\")\n",
    "    \n",
    "### Check whether required bins are available\n",
    "req_bins = [\"mafft\"] \n",
    "for b in req_bins:\n",
    "    s = which(b)\n",
    "    if not s:\n",
    "        print(f\"Make sure to install {b} and have in path. I cannot find it!\")\n",
    "        \n",
    "os.chdir(path)  # Set the right Path (in line with Atom default)\n",
    "print(os.getcwd())\n",
    "\n",
    "sys.path.append(\"./python3/\")\n",
    "from manipulate_fasta import fasta_iter_raw, fasta_iter"
   ]
  },
  {
   "cell_type": "markdown",
   "metadata": {},
   "source": [
    "## Define Key Functions"
   ]
  },
  {
   "cell_type": "code",
   "execution_count": 17,
   "metadata": {},
   "outputs": [],
   "source": [
    "def load_aligned_seq(fasta_path, align_id=\"Wuhan-Hu-1\"):\n",
    "    \"\"\"Load Aligned Sequence fasta.\n",
    "    Check against align_id and lgth.\n",
    "    Return String\"\"\"\n",
    "    if not os.path.exists(fasta_path):\n",
    "        raise RuntimeWarning(f\"Path does not exist: {fasta_path}\")\n",
    "    fiter = fasta_iter(fasta_path)\n",
    "    iid_re, _ = next(fiter)\n",
    "    \n",
    "    if len(align_id)>0:\n",
    "        if not (align_id in iid_re):\n",
    "            raise RuntimeWarning(f\"Reference ID {align_id} does not match {iid_re}\")\n",
    "    iid, seq = next(fiter)  # Get the Meat\n",
    "    return iid, seq\n",
    "\n",
    "def combine_fasta_alignments(paths, align_id=\"Wuhan-Hu-1\"):\n",
    "    \"\"\"Load, and combine all the paths \"\"\"\n",
    "    n = len(paths)\n",
    "    \n",
    "    _, seq = load_aligned_seq(paths[0], align_id=align_id)\n",
    "    k = len(seq)\n",
    "    \n",
    "    seqs = np.empty((n,k), dtype=\"|S1\")  # Create place holder for all sequences\n",
    "    iids = np.empty(n, dtype=object) # Place holder for the iids\n",
    "    \n",
    "    for i, path in enumerate(paths):\n",
    "        iid, seq = load_aligned_seq(path, align_id=align_id)\n",
    "        iids[i], seqs[i,:] = iid, list(seq) # Typecast into list so assignment works\n",
    "    return iids, seqs\n",
    "\n",
    "#######################################\n",
    "#######################################\n",
    "\n",
    "def post_process_counts(ct, drop=[b\"n\", b\"-\"]):\n",
    "    \"\"\"Post-process Pandas value Counts.\n",
    "    drop: What allele to drop and not to count\"\"\"\n",
    "    ct = ct.drop(labels = drop, errors=\"ignore\")\n",
    "    if len(ct)==1:\n",
    "        gt_ct = [ct.values[0], 0]\n",
    "        alleles = [ct.index[0], \"\"]\n",
    "    else:\n",
    "        gt_ct = [ct.values[0], ct.values[1]]\n",
    "        alleles = [ct.index[0], ct.index[1]]\n",
    "    return gt_ct, alleles\n",
    "\n",
    "def produce_allele_stats(seq, drop=[b\"n\", b\"-\"], loci=[],\n",
    "                         decode=True):\n",
    "    \"\"\"Produce allele counts for major/minor allele\n",
    "    loci: Which Loci to analyze\n",
    "    decode: Whether to decode S1 strings in output\"\"\"\n",
    "    counts = []\n",
    "    \n",
    "    if len(loci)==0:\n",
    "        k = np.shape(seqs)[1]\n",
    "        loci = range(0,k)\n",
    "        print(f\"Running all Loci: n={len(loci)}\")\n",
    "        \n",
    "    ref_count, alt_count = np.zeros(len(loci), dtype=\"int\"), np.zeros(len(loci), dtype=\"int\")\n",
    "    ref, alt  =  np.empty(len(loci), dtype=\"|S1\"), np.empty(len(loci), dtype=\"|S1\")\n",
    "    \n",
    "    for i,l in enumerate(loci):\n",
    "        ct = pd.value_counts(seqs[:,l])\n",
    "        gts_c, alleles = post_process_counts(ct, drop=drop)\n",
    "        ref_count[i], alt_count[i] = gts_c\n",
    "        ref[i], alt[i] = alleles\n",
    "    \n",
    "    df = pd.DataFrame({\"refcount\":ref_count, \"altcount\":alt_count, \n",
    "                  \"ref\":ref, \"alt\":alt, \"pos\":loci})\n",
    "    if decode:\n",
    "        df['ref'] = df['ref'].str.decode(\"utf-8\")\n",
    "        df['alt'] = df['alt'].str.decode(\"utf-8\")\n",
    "    return df\n",
    "\n",
    "####################################################\n",
    "####################################################\n",
    "### Manipulate Sequences and extract Info\n",
    "\n",
    "def extract_idcs(seqs, pos, der=\"g\"):\n",
    "    \"\"\"Extract idcs where seqs is allele \n",
    "    der on position pos. Return list of idcs\"\"\"\n",
    "    idcs = seqs[:,pos] == der\n",
    "    return idcs\n",
    "\n",
    "def give_idx_deletion(seqs, deletion, del_str=b'n', mis_frac=0.75):\n",
    "    \"\"\"Return iid of Deletion\"\"\"\n",
    "    seqs_del = seqs[:,deletion] # Extract the Sequences where there is a deletion\n",
    "    idx = seqs_del == del_str\n",
    "    print(f\"Average Rate of n: {np.mean(idx):.4f}\")\n",
    "    sum_n = np.sum(idx, axis=1)\n",
    "    iid_idx = sum_n > (len(deletion) * mis_frac)\n",
    "    print(f\"Found: {np.sum(iid_idx)} / {len(iid_idx)} Individuals\")\n",
    "    return  iid_idx, sum_n\n",
    "\n",
    "#######################################################\n",
    "\n",
    "def extract_var_df(df, min_count=1500, maf=0.05):\n",
    "    \"\"\"Extract and return Dataframe with MAF > maf\"\"\"\n",
    "    tot_count = df1[\"altcount\"] + df1[\"refcount\"]\n",
    "    idx = (df1[\"altcount\"] / tot_count > 0.05) &  (tot_count>min_count)\n",
    "\n",
    "    print(f\"Found {np.sum(idx)} Variants with MAF>{maf}\")\n",
    "    df_var = df1[idx].copy()\n",
    "\n",
    "    df_var[\"totcount\"] = df_var[\"refcount\"] + df_var[\"altcount\"]\n",
    "    df_var[\"maf\"] = df_var[\"altcount\"]/df_var[\"totcount\"]\n",
    "    return df_var\n",
    "\n",
    "########################################################\n",
    "########################################################\n",
    "\n",
    "def save_h5(seqs, iids, path, output=True):\n",
    "        \"\"\"Create a new HDF5 File with Sequence Data.\n",
    "        Each sequence entry is saved as a single char.\n",
    "        seqs: Genomic Data: [k,l] array\n",
    "        iids: IIDs to save into HDF5.\n",
    "        path: Where to save the HDF5 to\"\"\"\n",
    "        k, l = np.shape(seqs)  # Nr of Individuals and Nr of Loci\n",
    "        assert(k == len(iids)) ## Sanity Chec\n",
    "        \n",
    "        max_len = np.max([len(iid) for iid in iids]) # Longest iid\n",
    "\n",
    "        if os.path.exists(path):  # Do a Deletion of existing File there\n",
    "            os.remove(path)\n",
    "            \n",
    "        dt = h5py.special_dtype(vlen=str)  # To have no problem with saving\n",
    "\n",
    "        with h5py.File(path, 'w') as f0:\n",
    "            ### Create all the Groups\n",
    "            f_gt = f0.create_dataset(\"gt\", (k,l), dtype='|S1')\n",
    "            f_samples = f0.create_dataset(\"samples\", (k,), dtype=dt)\n",
    "\n",
    "            ### Save the Data\n",
    "            f_gt[:] = seqs.astype(\"|S1\")\n",
    "            f_samples[:] = np.array(iids)   #.astype(\"S\" + max_len)\n",
    "\n",
    "        if output == True:\n",
    "            print(f\"Successfully saved {k} individuals to: {path}\")"
   ]
  },
  {
   "cell_type": "markdown",
   "metadata": {},
   "source": [
    "# Run and Combine"
   ]
  },
  {
   "cell_type": "code",
   "execution_count": 15,
   "metadata": {},
   "outputs": [
    {
     "name": "stdout",
     "output_type": "stream",
     "text": [
      "Will load 4954 Sequences from ./output/single_seq_aligned2.tsv\n",
      "CPU times: user 33.3 ms, sys: 4.02 ms, total: 37.3 ms\n",
      "Wall time: 36.2 ms\n"
     ]
    }
   ],
   "source": [
    "%%time\n",
    "aligned_path_fasta = \"./output/single_seq_aligned2.tsv\"\n",
    "\n",
    "df = pd.read_csv(aligned_path_fasta, sep=\"\\t\")\n",
    "df = df[df[\"include\"]==True].copy()\n",
    "print(f\"Will load {len(df)} Sequences from {aligned_path_fasta}\")\n",
    "### Manually filling in (next iteration has it automatic)\n",
    "#df[\"aligned_path\"] = \"./output/singleseq_aligned/\" + df[\"iid_clean\"] + \".fasta\"\n",
    "###df.to_csv(aligned_path_fasta, sep=\"\\t\", index=False)"
   ]
  },
  {
   "cell_type": "code",
   "execution_count": 18,
   "metadata": {},
   "outputs": [
    {
     "name": "stdout",
     "output_type": "stream",
     "text": [
      "CPU times: user 10.3 s, sys: 357 ms, total: 10.7 s\n",
      "Wall time: 13.6 s\n"
     ]
    }
   ],
   "source": [
    "%%time\n",
    "paths = df[\"aligned_path\"][:]\n",
    "iids, seqs = combine_fasta_alignments(paths, align_id=\"Wuhan-Hu-1\")"
   ]
  },
  {
   "cell_type": "markdown",
   "metadata": {},
   "source": [
    "# Create HDF5 of Covid-19 sequences, with iids!"
   ]
  },
  {
   "cell_type": "markdown",
   "metadata": {},
   "source": [
    "### Translate IIDs to original IIDs"
   ]
  },
  {
   "cell_type": "code",
   "execution_count": 19,
   "metadata": {},
   "outputs": [
    {
     "name": "stdout",
     "output_type": "stream",
     "text": [
      "Successfully saved 4954 individuals to: ./output/h5/covid_seqs.h5\n",
      "CPU times: user 62.7 ms, sys: 311 ms, total: 374 ms\n",
      "Wall time: 12.9 s\n"
     ]
    }
   ],
   "source": [
    "%%time\n",
    "save_h5(seqs, iids, path=\"./output/h5/covid_seqs.h5\")"
   ]
  },
  {
   "cell_type": "markdown",
   "metadata": {},
   "source": [
    "# Run and Save Allelic Frequency Spectrum (SNPs)"
   ]
  },
  {
   "cell_type": "code",
   "execution_count": 20,
   "metadata": {},
   "outputs": [
    {
     "name": "stdout",
     "output_type": "stream",
     "text": [
      "Running all Loci: n=29903\n",
      "CPU times: user 56.4 s, sys: 414 ms, total: 56.8 s\n",
      "Wall time: 56.2 s\n"
     ]
    }
   ],
   "source": [
    "%%time\n",
    "df1 = produce_allele_stats(seqs, loci=[], drop=[b\"-\", b\"n\"])"
   ]
  },
  {
   "cell_type": "code",
   "execution_count": 21,
   "metadata": {},
   "outputs": [
    {
     "name": "stdout",
     "output_type": "stream",
     "text": [
      "Saved 29903 Loci Statistics to ./output/tables/allele_spectrum.tsv\n"
     ]
    }
   ],
   "source": [
    "savepath = \"./output/tables/allele_spectrum.tsv\"\n",
    "df1.to_csv(savepath, sep=\"\\t\", index=False)\n",
    "print(f\"Saved {len(df1)} Loci Statistics to {savepath}\")"
   ]
  },
  {
   "cell_type": "code",
   "execution_count": 22,
   "metadata": {},
   "outputs": [],
   "source": [
    "#savepath=\"./figures/share/sprotein.png\"\n",
    "def plot_ref_alt(df1, savepath=\"\", xlim=[], leg_loc=\"center left\",\n",
    "                title=\"\"):\n",
    "    \"\"\"Plot Reference and Alt Count along the genome\"\"\"\n",
    "    plt.figure(figsize=(8,4))\n",
    "    ax=plt.gca()\n",
    "    ax.plot(df1[\"refcount\"], \"o\", label=\"Ref Allele Count\", ms=4)\n",
    "    ax.plot(df1[\"altcount\"], \"o\", label=\"Alt Allele Count\", ms=4)\n",
    "    ax.set_xlabel(\"Reference Position [Wuhan-Hu-1]\")\n",
    "    ax.set_ylabel(\"Count\")\n",
    "    ax.legend(loc=leg_loc)\n",
    "    if len(xlim)>0:\n",
    "        ax.set_xlim(xlim)\n",
    "    if len(savepath)>0:\n",
    "        plt.savefig(savepath, bbox_inches = 'tight', pad_inches = 0, dpi=300)\n",
    "        print(f\"Saved to {savepath}\")\n",
    "    if len(title)>0:\n",
    "        ax.set_title(title)\n",
    "    plt.show()"
   ]
  },
  {
   "cell_type": "code",
   "execution_count": 23,
   "metadata": {},
   "outputs": [
    {
     "name": "stdout",
     "output_type": "stream",
     "text": [
      "Saved to ./figures/dumpster/zoom_in_s.png\n"
     ]
    },
    {
     "data": {
      "image/png": "[encoded data removed]",
      "text/plain": [
       "<Figure size 576x288 with 1 Axes>"
      ]
     },
     "metadata": {
      "needs_background": "light"
     },
     "output_type": "display_data"
    }
   ],
   "source": [
    "#plot_ref_alt(df1, xlim=[21400,25400], title=\"Zoom In S Protein\",\n",
    "#             savepath = \"./figures/dumpster/zoom_in_s.png\")\n",
    "plot_ref_alt(df1, xlim=[22000,23600], title=\"Zoom In S Protein\",\n",
    "             savepath = \"./figures/dumpster/zoom_in_s.png\")\n",
    "#plot_ref_alt(df1, xlim=[22600,23200], title=\"Zoom In S Protein Deletion?\")"
   ]
  },
  {
   "cell_type": "markdown",
   "metadata": {},
   "source": [
    "# Get idx of Deletions./figures/"
   ]
  },
  {
   "cell_type": "code",
   "execution_count": 77,
   "metadata": {},
   "outputs": [
    {
     "name": "stdout",
     "output_type": "stream",
     "text": [
      "Average Rate of n: 0.0660\n",
      "Found: 109 / 1746 Individuals\n",
      "Average Rate of n: 0.0309\n",
      "Found: 47 / 1746 Individuals\n"
     ]
    }
   ],
   "source": [
    "iid_idx, sum_n =give_idx_deletion(seqs, deletion = np.arange(22900,23101))  # Big deletion in S\n",
    "iid_idx, sum_n =give_idx_deletion(seqs, deletion = np.arange(22400,22500))  # Small deletion in S"
   ]
  },
  {
   "cell_type": "code",
   "execution_count": 78,
   "metadata": {},
   "outputs": [
    {
     "data": {
      "image/png": "[encoded data removed]",
      "text/plain": [
       "<Figure size 216x576 with 1 Axes>"
      ]
     },
     "metadata": {
      "needs_background": "light"
     },
     "output_type": "display_data"
    }
   ],
   "source": [
    "plt.figure(figsize=(3,8))\n",
    "ax=plt.gca()\n",
    "ax.hist(sum_n, bins=100, ec=\"k\")\n",
    "ax.set_title(\"Missing Loci per sequence\")\n",
    "plt.show()"
   ]
  },
  {
   "cell_type": "code",
   "execution_count": 79,
   "metadata": {},
   "outputs": [
    {
     "name": "stdout",
     "output_type": "stream",
     "text": [
      "Loaded 1746 Sequences from ./output/single_seq_aligned.tsv\n"
     ]
    }
   ],
   "source": [
    "df = pd.read_csv(aligned_path_fasta, sep=\"\\t\")\n",
    "df = df[df[\"include\"]==True].copy()\n",
    "print(f\"Loaded {len(df)} Sequences from {aligned_path_fasta}\")\n",
    "\n",
    "### Manually filling in (next iteration has it automatic)\n",
    "df[\"aligned_path\"] = \"./output/singleseq_aligned/\" + df[\"iid_clean\"] + \".fasta\""
   ]
  },
  {
   "cell_type": "markdown",
   "metadata": {},
   "source": [
    "# Create the Variants Table \n",
    "Run analyze_sequences to create MAF Table"
   ]
  },
  {
   "cell_type": "code",
   "execution_count": 24,
   "metadata": {},
   "outputs": [
    {
     "name": "stdout",
     "output_type": "stream",
     "text": [
      "Loaded 29903 Loci Statistics from ./output/tables/allele_spectrum.tsv\n",
      "Max Ref Count: 4953\n"
     ]
    }
   ],
   "source": [
    "savepath = \"./output/tables/allele_spectrum.tsv\"\n",
    "df1 = pd.read_csv(savepath, sep=\"\\t\")\n",
    "print(f\"Loaded {len(df1)} Loci Statistics from {savepath}\")\n",
    "mx_ref = np.max(df1[\"refcount\"])\n",
    "print(f\"Max Ref Count: {mx_ref}\")"
   ]
  },
  {
   "cell_type": "code",
   "execution_count": 25,
   "metadata": {},
   "outputs": [
    {
     "name": "stdout",
     "output_type": "stream",
     "text": [
      "Found 17 Variants with MAF>0.05\n"
     ]
    },
    {
     "data": {
      "text/plain": [
       "c>t    5\n",
       "t>c    4\n",
       "g>a    3\n",
       "g>t    3\n",
       "g>c    1\n",
       "a>g    1\n",
       "dtype: int64"
      ]
     },
     "execution_count": 25,
     "metadata": {},
     "output_type": "execute_result"
    }
   ],
   "source": [
    "### Showcase what variants we have\n",
    "var_path = \"./output/tables/variant_maf.tsv\"\n",
    "df_var = pd.read_csv(var_path, sep=\"\\t\")\n",
    "df_var = extract_var_df(df1, min_count = 1500, maf = 0.05)\n",
    "\n",
    "### Which Mutations\n",
    "mutations = df_var[\"ref\"] + \">\" + df_var[\"alt\"]\n",
    "mutations.value_counts()"
   ]
  },
  {
   "cell_type": "code",
   "execution_count": 26,
   "metadata": {},
   "outputs": [
    {
     "data": {
      "text/html": [
       "<div>\n",
       "<style scoped>\n",
       "    .dataframe tbody tr th:only-of-type {\n",
       "        vertical-align: middle;\n",
       "    }\n",
       "\n",
       "    .dataframe tbody tr th {\n",
       "        vertical-align: top;\n",
       "    }\n",
       "\n",
       "    .dataframe thead th {\n",
       "        text-align: right;\n",
       "    }\n",
       "</style>\n",
       "<table border=\"1\" class=\"dataframe\">\n",
       "  <thead>\n",
       "    <tr style=\"text-align: right;\">\n",
       "      <th></th>\n",
       "      <th>refcount</th>\n",
       "      <th>altcount</th>\n",
       "      <th>ref</th>\n",
       "      <th>alt</th>\n",
       "      <th>pos</th>\n",
       "      <th>totcount</th>\n",
       "      <th>maf</th>\n",
       "    </tr>\n",
       "  </thead>\n",
       "  <tbody>\n",
       "    <tr>\n",
       "      <th>240</th>\n",
       "      <td>2548</td>\n",
       "      <td>2251</td>\n",
       "      <td>t</td>\n",
       "      <td>c</td>\n",
       "      <td>240</td>\n",
       "      <td>4799</td>\n",
       "      <td>0.469056</td>\n",
       "    </tr>\n",
       "    <tr>\n",
       "      <th>1058</th>\n",
       "      <td>4222</td>\n",
       "      <td>669</td>\n",
       "      <td>c</td>\n",
       "      <td>t</td>\n",
       "      <td>1058</td>\n",
       "      <td>4891</td>\n",
       "      <td>0.136782</td>\n",
       "    </tr>\n",
       "    <tr>\n",
       "      <th>3036</th>\n",
       "      <td>2574</td>\n",
       "      <td>2346</td>\n",
       "      <td>t</td>\n",
       "      <td>c</td>\n",
       "      <td>3036</td>\n",
       "      <td>4920</td>\n",
       "      <td>0.476829</td>\n",
       "    </tr>\n",
       "    <tr>\n",
       "      <th>8781</th>\n",
       "      <td>4025</td>\n",
       "      <td>895</td>\n",
       "      <td>c</td>\n",
       "      <td>t</td>\n",
       "      <td>8781</td>\n",
       "      <td>4920</td>\n",
       "      <td>0.181911</td>\n",
       "    </tr>\n",
       "    <tr>\n",
       "      <th>11082</th>\n",
       "      <td>4223</td>\n",
       "      <td>687</td>\n",
       "      <td>g</td>\n",
       "      <td>t</td>\n",
       "      <td>11082</td>\n",
       "      <td>4910</td>\n",
       "      <td>0.139919</td>\n",
       "    </tr>\n",
       "    <tr>\n",
       "      <th>14407</th>\n",
       "      <td>2557</td>\n",
       "      <td>2378</td>\n",
       "      <td>t</td>\n",
       "      <td>c</td>\n",
       "      <td>14407</td>\n",
       "      <td>4935</td>\n",
       "      <td>0.481864</td>\n",
       "    </tr>\n",
       "    <tr>\n",
       "      <th>14804</th>\n",
       "      <td>4443</td>\n",
       "      <td>493</td>\n",
       "      <td>c</td>\n",
       "      <td>t</td>\n",
       "      <td>14804</td>\n",
       "      <td>4936</td>\n",
       "      <td>0.099878</td>\n",
       "    </tr>\n",
       "    <tr>\n",
       "      <th>17746</th>\n",
       "      <td>4382</td>\n",
       "      <td>553</td>\n",
       "      <td>c</td>\n",
       "      <td>t</td>\n",
       "      <td>17746</td>\n",
       "      <td>4935</td>\n",
       "      <td>0.112057</td>\n",
       "    </tr>\n",
       "    <tr>\n",
       "      <th>17857</th>\n",
       "      <td>4372</td>\n",
       "      <td>569</td>\n",
       "      <td>a</td>\n",
       "      <td>g</td>\n",
       "      <td>17857</td>\n",
       "      <td>4941</td>\n",
       "      <td>0.115159</td>\n",
       "    </tr>\n",
       "    <tr>\n",
       "      <th>18059</th>\n",
       "      <td>4346</td>\n",
       "      <td>588</td>\n",
       "      <td>c</td>\n",
       "      <td>t</td>\n",
       "      <td>18059</td>\n",
       "      <td>4934</td>\n",
       "      <td>0.119173</td>\n",
       "    </tr>\n",
       "    <tr>\n",
       "      <th>23402</th>\n",
       "      <td>2586</td>\n",
       "      <td>2354</td>\n",
       "      <td>g</td>\n",
       "      <td>a</td>\n",
       "      <td>23402</td>\n",
       "      <td>4940</td>\n",
       "      <td>0.476518</td>\n",
       "    </tr>\n",
       "    <tr>\n",
       "      <th>25562</th>\n",
       "      <td>4103</td>\n",
       "      <td>834</td>\n",
       "      <td>g</td>\n",
       "      <td>t</td>\n",
       "      <td>25562</td>\n",
       "      <td>4937</td>\n",
       "      <td>0.168928</td>\n",
       "    </tr>\n",
       "    <tr>\n",
       "      <th>26143</th>\n",
       "      <td>4396</td>\n",
       "      <td>526</td>\n",
       "      <td>g</td>\n",
       "      <td>t</td>\n",
       "      <td>26143</td>\n",
       "      <td>4922</td>\n",
       "      <td>0.106867</td>\n",
       "    </tr>\n",
       "    <tr>\n",
       "      <th>28143</th>\n",
       "      <td>4030</td>\n",
       "      <td>880</td>\n",
       "      <td>t</td>\n",
       "      <td>c</td>\n",
       "      <td>28143</td>\n",
       "      <td>4910</td>\n",
       "      <td>0.179226</td>\n",
       "    </tr>\n",
       "    <tr>\n",
       "      <th>28880</th>\n",
       "      <td>4111</td>\n",
       "      <td>802</td>\n",
       "      <td>g</td>\n",
       "      <td>a</td>\n",
       "      <td>28880</td>\n",
       "      <td>4913</td>\n",
       "      <td>0.163240</td>\n",
       "    </tr>\n",
       "    <tr>\n",
       "      <th>28881</th>\n",
       "      <td>4118</td>\n",
       "      <td>800</td>\n",
       "      <td>g</td>\n",
       "      <td>a</td>\n",
       "      <td>28881</td>\n",
       "      <td>4918</td>\n",
       "      <td>0.162668</td>\n",
       "    </tr>\n",
       "    <tr>\n",
       "      <th>28882</th>\n",
       "      <td>4118</td>\n",
       "      <td>800</td>\n",
       "      <td>g</td>\n",
       "      <td>c</td>\n",
       "      <td>28882</td>\n",
       "      <td>4918</td>\n",
       "      <td>0.162668</td>\n",
       "    </tr>\n",
       "  </tbody>\n",
       "</table>\n",
       "</div>"
      ],
      "text/plain": [
       "       refcount  altcount ref alt    pos  totcount       maf\n",
       "240        2548      2251   t   c    240      4799  0.469056\n",
       "1058       4222       669   c   t   1058      4891  0.136782\n",
       "3036       2574      2346   t   c   3036      4920  0.476829\n",
       "8781       4025       895   c   t   8781      4920  0.181911\n",
       "11082      4223       687   g   t  11082      4910  0.139919\n",
       "14407      2557      2378   t   c  14407      4935  0.481864\n",
       "14804      4443       493   c   t  14804      4936  0.099878\n",
       "17746      4382       553   c   t  17746      4935  0.112057\n",
       "17857      4372       569   a   g  17857      4941  0.115159\n",
       "18059      4346       588   c   t  18059      4934  0.119173\n",
       "23402      2586      2354   g   a  23402      4940  0.476518\n",
       "25562      4103       834   g   t  25562      4937  0.168928\n",
       "26143      4396       526   g   t  26143      4922  0.106867\n",
       "28143      4030       880   t   c  28143      4910  0.179226\n",
       "28880      4111       802   g   a  28880      4913  0.163240\n",
       "28881      4118       800   g   a  28881      4918  0.162668\n",
       "28882      4118       800   g   c  28882      4918  0.162668"
      ]
     },
     "execution_count": 26,
     "metadata": {},
     "output_type": "execute_result"
    }
   ],
   "source": [
    "df_var"
   ]
  },
  {
   "cell_type": "markdown",
   "metadata": {},
   "source": [
    "### Process Individuals with derived common alleles"
   ]
  },
  {
   "cell_type": "code",
   "execution_count": 27,
   "metadata": {},
   "outputs": [],
   "source": [
    "def create_der_df(df, df_var, seqs):\n",
    "    \"\"\"Modify Dataframe df to contain\n",
    "    derived Variant columns from df_var, \n",
    "    according to seqs\"\"\"\n",
    "    df_der = df.copy()  # Copy from original dataframe\n",
    "    \n",
    "    for index, row in df_var.iterrows():\n",
    "        idcs = extract_idcs(seqs, pos=row[\"pos\"], der=row[\"alt\"].encode())\n",
    "        assert(np.sum(idcs) == row[\"altcount\"])  # Sanity Check\n",
    "        df_der[str(row[\"pos\"])] = idcs \n",
    "    return df_der\n",
    "#idcs = extract_idcs(seqs, pos=23402, der=b\"g\")"
   ]
  },
  {
   "cell_type": "code",
   "execution_count": 29,
   "metadata": {},
   "outputs": [],
   "source": [
    "df_der = create_der_df(df, df_var, seqs)"
   ]
  },
  {
   "cell_type": "code",
   "execution_count": 30,
   "metadata": {},
   "outputs": [
    {
     "name": "stdout",
     "output_type": "stream",
     "text": [
      "Saved 4954 Individuals with derived Data to ./output/tables/derived_common_snps.tsv\n"
     ]
    }
   ],
   "source": [
    "### And now save it\n",
    "savepath = \"./output/tables/derived_common_snps.tsv\"\n",
    "df_der.to_csv(savepath, sep=\"\\t\", index=False)\n",
    "print(f\"Saved {len(df_der)} Individuals with derived Data to {savepath}\")"
   ]
  },
  {
   "cell_type": "markdown",
   "metadata": {},
   "source": [
    "# Area 51"
   ]
  },
  {
   "cell_type": "markdown",
   "metadata": {},
   "source": [
    "### Load single aligned H5 sequence"
   ]
  },
  {
   "cell_type": "code",
   "execution_count": 33,
   "metadata": {},
   "outputs": [
    {
     "name": "stdout",
     "output_type": "stream",
     "text": [
      "Loaded HDF5\n",
      "['gt', 'samples']\n",
      "(4954, 29903)\n"
     ]
    }
   ],
   "source": [
    "path = \"./output/h5/covid_seqs.h5\"\n",
    "f = h5py.File(path, \"r\") # Load for Sanity Check. See below!  \n",
    "print(\"Loaded HDF5\")\n",
    "print(list(f))\n",
    "print(np.shape(f[\"gt\"]))\n",
    "#assert(np.shape(f[\"gt\"])[0]==len(f[\"samples\"]))"
   ]
  },
  {
   "cell_type": "code",
   "execution_count": 122,
   "metadata": {},
   "outputs": [
    {
     "name": "stdout",
     "output_type": "stream",
     "text": [
      "CPU times: user 904 µs, sys: 1 ms, total: 1.91 ms\n",
      "Wall time: 1.92 ms\n"
     ]
    }
   ],
   "source": [
    "%%time\n",
    "iids1 = f[\"gt\"][10,:]"
   ]
  },
  {
   "cell_type": "code",
   "execution_count": 114,
   "metadata": {},
   "outputs": [],
   "source": [
    "df_meta = pd.read_csv(\"./data/apr20/metadata.tsv\", sep=\"\\t\")"
   ]
  },
  {
   "cell_type": "code",
   "execution_count": 116,
   "metadata": {},
   "outputs": [
    {
     "data": {
      "text/plain": [
       "array(['hCoV-19/USA/WA-S88/2020|EPI_ISL_417141|2020-03-01',\n",
       "       'hCoV-19/USA/WA-S89/2020|EPI_ISL_417142|2020-02-29',\n",
       "       'hCoV-19/USA/WA-S87/2020|EPI_ISL_417140|2020-03-01', ...,\n",
       "       'hCoV-19/USA/WA-UW41/2020|EPI_ISL_415606|2020-03-08',\n",
       "       'hCoV-19/USA/WA-UW44/2020|EPI_ISL_415609|2020-03-08',\n",
       "       'hCoV-19/USA/WA-UW43/2020|EPI_ISL_415608|2020-03-08'], dtype=object)"
      ]
     },
     "execution_count": 116,
     "metadata": {},
     "output_type": "execute_result"
    }
   ],
   "source": [
    "samples"
   ]
  },
  {
   "cell_type": "code",
   "execution_count": 87,
   "metadata": {},
   "outputs": [],
   "source": [
    "samples = f[\"samples\"][:]"
   ]
  },
  {
   "cell_type": "code",
   "execution_count": 90,
   "metadata": {},
   "outputs": [],
   "source": [
    "epi = df_meta[\"gisaid_epi_isl\"] "
   ]
  },
  {
   "cell_type": "code",
   "execution_count": 94,
   "metadata": {},
   "outputs": [],
   "source": [
    "epi2 = [s.split(\"|\")[1] for s in samples]"
   ]
  },
  {
   "cell_type": "code",
   "execution_count": 98,
   "metadata": {},
   "outputs": [
    {
     "data": {
      "text/plain": [
       "3343"
      ]
     },
     "execution_count": 98,
     "metadata": {},
     "output_type": "execute_result"
    }
   ],
   "source": [
    "len(set(epi2+list(epi)))"
   ]
  },
  {
   "cell_type": "code",
   "execution_count": 99,
   "metadata": {},
   "outputs": [
    {
     "data": {
      "text/plain": [
       "3325"
      ]
     },
     "execution_count": 99,
     "metadata": {},
     "output_type": "execute_result"
    }
   ],
   "source": [
    "len(f[\"samples\"])"
   ]
  },
  {
   "cell_type": "code",
   "execution_count": 111,
   "metadata": {},
   "outputs": [
    {
     "data": {
      "text/plain": [
       "3323"
      ]
     },
     "execution_count": 111,
     "metadata": {},
     "output_type": "execute_result"
    }
   ],
   "source": [
    "len(df_meta)"
   ]
  },
  {
   "cell_type": "code",
   "execution_count": 109,
   "metadata": {},
   "outputs": [],
   "source": [
    "idx = df_meta[\"strain\"].str.contains('|'.join(samples))"
   ]
  },
  {
   "cell_type": "code",
   "execution_count": 110,
   "metadata": {},
   "outputs": [
    {
     "data": {
      "text/plain": [
       "3322"
      ]
     },
     "execution_count": 110,
     "metadata": {},
     "output_type": "execute_result"
    }
   ],
   "source": [
    "np.sum(idx)"
   ]
  },
  {
   "cell_type": "code",
   "execution_count": 112,
   "metadata": {},
   "outputs": [
    {
     "data": {
      "text/html": [
       "<div>\n",
       "<style scoped>\n",
       "    .dataframe tbody tr th:only-of-type {\n",
       "        vertical-align: middle;\n",
       "    }\n",
       "\n",
       "    .dataframe tbody tr th {\n",
       "        vertical-align: top;\n",
       "    }\n",
       "\n",
       "    .dataframe thead th {\n",
       "        text-align: right;\n",
       "    }\n",
       "</style>\n",
       "<table border=\"1\" class=\"dataframe\">\n",
       "  <thead>\n",
       "    <tr style=\"text-align: right;\">\n",
       "      <th></th>\n",
       "      <th>strain</th>\n",
       "      <th>virus</th>\n",
       "      <th>gisaid_epi_isl</th>\n",
       "      <th>genbank_accession</th>\n",
       "      <th>date</th>\n",
       "      <th>region</th>\n",
       "      <th>country</th>\n",
       "      <th>division</th>\n",
       "      <th>location</th>\n",
       "      <th>country_exposure</th>\n",
       "      <th>...</th>\n",
       "      <th>length</th>\n",
       "      <th>host</th>\n",
       "      <th>age</th>\n",
       "      <th>sex</th>\n",
       "      <th>originating_lab</th>\n",
       "      <th>submitting_lab</th>\n",
       "      <th>authors</th>\n",
       "      <th>url</th>\n",
       "      <th>title</th>\n",
       "      <th>date_submitted</th>\n",
       "    </tr>\n",
       "  </thead>\n",
       "  <tbody>\n",
       "    <tr>\n",
       "      <th>3312</th>\n",
       "      <td>bat/Yunnan/RaTG13/2013</td>\n",
       "      <td>ncov</td>\n",
       "      <td>EPI_ISL_402131</td>\n",
       "      <td>?</td>\n",
       "      <td>2013-07-24</td>\n",
       "      <td>Asia</td>\n",
       "      <td>China</td>\n",
       "      <td>Yunnan</td>\n",
       "      <td>Pu'er</td>\n",
       "      <td>China</td>\n",
       "      <td>...</td>\n",
       "      <td>29855</td>\n",
       "      <td>Rhinolophus affinis</td>\n",
       "      <td>?</td>\n",
       "      <td>Male</td>\n",
       "      <td>Wuhan Institute of Virology, Chinese Academy o...</td>\n",
       "      <td>Wuhan Institute of Virology, Chinese Academy o...</td>\n",
       "      <td>Zhu et al</td>\n",
       "      <td>https://www.gisaid.org</td>\n",
       "      <td>?</td>\n",
       "      <td>2020-01-24</td>\n",
       "    </tr>\n",
       "  </tbody>\n",
       "</table>\n",
       "<p>1 rows × 22 columns</p>\n",
       "</div>"
      ],
      "text/plain": [
       "                      strain virus  gisaid_epi_isl genbank_accession  \\\n",
       "3312  bat/Yunnan/RaTG13/2013  ncov  EPI_ISL_402131                 ?   \n",
       "\n",
       "            date region country division location country_exposure  ...  \\\n",
       "3312  2013-07-24   Asia   China   Yunnan    Pu'er            China  ...   \n",
       "\n",
       "     length                 host  age   sex  \\\n",
       "3312  29855  Rhinolophus affinis    ?  Male   \n",
       "\n",
       "                                        originating_lab  \\\n",
       "3312  Wuhan Institute of Virology, Chinese Academy o...   \n",
       "\n",
       "                                         submitting_lab    authors  \\\n",
       "3312  Wuhan Institute of Virology, Chinese Academy o...  Zhu et al   \n",
       "\n",
       "                         url title date_submitted  \n",
       "3312  https://www.gisaid.org     ?     2020-01-24  \n",
       "\n",
       "[1 rows x 22 columns]"
      ]
     },
     "execution_count": 112,
     "metadata": {},
     "output_type": "execute_result"
    }
   ],
   "source": [
    "df_meta[~idx]"
   ]
  },
  {
   "cell_type": "code",
   "execution_count": 113,
   "metadata": {},
   "outputs": [
    {
     "data": {
      "text/plain": [
       "['hCoV-19/bat/Yunnan/RaTG13/2013|EPI_ISL_402131|2013-07-24']"
      ]
     },
     "execution_count": 113,
     "metadata": {},
     "output_type": "execute_result"
    }
   ],
   "source": [
    "[s for s in samples if \"bat\" in s]"
   ]
  },
  {
   "cell_type": "code",
   "execution_count": 119,
   "metadata": {},
   "outputs": [
    {
     "data": {
      "text/plain": [
       "Human                  3299\n",
       "Manis javanica            9\n",
       "human                     9\n",
       "Environment               4\n",
       "Canine                    1\n",
       "Rhinolophus affinis       1\n",
       "Name: host, dtype: int64"
      ]
     },
     "execution_count": 119,
     "metadata": {},
     "output_type": "execute_result"
    }
   ],
   "source": [
    "df_meta[\"host\"].value_counts()"
   ]
  },
  {
   "cell_type": "code",
   "execution_count": null,
   "metadata": {},
   "outputs": [],
   "source": []
  }
 ],
 "metadata": {
  "kernelspec": {
   "display_name": "Python 3",
   "language": "python",
   "name": "python3"
  },
  "language_info": {
   "codemirror_mode": {
    "name": "ipython",
    "version": 3
   },
   "file_extension": ".py",
   "mimetype": "text/x-python",
   "name": "python",
   "nbconvert_exporter": "python",
   "pygments_lexer": "ipython3",
   "version": "3.7.4"
  }
 },
 "nbformat": 4,
 "nbformat_minor": 4
}
