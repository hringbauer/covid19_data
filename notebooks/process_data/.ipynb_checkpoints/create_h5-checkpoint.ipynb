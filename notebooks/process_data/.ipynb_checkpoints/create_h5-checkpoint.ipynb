{
 "cells": [
  {
   "cell_type": "markdown",
   "metadata": {},
   "source": [
    "# Combine all fasta into one big .hdf5 file\n",
    "@author Harald Ringbauer, March 2020"
   ]
  },
  {
   "cell_type": "code",
   "execution_count": 2,
   "metadata": {},
   "outputs": [
    {
     "name": "stdout",
     "output_type": "stream",
     "text": [
      "Current machine: compute-a-16-161.o2.rc.hms.harvard.edu\n",
      "HSM Computational partition detected.\n",
      "/n/groups/reich/hringbauer/git/covid19_data\n"
     ]
    }
   ],
   "source": [
    "import numpy as np\n",
    "import os as os\n",
    "import sys as sys\n",
    "import multiprocessing as mp\n",
    "import pandas as pd\n",
    "import socket\n",
    "import matplotlib.pyplot as plt\n",
    "from itertools import groupby\n",
    "from shutil import which\n",
    "import os\n",
    "import re as re\n",
    "import h5py\n",
    "\n",
    "### Pick the right path (whether on cluster or at home)\n",
    "socket_name = socket.gethostname()\n",
    "print(f\"Current machine: {socket_name}\")\n",
    "if socket_name == \"DESKTOP-5RJD9NC\":\n",
    "    path = \"/gitProjects/covid19_data\"   # The Path on Harald's machine\n",
    "if socket_name.startswith(\"compute-\"):\n",
    "    print(\"HSM Computational partition detected.\")\n",
    "    path = \"/n/groups/reich/hringbauer/git/covid19_data/\"  # The Path on Midway Cluster\n",
    "else: \n",
    "    raise RuntimeWarning(\"Not compatible machine. Check!!\")\n",
    "    \n",
    "### Check whether required bins are available\n",
    "req_bins = [\"mafft\"] \n",
    "for b in req_bins:\n",
    "    s = which(b)\n",
    "    if not s:\n",
    "        print(f\"Make sure to install {b} and have in path. I cannot find it!\")\n",
    "        \n",
    "os.chdir(path)  # Set the right Path (in line with Atom default)\n",
    "print(os.getcwd())\n",
    "\n",
    "sys.path.append(\"./python3/\")\n",
    "from manipulate_fasta import fasta_iter_raw, fasta_iter"
   ]
  },
  {
   "cell_type": "markdown",
   "metadata": {},
   "source": [
    "## Define Key Functions"
   ]
  },
  {
   "cell_type": "code",
   "execution_count": 57,
   "metadata": {},
   "outputs": [],
   "source": [
    "def load_aligned_seq(fasta_path, align_id=\"Wuhan-Hu-1\"):\n",
    "    \"\"\"Load Aligned Sequence fasta.\n",
    "    Check against align_id and lgth.\n",
    "    Return String\"\"\"\n",
    "    fiter = fasta_iter(fasta_path)\n",
    "    iid_re, _ = next(fiter)\n",
    "    \n",
    "    if len(align_id)>0:\n",
    "        if not (align_id in iid_re):\n",
    "            raise RuntimeWarning(f\"Reference ID {align_id} does not match {iid_re}\")\n",
    "    iid, seq = next(fiter)  # Get the Meat\n",
    "    return iid, seq\n",
    "\n",
    "def combine_fasta_alignments(paths, align_id=\"Wuhan-Hu-1\"):\n",
    "    \"\"\"Load, and combine all the paths \"\"\"\n",
    "    n = len(paths)\n",
    "    \n",
    "    _, seq = load_aligned_seq(paths[0], align_id=align_id)\n",
    "    k = len(seq)\n",
    "    \n",
    "    seqs = np.empty((n,k), dtype=\"|S1\")  # Create place holder for all sequences\n",
    "    iids = np.empty(n, dtype=object) # Place holder for the iids\n",
    "    \n",
    "    for i, path in enumerate(paths):\n",
    "        iid, seq = load_aligned_seq(path, align_id=align_id)\n",
    "        iids[i], seqs[i,:] = iid, list(seq) # Typecast into list so assignment works\n",
    "    return iids, seqs\n",
    "\n",
    "#######################################\n",
    "#######################################\n",
    "\n",
    "def post_process_counts(ct, drop=[b\"n\", b\"-\"]):\n",
    "    \"\"\"Post-process Pandas value Counts.\n",
    "    drop: What allele to drop and not to count\"\"\"\n",
    "    ct = ct.drop(labels = drop, errors=\"ignore\")\n",
    "    if len(ct)==1:\n",
    "        gt_ct = [ct.values[0], 0]\n",
    "        alleles = [ct.index[0], \"\"]\n",
    "    else:\n",
    "        gt_ct = [ct.values[0], ct.values[1]]\n",
    "        alleles = [ct.index[0], ct.index[1]]\n",
    "    return gt_ct, alleles\n",
    "\n",
    "def produce_allele_stats(seq, drop=[b\"n\", b\"-\"], loci=[],\n",
    "                         decode=True):\n",
    "    \"\"\"Produce allele counts for major/minor allele\n",
    "    loci: Which Loci to analyze\n",
    "    decode: Whether to decode S1 strings in output\"\"\"\n",
    "    counts = []\n",
    "    \n",
    "    if len(loci)==0:\n",
    "        k = np.shape(seqs)[1]\n",
    "        loci = range(0,k)\n",
    "        print(f\"Running all Loci: n={len(loci)}\")\n",
    "        \n",
    "    ref_count, alt_count = np.zeros(len(loci), dtype=\"int\"), np.zeros(len(loci), dtype=\"int\")\n",
    "    ref, alt  =  np.empty(len(loci), dtype=\"|S1\"), np.empty(len(loci), dtype=\"|S1\")\n",
    "    \n",
    "    for i,l in enumerate(loci):\n",
    "        ct = pd.value_counts(seqs[:,l])\n",
    "        gts_c, alleles = post_process_counts(ct, drop=drop)\n",
    "        ref_count[i], alt_count[i] = gts_c\n",
    "        ref[i], alt[i] = alleles\n",
    "    \n",
    "    df = pd.DataFrame({\"refcount\":ref_count, \"altcount\":alt_count, \n",
    "                  \"ref\":ref, \"alt\":alt, \"pos\":loci})\n",
    "    if decode:\n",
    "        df['ref'] = df['ref'].str.decode(\"utf-8\")\n",
    "        df['alt'] = df['alt'].str.decode(\"utf-8\")\n",
    "    return df\n",
    "\n",
    "####################################################\n",
    "####################################################\n",
    "### Manipulate Sequences and extract Info\n",
    "\n",
    "def extract_idcs(seqs, pos, der=\"g\"):\n",
    "    \"\"\"Extract idcs where seqs is allele \n",
    "    der on position pos. Return list of idcs\"\"\"\n",
    "    idcs = seqs[:,pos] == der\n",
    "    return idcs\n",
    "\n",
    "def give_idx_deletion(seqs, deletion, del_str=b'n', mis_frac=0.75):\n",
    "    \"\"\"Return iid of Deletion\"\"\"\n",
    "    seqs_del = seqs[:,deletion] # Extract the Sequences where there is a deletion\n",
    "    idx = seqs_del == del_str\n",
    "    print(f\"Average Rate of n: {np.mean(idx):.4f}\")\n",
    "    sum_n = np.sum(idx, axis=1)\n",
    "    iid_idx = sum_n > (len(deletion) * mis_frac)\n",
    "    print(f\"Found: {np.sum(iid_idx)} / {len(iid_idx)} Individuals\")\n",
    "    return  iid_idx, sum_n\n",
    "\n",
    "#######################################################\n",
    "\n",
    "def extract_var_df(df, min_count=1500, maf=0.05):\n",
    "    \"\"\"Extract and return Dataframe with MAF > maf\"\"\"\n",
    "    tot_count = df1[\"altcount\"] + df1[\"refcount\"]\n",
    "    idx = (df1[\"altcount\"] / tot_count > 0.05) &  (tot_count>min_count)\n",
    "\n",
    "    print(f\"Found {np.sum(idx)} Variants with MAF>{maf}\")\n",
    "    df_var = df1[idx].copy()\n",
    "\n",
    "    df_var[\"totcount\"] = df_var[\"refcount\"] + df_var[\"altcount\"]\n",
    "    df_var[\"maf\"] = df_var[\"altcount\"]/df_var[\"totcount\"]\n",
    "    return df_var\n",
    "\n",
    "########################################################\n",
    "########################################################\n",
    "\n",
    "def save_h5(seqs, iids, path, output=True):\n",
    "        \"\"\"Create a new HDF5 File with Sequence Data\n",
    "        seqs: Genomic Data: [k,l] array\n",
    "        iids: IIDs to save into HDF5.\n",
    "        path: Where to save the HDF5 to\"\"\"\n",
    "        k, l = np.shape(seqs)  # Nr of Individuals and Nr of Loci\n",
    "        assert(k == len(iids)) ## Sanity Chec\n",
    "        \n",
    "        max_len = np.max([len(iid) for iid in iids]) # Longest iid\n",
    "\n",
    "        if os.path.exists(path):  # Do a Deletion of existing File there\n",
    "            os.remove(path)\n",
    "            \n",
    "        dt = h5py.special_dtype(vlen=str)  # To have no problem with saving\n",
    "\n",
    "        with h5py.File(path, 'w') as f0:\n",
    "            ### Create all the Groups\n",
    "            f_gt = f0.create_dataset(\"gt\", (k,l), dtype='|S1')\n",
    "            f_samples = f0.create_dataset(\"samples\", (k,), dtype=dt)\n",
    "\n",
    "            ### Save the Data\n",
    "            f_gt[:] = seqs.astype(\"|S1\")\n",
    "            f_samples[:] = np.array(iids)   #.astype(\"S\" + max_len)\n",
    "\n",
    "        if output == True:\n",
    "            print(f\"Successfully saved {k} individuals to: {path}\")"
   ]
  },
  {
   "cell_type": "markdown",
   "metadata": {},
   "source": [
    "# Run and Combine"
   ]
  },
  {
   "cell_type": "code",
   "execution_count": 58,
   "metadata": {},
   "outputs": [
    {
     "name": "stdout",
     "output_type": "stream",
     "text": [
      "Will load 3325 Sequences from ./output/single_seq_aligned.tsv\n",
      "CPU times: user 24.1 ms, sys: 5.99 ms, total: 30.1 ms\n",
      "Wall time: 28.3 ms\n"
     ]
    }
   ],
   "source": [
    "%%time\n",
    "aligned_path_fasta = \"./output/single_seq_aligned.tsv\"\n",
    "\n",
    "df = pd.read_csv(aligned_path_fasta, sep=\"\\t\")\n",
    "df = df[df[\"include\"]==True].copy()\n",
    "print(f\"Will load {len(df)} Sequences from {aligned_path_fasta}\")\n",
    "### Manually filling in (next iteration has it automatic)\n",
    "#df[\"aligned_path\"] = \"./output/singleseq_aligned/\" + df[\"iid_clean\"] + \".fasta\"\n",
    "###df.to_csv(aligned_path_fasta, sep=\"\\t\", index=False)"
   ]
  },
  {
   "cell_type": "code",
   "execution_count": 59,
   "metadata": {},
   "outputs": [
    {
     "name": "stdout",
     "output_type": "stream",
     "text": [
      "CPU times: user 7.96 s, sys: 177 ms, total: 8.14 s\n",
      "Wall time: 9.93 s\n"
     ]
    }
   ],
   "source": [
    "%%time\n",
    "paths = df[\"aligned_path\"][:]\n",
    "iids, seqs = combine_fasta_alignments(paths, align_id=\"Wuhan-Hu-1\")"
   ]
  },
  {
   "cell_type": "markdown",
   "metadata": {},
   "source": [
    "# Create HDF5 of Covid-19 sequences, with iids!"
   ]
  },
  {
   "cell_type": "markdown",
   "metadata": {},
   "source": [
    "### Translate IIDs to original IIDs"
   ]
  },
  {
   "cell_type": "code",
   "execution_count": 65,
   "metadata": {},
   "outputs": [
    {
     "name": "stdout",
     "output_type": "stream",
     "text": [
      "Successfully saved 3325 individuals to: ./output/h5/covid_seqs.h5\n"
     ]
    }
   ],
   "source": [
    "save_h5(seqs, iids, path=\"./output/h5/covid_seqs.h5\")"
   ]
  },
  {
   "cell_type": "markdown",
   "metadata": {},
   "source": [
    "# Run and Save Allelic Frequency Spectrum (SNPs)"
   ]
  },
  {
   "cell_type": "code",
   "execution_count": 12,
   "metadata": {},
   "outputs": [
    {
     "name": "stdout",
     "output_type": "stream",
     "text": [
      "Running all Loci: n=29903\n",
      "CPU times: user 1min 1s, sys: 376 ms, total: 1min 1s\n",
      "Wall time: 1min 1s\n"
     ]
    }
   ],
   "source": [
    "%%time\n",
    "df1 = produce_allele_stats(seqs, loci=[], drop=[b\"-\", b\"n\"])"
   ]
  },
  {
   "cell_type": "code",
   "execution_count": 13,
   "metadata": {},
   "outputs": [
    {
     "name": "stdout",
     "output_type": "stream",
     "text": [
      "Saved 29903 Loci Statistics to ./output/tables/allele_spectrum.tsv\n"
     ]
    }
   ],
   "source": [
    "savepath = \"./output/tables/allele_spectrum.tsv\"\n",
    "df1.to_csv(savepath, sep=\"\\t\", index=False)\n",
    "print(f\"Saved {len(df1)} Loci Statistics to {savepath}\")"
   ]
  },
  {
   "cell_type": "code",
   "execution_count": 14,
   "metadata": {},
   "outputs": [],
   "source": [
    "#savepath=\"./figures/share/sprotein.png\"\n",
    "def plot_ref_alt(df1, savepath=\"\", xlim=[], leg_loc=\"center left\",\n",
    "                title=\"\"):\n",
    "    \"\"\"Plot Reference and Alt Count along the genome\"\"\"\n",
    "    plt.figure(figsize=(8,4))\n",
    "    ax=plt.gca()\n",
    "    ax.plot(df1[\"refcount\"], \"o\", label=\"Ref Allele Count\", ms=4)\n",
    "    ax.plot(df1[\"altcount\"], \"o\", label=\"Alt Allele Count\", ms=4)\n",
    "    ax.set_xlabel(\"Reference Position [Wuhan-Hu-1]\")\n",
    "    ax.set_ylabel(\"Count\")\n",
    "    ax.legend(loc=leg_loc)\n",
    "    if len(xlim)>0:\n",
    "        ax.set_xlim(xlim)\n",
    "    if len(savepath)>0:\n",
    "        plt.savefig(savepath, bbox_inches = 'tight', pad_inches = 0, dpi=300)\n",
    "        print(f\"Saved to {savepath}\")\n",
    "    if len(title)>0:\n",
    "        ax.set_title(title)\n",
    "    plt.show()"
   ]
  },
  {
   "cell_type": "code",
   "execution_count": 15,
   "metadata": {},
   "outputs": [
    {
     "name": "stdout",
     "output_type": "stream",
     "text": [
      "Saved to ./figures/dumpster/zoom_in_s.png\n"
     ]
    },
    {
     "data": {
      "image/png": "[encoded data removed]",
      "text/plain": [
       "<Figure size 576x288 with 1 Axes>"
      ]
     },
     "metadata": {
      "needs_background": "light"
     },
     "output_type": "display_data"
    }
   ],
   "source": [
    "#plot_ref_alt(df1, xlim=[21400,25400], title=\"Zoom In S Protein\",\n",
    "#             savepath = \"./figures/dumpster/zoom_in_s.png\")\n",
    "plot_ref_alt(df1, xlim=[22000,23600], title=\"Zoom In S Protein\",\n",
    "             savepath = \"./figures/dumpster/zoom_in_s.png\")\n",
    "#plot_ref_alt(df1, xlim=[22600,23200], title=\"Zoom In S Protein Deletion?\")"
   ]
  },
  {
   "cell_type": "markdown",
   "metadata": {},
   "source": [
    "# Get idx of Deletions./figures/"
   ]
  },
  {
   "cell_type": "code",
   "execution_count": 77,
   "metadata": {},
   "outputs": [
    {
     "name": "stdout",
     "output_type": "stream",
     "text": [
      "Average Rate of n: 0.0660\n",
      "Found: 109 / 1746 Individuals\n",
      "Average Rate of n: 0.0309\n",
      "Found: 47 / 1746 Individuals\n"
     ]
    }
   ],
   "source": [
    "iid_idx, sum_n =give_idx_deletion(seqs, deletion = np.arange(22900,23101))  # Big deletion in S\n",
    "iid_idx, sum_n =give_idx_deletion(seqs, deletion = np.arange(22400,22500))  # Small deletion in S"
   ]
  },
  {
   "cell_type": "code",
   "execution_count": 78,
   "metadata": {},
   "outputs": [
    {
     "data": {
      "image/png": "[encoded data removed]",
      "text/plain": [
       "<Figure size 216x576 with 1 Axes>"
      ]
     },
     "metadata": {
      "needs_background": "light"
     },
     "output_type": "display_data"
    }
   ],
   "source": [
    "plt.figure(figsize=(3,8))\n",
    "ax=plt.gca()\n",
    "ax.hist(sum_n, bins=100, ec=\"k\")\n",
    "ax.set_title(\"Missing Loci per sequence\")\n",
    "plt.show()"
   ]
  },
  {
   "cell_type": "code",
   "execution_count": 79,
   "metadata": {},
   "outputs": [
    {
     "name": "stdout",
     "output_type": "stream",
     "text": [
      "Loaded 1746 Sequences from ./output/single_seq_aligned.tsv\n"
     ]
    }
   ],
   "source": [
    "df = pd.read_csv(aligned_path_fasta, sep=\"\\t\")\n",
    "df = df[df[\"include\"]==True].copy()\n",
    "print(f\"Loaded {len(df)} Sequences from {aligned_path_fasta}\")\n",
    "\n",
    "### Manually filling in (next iteration has it automatic)\n",
    "df[\"aligned_path\"] = \"./output/singleseq_aligned/\" + df[\"iid_clean\"] + \".fasta\""
   ]
  },
  {
   "cell_type": "markdown",
   "metadata": {},
   "source": [
    "# Create the Variants Table \n",
    "Run analyze_sequences to create MAF Table"
   ]
  },
  {
   "cell_type": "code",
   "execution_count": 28,
   "metadata": {},
   "outputs": [
    {
     "name": "stdout",
     "output_type": "stream",
     "text": [
      "Loaded 29903 Loci Statistics from ./output/tables/allele_spectrum.tsv\n",
      "Max Ref Count: 3325\n"
     ]
    }
   ],
   "source": [
    "savepath = \"./output/tables/allele_spectrum.tsv\"\n",
    "df1 = pd.read_csv(savepath, sep=\"\\t\")\n",
    "print(f\"Loaded {len(df1)} Loci Statistics from {savepath}\")\n",
    "mx_ref = np.max(df1[\"refcount\"])\n",
    "print(f\"Max Ref Count: {mx_ref}\")"
   ]
  },
  {
   "cell_type": "code",
   "execution_count": 31,
   "metadata": {},
   "outputs": [
    {
     "name": "stdout",
     "output_type": "stream",
     "text": [
      "Found 18 Variants with MAF>0.05\n"
     ]
    },
    {
     "data": {
      "text/plain": [
       "c>t    9\n",
       "g>t    3\n",
       "a>g    2\n",
       "g>a    2\n",
       "g>c    1\n",
       "t>c    1\n",
       "dtype: int64"
      ]
     },
     "execution_count": 31,
     "metadata": {},
     "output_type": "execute_result"
    }
   ],
   "source": [
    "### Showcase what variants we have\n",
    "var_path = \"./output/tables/variant_maf.tsv\"\n",
    "df_var = pd.read_csv(var_path, sep=\"\\t\")\n",
    "df_var = extract_var_df(df1, min_count = 1500, maf = 0.05)\n",
    "\n",
    "### Which Mutations\n",
    "mutations = df_var[\"ref\"] + \">\" + df_var[\"alt\"]\n",
    "mutations.value_counts()"
   ]
  },
  {
   "cell_type": "code",
   "execution_count": 24,
   "metadata": {},
   "outputs": [
    {
     "data": {
      "text/html": [
       "<div>\n",
       "<style scoped>\n",
       "    .dataframe tbody tr th:only-of-type {\n",
       "        vertical-align: middle;\n",
       "    }\n",
       "\n",
       "    .dataframe tbody tr th {\n",
       "        vertical-align: top;\n",
       "    }\n",
       "\n",
       "    .dataframe thead th {\n",
       "        text-align: right;\n",
       "    }\n",
       "</style>\n",
       "<table border=\"1\" class=\"dataframe\">\n",
       "  <thead>\n",
       "    <tr style=\"text-align: right;\">\n",
       "      <th></th>\n",
       "      <th>refcount</th>\n",
       "      <th>altcount</th>\n",
       "      <th>ref</th>\n",
       "      <th>alt</th>\n",
       "      <th>pos</th>\n",
       "      <th>totcount</th>\n",
       "      <th>maf</th>\n",
       "    </tr>\n",
       "  </thead>\n",
       "  <tbody>\n",
       "    <tr>\n",
       "      <th>0</th>\n",
       "      <td>1736</td>\n",
       "      <td>1444</td>\n",
       "      <td>c</td>\n",
       "      <td>t</td>\n",
       "      <td>240</td>\n",
       "      <td>3180</td>\n",
       "      <td>0.454088</td>\n",
       "    </tr>\n",
       "    <tr>\n",
       "      <th>1</th>\n",
       "      <td>2896</td>\n",
       "      <td>368</td>\n",
       "      <td>c</td>\n",
       "      <td>t</td>\n",
       "      <td>1058</td>\n",
       "      <td>3264</td>\n",
       "      <td>0.112745</td>\n",
       "    </tr>\n",
       "    <tr>\n",
       "      <th>2</th>\n",
       "      <td>1825</td>\n",
       "      <td>1470</td>\n",
       "      <td>c</td>\n",
       "      <td>t</td>\n",
       "      <td>3036</td>\n",
       "      <td>3295</td>\n",
       "      <td>0.446131</td>\n",
       "    </tr>\n",
       "    <tr>\n",
       "      <th>3</th>\n",
       "      <td>2561</td>\n",
       "      <td>734</td>\n",
       "      <td>c</td>\n",
       "      <td>t</td>\n",
       "      <td>8781</td>\n",
       "      <td>3295</td>\n",
       "      <td>0.222762</td>\n",
       "    </tr>\n",
       "    <tr>\n",
       "      <th>4</th>\n",
       "      <td>2809</td>\n",
       "      <td>476</td>\n",
       "      <td>g</td>\n",
       "      <td>t</td>\n",
       "      <td>11082</td>\n",
       "      <td>3285</td>\n",
       "      <td>0.144901</td>\n",
       "    </tr>\n",
       "    <tr>\n",
       "      <th>5</th>\n",
       "      <td>1837</td>\n",
       "      <td>1472</td>\n",
       "      <td>c</td>\n",
       "      <td>t</td>\n",
       "      <td>14407</td>\n",
       "      <td>3309</td>\n",
       "      <td>0.444847</td>\n",
       "    </tr>\n",
       "    <tr>\n",
       "      <th>6</th>\n",
       "      <td>3014</td>\n",
       "      <td>296</td>\n",
       "      <td>c</td>\n",
       "      <td>t</td>\n",
       "      <td>14804</td>\n",
       "      <td>3310</td>\n",
       "      <td>0.089426</td>\n",
       "    </tr>\n",
       "    <tr>\n",
       "      <th>7</th>\n",
       "      <td>2812</td>\n",
       "      <td>498</td>\n",
       "      <td>c</td>\n",
       "      <td>t</td>\n",
       "      <td>17746</td>\n",
       "      <td>3310</td>\n",
       "      <td>0.150453</td>\n",
       "    </tr>\n",
       "    <tr>\n",
       "      <th>8</th>\n",
       "      <td>2802</td>\n",
       "      <td>514</td>\n",
       "      <td>a</td>\n",
       "      <td>g</td>\n",
       "      <td>17857</td>\n",
       "      <td>3316</td>\n",
       "      <td>0.155006</td>\n",
       "    </tr>\n",
       "    <tr>\n",
       "      <th>9</th>\n",
       "      <td>2774</td>\n",
       "      <td>532</td>\n",
       "      <td>c</td>\n",
       "      <td>t</td>\n",
       "      <td>18059</td>\n",
       "      <td>3306</td>\n",
       "      <td>0.160920</td>\n",
       "    </tr>\n",
       "    <tr>\n",
       "      <th>10</th>\n",
       "      <td>1832</td>\n",
       "      <td>1482</td>\n",
       "      <td>a</td>\n",
       "      <td>g</td>\n",
       "      <td>23402</td>\n",
       "      <td>3314</td>\n",
       "      <td>0.447194</td>\n",
       "    </tr>\n",
       "    <tr>\n",
       "      <th>11</th>\n",
       "      <td>2842</td>\n",
       "      <td>468</td>\n",
       "      <td>g</td>\n",
       "      <td>t</td>\n",
       "      <td>25562</td>\n",
       "      <td>3310</td>\n",
       "      <td>0.141390</td>\n",
       "    </tr>\n",
       "    <tr>\n",
       "      <th>12</th>\n",
       "      <td>2941</td>\n",
       "      <td>355</td>\n",
       "      <td>g</td>\n",
       "      <td>t</td>\n",
       "      <td>26143</td>\n",
       "      <td>3296</td>\n",
       "      <td>0.107706</td>\n",
       "    </tr>\n",
       "    <tr>\n",
       "      <th>13</th>\n",
       "      <td>3097</td>\n",
       "      <td>172</td>\n",
       "      <td>c</td>\n",
       "      <td>t</td>\n",
       "      <td>27045</td>\n",
       "      <td>3269</td>\n",
       "      <td>0.052615</td>\n",
       "    </tr>\n",
       "    <tr>\n",
       "      <th>14</th>\n",
       "      <td>2561</td>\n",
       "      <td>724</td>\n",
       "      <td>t</td>\n",
       "      <td>c</td>\n",
       "      <td>28143</td>\n",
       "      <td>3285</td>\n",
       "      <td>0.220396</td>\n",
       "    </tr>\n",
       "    <tr>\n",
       "      <th>15</th>\n",
       "      <td>2844</td>\n",
       "      <td>445</td>\n",
       "      <td>g</td>\n",
       "      <td>a</td>\n",
       "      <td>28880</td>\n",
       "      <td>3289</td>\n",
       "      <td>0.135299</td>\n",
       "    </tr>\n",
       "    <tr>\n",
       "      <th>16</th>\n",
       "      <td>2848</td>\n",
       "      <td>444</td>\n",
       "      <td>g</td>\n",
       "      <td>a</td>\n",
       "      <td>28881</td>\n",
       "      <td>3292</td>\n",
       "      <td>0.134872</td>\n",
       "    </tr>\n",
       "    <tr>\n",
       "      <th>17</th>\n",
       "      <td>2848</td>\n",
       "      <td>444</td>\n",
       "      <td>g</td>\n",
       "      <td>c</td>\n",
       "      <td>28882</td>\n",
       "      <td>3292</td>\n",
       "      <td>0.134872</td>\n",
       "    </tr>\n",
       "  </tbody>\n",
       "</table>\n",
       "</div>"
      ],
      "text/plain": [
       "    refcount  altcount ref alt    pos  totcount       maf\n",
       "0       1736      1444   c   t    240      3180  0.454088\n",
       "1       2896       368   c   t   1058      3264  0.112745\n",
       "2       1825      1470   c   t   3036      3295  0.446131\n",
       "3       2561       734   c   t   8781      3295  0.222762\n",
       "4       2809       476   g   t  11082      3285  0.144901\n",
       "5       1837      1472   c   t  14407      3309  0.444847\n",
       "6       3014       296   c   t  14804      3310  0.089426\n",
       "7       2812       498   c   t  17746      3310  0.150453\n",
       "8       2802       514   a   g  17857      3316  0.155006\n",
       "9       2774       532   c   t  18059      3306  0.160920\n",
       "10      1832      1482   a   g  23402      3314  0.447194\n",
       "11      2842       468   g   t  25562      3310  0.141390\n",
       "12      2941       355   g   t  26143      3296  0.107706\n",
       "13      3097       172   c   t  27045      3269  0.052615\n",
       "14      2561       724   t   c  28143      3285  0.220396\n",
       "15      2844       445   g   a  28880      3289  0.135299\n",
       "16      2848       444   g   a  28881      3292  0.134872\n",
       "17      2848       444   g   c  28882      3292  0.134872"
      ]
     },
     "execution_count": 24,
     "metadata": {},
     "output_type": "execute_result"
    }
   ],
   "source": [
    "df_var"
   ]
  },
  {
   "cell_type": "markdown",
   "metadata": {},
   "source": [
    "### Process Individuals with derived common alleles"
   ]
  },
  {
   "cell_type": "code",
   "execution_count": 25,
   "metadata": {},
   "outputs": [],
   "source": [
    "def create_der_df(df, df_var, seqs):\n",
    "    \"\"\"Modify Dataframe df to contain\n",
    "    derived Variant columns from df_var, \n",
    "    according to seqs\"\"\"\n",
    "    df_der = df.copy()  # Copy from original dataframe\n",
    "    \n",
    "    for index, row in df_var.iterrows():\n",
    "        idcs = extract_idcs(seqs, pos=row[\"pos\"], der=row[\"alt\"].encode())\n",
    "        assert(np.sum(idcs) == row[\"altcount\"])  # Sanity Check\n",
    "        df_der[str(row[\"pos\"])] = idcs \n",
    "    return df_der\n",
    "#idcs = extract_idcs(seqs, pos=23402, der=b\"g\")"
   ]
  },
  {
   "cell_type": "code",
   "execution_count": 26,
   "metadata": {},
   "outputs": [],
   "source": [
    "df_der = create_der_df(df, df_var, seqs)"
   ]
  },
  {
   "cell_type": "code",
   "execution_count": 27,
   "metadata": {},
   "outputs": [
    {
     "name": "stdout",
     "output_type": "stream",
     "text": [
      "Saved 3325 Individuals with derived Data to ./output/tables/derived_common_snps.tsv\n"
     ]
    }
   ],
   "source": [
    "### And now save it\n",
    "savepath = \"./output/tables/derived_common_snps.tsv\"\n",
    "df_der.to_csv(savepath, sep=\"\\t\", index=False)\n",
    "print(f\"Saved {len(df_der)} Individuals with derived Data to {savepath}\")"
   ]
  },
  {
   "cell_type": "code",
   "execution_count": 7,
   "metadata": {},
   "outputs": [
    {
     "name": "stdout",
     "output_type": "stream",
     "text": [
      "Loaded HDF5\n",
      "['gt', 'samples']\n",
      "(3325, 29903)\n"
     ]
    }
   ],
   "source": [
    "path = \"./output/h5/covid_seqs.h5\"\n",
    "f = h5py.File(path, \"r\") # Load for Sanity Check. See below!  \n",
    "print(\"Loaded HDF5\")\n",
    "print(list(f))\n",
    "print(np.shape(f[\"gt\"]))\n",
    "assert(np.shape(f[\"gt\"])[0]==len(f[\"samples\"]))"
   ]
  },
  {
   "cell_type": "markdown",
   "metadata": {},
   "source": [
    "# Area 51"
   ]
  },
  {
   "cell_type": "markdown",
   "metadata": {},
   "source": [
    "### Load single aligned H5 sequence"
   ]
  },
  {
   "cell_type": "code",
   "execution_count": 120,
   "metadata": {},
   "outputs": [
    {
     "name": "stdout",
     "output_type": "stream",
     "text": [
      "Loaded HDF5\n",
      "['gt', 'samples']\n"
     ]
    }
   ],
   "source": [
    "path = \"./output/h5/covid_seqs.h5\"\n",
    "f = h5py.File(path, \"r\") # Load for Sanity Check. See below!  \n",
    "print(\"Loaded HDF5\")\n",
    "print(list(f))"
   ]
  },
  {
   "cell_type": "code",
   "execution_count": 122,
   "metadata": {},
   "outputs": [
    {
     "name": "stdout",
     "output_type": "stream",
     "text": [
      "CPU times: user 904 µs, sys: 1 ms, total: 1.91 ms\n",
      "Wall time: 1.92 ms\n"
     ]
    }
   ],
   "source": [
    "%%time\n",
    "iids1 = f[\"gt\"][10,:]"
   ]
  },
  {
   "cell_type": "code",
   "execution_count": 114,
   "metadata": {},
   "outputs": [],
   "source": [
    "df_meta = pd.read_csv(\"./data/apr20/metadata.tsv\", sep=\"\\t\")"
   ]
  },
  {
   "cell_type": "code",
   "execution_count": 116,
   "metadata": {},
   "outputs": [
    {
     "data": {
      "text/plain": [
       "array(['hCoV-19/USA/WA-S88/2020|EPI_ISL_417141|2020-03-01',\n",
       "       'hCoV-19/USA/WA-S89/2020|EPI_ISL_417142|2020-02-29',\n",
       "       'hCoV-19/USA/WA-S87/2020|EPI_ISL_417140|2020-03-01', ...,\n",
       "       'hCoV-19/USA/WA-UW41/2020|EPI_ISL_415606|2020-03-08',\n",
       "       'hCoV-19/USA/WA-UW44/2020|EPI_ISL_415609|2020-03-08',\n",
       "       'hCoV-19/USA/WA-UW43/2020|EPI_ISL_415608|2020-03-08'], dtype=object)"
      ]
     },
     "execution_count": 116,
     "metadata": {},
     "output_type": "execute_result"
    }
   ],
   "source": [
    "samples"
   ]
  },
  {
   "cell_type": "code",
   "execution_count": 87,
   "metadata": {},
   "outputs": [],
   "source": [
    "samples = f[\"samples\"][:]"
   ]
  },
  {
   "cell_type": "code",
   "execution_count": 90,
   "metadata": {},
   "outputs": [],
   "source": [
    "epi = df_meta[\"gisaid_epi_isl\"] "
   ]
  },
  {
   "cell_type": "code",
   "execution_count": 94,
   "metadata": {},
   "outputs": [],
   "source": [
    "epi2 = [s.split(\"|\")[1] for s in samples]"
   ]
  },
  {
   "cell_type": "code",
   "execution_count": 98,
   "metadata": {},
   "outputs": [
    {
     "data": {
      "text/plain": [
       "3343"
      ]
     },
     "execution_count": 98,
     "metadata": {},
     "output_type": "execute_result"
    }
   ],
   "source": [
    "len(set(epi2+list(epi)))"
   ]
  },
  {
   "cell_type": "code",
   "execution_count": 99,
   "metadata": {},
   "outputs": [
    {
     "data": {
      "text/plain": [
       "3325"
      ]
     },
     "execution_count": 99,
     "metadata": {},
     "output_type": "execute_result"
    }
   ],
   "source": [
    "len(f[\"samples\"])"
   ]
  },
  {
   "cell_type": "code",
   "execution_count": 111,
   "metadata": {},
   "outputs": [
    {
     "data": {
      "text/plain": [
       "3323"
      ]
     },
     "execution_count": 111,
     "metadata": {},
     "output_type": "execute_result"
    }
   ],
   "source": [
    "len(df_meta)"
   ]
  },
  {
   "cell_type": "code",
   "execution_count": 109,
   "metadata": {},
   "outputs": [],
   "source": [
    "idx = df_meta[\"strain\"].str.contains('|'.join(samples))"
   ]
  },
  {
   "cell_type": "code",
   "execution_count": 110,
   "metadata": {},
   "outputs": [
    {
     "data": {
      "text/plain": [
       "3322"
      ]
     },
     "execution_count": 110,
     "metadata": {},
     "output_type": "execute_result"
    }
   ],
   "source": [
    "np.sum(idx)"
   ]
  },
  {
   "cell_type": "code",
   "execution_count": 112,
   "metadata": {},
   "outputs": [
    {
     "data": {
      "text/html": [
       "<div>\n",
       "<style scoped>\n",
       "    .dataframe tbody tr th:only-of-type {\n",
       "        vertical-align: middle;\n",
       "    }\n",
       "\n",
       "    .dataframe tbody tr th {\n",
       "        vertical-align: top;\n",
       "    }\n",
       "\n",
       "    .dataframe thead th {\n",
       "        text-align: right;\n",
       "    }\n",
       "</style>\n",
       "<table border=\"1\" class=\"dataframe\">\n",
       "  <thead>\n",
       "    <tr style=\"text-align: right;\">\n",
       "      <th></th>\n",
       "      <th>strain</th>\n",
       "      <th>virus</th>\n",
       "      <th>gisaid_epi_isl</th>\n",
       "      <th>genbank_accession</th>\n",
       "      <th>date</th>\n",
       "      <th>region</th>\n",
       "      <th>country</th>\n",
       "      <th>division</th>\n",
       "      <th>location</th>\n",
       "      <th>country_exposure</th>\n",
       "      <th>...</th>\n",
       "      <th>length</th>\n",
       "      <th>host</th>\n",
       "      <th>age</th>\n",
       "      <th>sex</th>\n",
       "      <th>originating_lab</th>\n",
       "      <th>submitting_lab</th>\n",
       "      <th>authors</th>\n",
       "      <th>url</th>\n",
       "      <th>title</th>\n",
       "      <th>date_submitted</th>\n",
       "    </tr>\n",
       "  </thead>\n",
       "  <tbody>\n",
       "    <tr>\n",
       "      <th>3312</th>\n",
       "      <td>bat/Yunnan/RaTG13/2013</td>\n",
       "      <td>ncov</td>\n",
       "      <td>EPI_ISL_402131</td>\n",
       "      <td>?</td>\n",
       "      <td>2013-07-24</td>\n",
       "      <td>Asia</td>\n",
       "      <td>China</td>\n",
       "      <td>Yunnan</td>\n",
       "      <td>Pu'er</td>\n",
       "      <td>China</td>\n",
       "      <td>...</td>\n",
       "      <td>29855</td>\n",
       "      <td>Rhinolophus affinis</td>\n",
       "      <td>?</td>\n",
       "      <td>Male</td>\n",
       "      <td>Wuhan Institute of Virology, Chinese Academy o...</td>\n",
       "      <td>Wuhan Institute of Virology, Chinese Academy o...</td>\n",
       "      <td>Zhu et al</td>\n",
       "      <td>https://www.gisaid.org</td>\n",
       "      <td>?</td>\n",
       "      <td>2020-01-24</td>\n",
       "    </tr>\n",
       "  </tbody>\n",
       "</table>\n",
       "<p>1 rows × 22 columns</p>\n",
       "</div>"
      ],
      "text/plain": [
       "                      strain virus  gisaid_epi_isl genbank_accession  \\\n",
       "3312  bat/Yunnan/RaTG13/2013  ncov  EPI_ISL_402131                 ?   \n",
       "\n",
       "            date region country division location country_exposure  ...  \\\n",
       "3312  2013-07-24   Asia   China   Yunnan    Pu'er            China  ...   \n",
       "\n",
       "     length                 host  age   sex  \\\n",
       "3312  29855  Rhinolophus affinis    ?  Male   \n",
       "\n",
       "                                        originating_lab  \\\n",
       "3312  Wuhan Institute of Virology, Chinese Academy o...   \n",
       "\n",
       "                                         submitting_lab    authors  \\\n",
       "3312  Wuhan Institute of Virology, Chinese Academy o...  Zhu et al   \n",
       "\n",
       "                         url title date_submitted  \n",
       "3312  https://www.gisaid.org     ?     2020-01-24  \n",
       "\n",
       "[1 rows x 22 columns]"
      ]
     },
     "execution_count": 112,
     "metadata": {},
     "output_type": "execute_result"
    }
   ],
   "source": [
    "df_meta[~idx]"
   ]
  },
  {
   "cell_type": "code",
   "execution_count": 113,
   "metadata": {},
   "outputs": [
    {
     "data": {
      "text/plain": [
       "['hCoV-19/bat/Yunnan/RaTG13/2013|EPI_ISL_402131|2013-07-24']"
      ]
     },
     "execution_count": 113,
     "metadata": {},
     "output_type": "execute_result"
    }
   ],
   "source": [
    "[s for s in samples if \"bat\" in s]"
   ]
  },
  {
   "cell_type": "code",
   "execution_count": 119,
   "metadata": {},
   "outputs": [
    {
     "data": {
      "text/plain": [
       "Human                  3299\n",
       "Manis javanica            9\n",
       "human                     9\n",
       "Environment               4\n",
       "Canine                    1\n",
       "Rhinolophus affinis       1\n",
       "Name: host, dtype: int64"
      ]
     },
     "execution_count": 119,
     "metadata": {},
     "output_type": "execute_result"
    }
   ],
   "source": [
    "df_meta[\"host\"].value_counts()"
   ]
  },
  {
   "cell_type": "code",
   "execution_count": null,
   "metadata": {},
   "outputs": [],
   "source": []
  }
 ],
 "metadata": {
  "kernelspec": {
   "display_name": "Python 3",
   "language": "python",
   "name": "python3"
  },
  "language_info": {
   "codemirror_mode": {
    "name": "ipython",
    "version": 3
   },
   "file_extension": ".py",
   "mimetype": "text/x-python",
   "name": "python",
   "nbconvert_exporter": "python",
   "pygments_lexer": "ipython3",
   "version": "3.7.4"
  }
 },
 "nbformat": 4,
 "nbformat_minor": 4
}
