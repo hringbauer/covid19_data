{
 "cells": [
  {
   "cell_type": "markdown",
   "metadata": {},
   "source": [
    "# Align Fasta to Reference Fasta"
   ]
  },
  {
   "cell_type": "code",
   "execution_count": 16,
   "metadata": {},
   "outputs": [
    {
     "name": "stdout",
     "output_type": "stream",
     "text": [
      "Current machine: DESKTOP-5RJD9NC\n",
      "D:\\gitProjects\\covid19_data\n"
     ]
    }
   ],
   "source": [
    "import numpy as np\n",
    "import os as os\n",
    "import sys as sys\n",
    "import multiprocessing as mp\n",
    "import pandas as pd\n",
    "import socket\n",
    "import matplotlib.pyplot as plt\n",
    "from itertools import groupby\n",
    "import os\n",
    "import re as re\n",
    "\n",
    "### Pick the right path (whether on cluster or at home)\n",
    "socket_name = socket.gethostname()\n",
    "print(f\"Current machine: {socket_name}\")\n",
    "if socket_name == \"DESKTOP-5RJD9NC\":\n",
    "    path = \"/gitProjects/covid19_data\"   # The Path on Harald's machine\n",
    "else: \n",
    "    raise RuntimeWarning(\"Not compatible machine. Check!!\")\n",
    "\n",
    "os.chdir(path)  # Set the right Path (in line with Atom default)\n",
    "print(os.getcwd())"
   ]
  },
  {
   "cell_type": "markdown",
   "metadata": {},
   "source": [
    "### Clean Fasta File (remove is)"
   ]
  },
  {
   "cell_type": "code",
   "execution_count": 92,
   "metadata": {},
   "outputs": [],
   "source": [
    "def write_fasta(sample_line, seq_lines, savepath=\"\", output=True):\n",
    "    \"\"\"Write a single Fasta file.\n",
    "    sample_line: Line of the Sample to write\n",
    "    seq_lines: Genotype Sequences to write\n",
    "    savepath: Where to write Fasta File to\n",
    "    \"\"\"\n",
    "    f1 = open(savepath, \"w\")\n",
    "    f1.write(sample_line)  # Write the new line\n",
    "    for line in seq_lines:\n",
    "        f1.write(line)\n",
    "    f1.close()\n",
    "    if output:\n",
    "        print(f\"Saved fasta to {savepath}\")\n",
    "    \n",
    "def fasta_iter_raw(fasta_name):\n",
    "    \"\"\"\n",
    "    Return iterator for fasta\n",
    "    \"\"\"\n",
    "    \n",
    "    \"first open the file outside \"\n",
    "    fh = open(fasta_name)\n",
    "    # ditch the boolean (x[0]) and just keep the header or sequence since\n",
    "    # we know they alternate.\n",
    "    faiter = (x[1] for x in groupby(fh, lambda line: line[0] == \">\"))\n",
    "    \n",
    "    for header in faiter:\n",
    "        # drop the \">\"\n",
    "        headerStr = header.__next__()   #[1:].strip()\n",
    "        # join all sequence lines to one.\n",
    "        seq = \"\".join(s for s in faiter.__next__())  # .strip()\n",
    "        yield (headerStr, seq) \n",
    "        \n",
    "def fasta_iter(fasta_name):\n",
    "    \"\"\"\n",
    "    Return iterator for fasta\n",
    "    \"\"\"\n",
    "    \"first open the file outside \"\n",
    "    fh = open(fasta_name)\n",
    "    # ditch the boolean (x[0]) and just keep the header or sequence since\n",
    "    # we know they alternate.\n",
    "    faiter = (x[1] for x in groupby(fh, lambda line: line[0] == \">\"))\n",
    "\n",
    "    for header in faiter:\n",
    "        # drop the \">\"\n",
    "        headerStr = header.__next__()[1:].strip()\n",
    "        # join all sequence lines to one.\n",
    "        seq = \"\".join(s.strip() for s in faiter.__next__())\n",
    "        yield (headerStr, seq) \n",
    "        \n",
    "def clean_seq_line(seq_line, replace_char=r'[^ACGTN\\n\\r]',\n",
    "                   with_char=\"N\"):\n",
    "    \"\"\"Clean seq_line String.\n",
    "    Return updated string\"\"\"\n",
    "    seq_line = seq_line.upper()   # Make Upper Case\n",
    "    seq_line = re.sub(replace_char, with_char, seq_line)\n",
    "    return seq_line\n",
    "\n",
    "def include_samples(sample_seq, min_cov_bs):\n",
    "    \"\"\"Quick check whether to include sample.\n",
    "    min_cov_bs: Minimum Number of covered Bases\n",
    "    return include status, nr covered bases\"\"\"\n",
    "    lgth = len(sample_seq) - sample_seq.count('\\n') - sample_seq.count(\"N\")\n",
    "    include = True\n",
    "    if lgth < min_cov_bs:\n",
    "        include = False\n",
    "    return include, lgth\n",
    "        \n",
    "def split_fasta(fasta_name, path_out=\"./output/singleseq/\", \n",
    "                iids=[], clean=True, \n",
    "                min_cov_bs=20000, output=True):\n",
    "    \"\"\"\n",
    "    Splits up samples from fasta if IID string contains\n",
    "    clean: Whether to clean string (make everything upper-case \n",
    "    and substitute with N)\n",
    "    min_cov_bs: How many bases covered at least once\n",
    "    Return list of samples that have been run\n",
    "    \"\"\"\n",
    "    fiter = fasta_iter_raw(fasta_name)\n",
    "    \n",
    "    iids_org, iids_prcsd = [], []\n",
    "    cvg, icld = [], []\n",
    "    \n",
    "    for sample_line, seq_line in fiter:\n",
    "        sample = sample_line[1:].strip()\n",
    "        if sample in iids:\n",
    "            if output:\n",
    "                print(f\"Matched: {sample}\")\n",
    "            sample1 = re.sub(\"[\\|\\/]\", \".\", sample)\n",
    "            \n",
    "            if clean:\n",
    "                seq_line = clean_seq_line(seq_line)\n",
    "                \n",
    "            include, lgth = include_samples(seq_line, min_cov_bs=min_cov_bs)\n",
    "            \n",
    "            ### Append Statistics\n",
    "            iids_org.append(sample)\n",
    "            iids_prcsd.append(sample1)\n",
    "            cvg.append(lgth)\n",
    "            icld.append(include)\n",
    "            \n",
    "            if include:\n",
    "                fasta_name_out = os.path.join(path_out, sample1 + \".fasta\")\n",
    "                write_fasta(sample_line, seq_line, fasta_name_out, output=output)\n",
    "                \n",
    "    # Make a Summary Dataframe\n",
    "    df = pd.DataFrame({\"iid\":iids_org, \"iid_clean\":iids_prcsd, \n",
    "                        \"cov\":cvg,  \"include\":icld})\n",
    "    return df\n",
    "                  \n",
    "def clean_fasta(fasta_name, fasta_name_out):\n",
    "    \"\"\"\n",
    "    Remove invalid characters in sequences\n",
    "    \"\"\"\n",
    "    \"first open the file outside \"\n",
    "    f = open(fasta_name)\n",
    "    f1 = open(fasta_name_out, \"w\")\n",
    "    n=0\n",
    "    \n",
    "    for line in f:\n",
    "        if line[0]==\">\":\n",
    "            n+=1\n",
    "        else:   # If Genome Data replace i\n",
    "            line = line.replace(\"i\", \"N\")\n",
    "        f1.write(line)  # Write the new line\n",
    "    f.close()\n",
    "    f1.close()\n",
    "    print(f\"Successfully Modified {n} fastas\")\n",
    "    print(f\"Saved to {clean_fasta_path}\")"
   ]
  },
  {
   "cell_type": "markdown",
   "metadata": {},
   "source": [
    "### Split up the Multi FASTA"
   ]
  },
  {
   "cell_type": "code",
   "execution_count": 102,
   "metadata": {},
   "outputs": [
    {
     "name": "stdout",
     "output_type": "stream",
     "text": [
      "Wall time: 9.58 s\n"
     ]
    }
   ],
   "source": [
    "%%time\n",
    "df = split_fasta(fasta_name=\"./data/mar20/gisaid_cov2020_sequences_26.fasta\", \n",
    "            path_out=\"./output/singleseq/\", \n",
    "            iids=iids[:500], clean=True, min_cov_bs=20000, output=False)"
   ]
  },
  {
   "cell_type": "code",
   "execution_count": 110,
   "metadata": {},
   "outputs": [
    {
     "name": "stdout",
     "output_type": "stream",
     "text": [
      "Saved Summary Dataframe n=500 to ./output/single_seq_split.tsv\n"
     ]
    }
   ],
   "source": [
    "df[\"include\"].value_counts()\n",
    "savepath = \"./output/single_seq_split.tsv\"\n",
    "df.to_csv(savepath, sep=\"\\t\")\n",
    "print(f\"Saved Summary Dataframe n={len(df)} to {savepath}\")"
   ]
  },
  {
   "cell_type": "markdown",
   "metadata": {},
   "source": [
    "### Create Dataframe of alredy processed Individuals"
   ]
  },
  {
   "cell_type": "code",
   "execution_count": 81,
   "metadata": {},
   "outputs": [
    {
     "data": {
      "text/plain": [
       "['hCoV-19.USA.WA-S88.2020.EPI_ISL_417141.2020-03-01',\n",
       " 'hCoV-19.USA.WA-S89.2020.EPI_ISL_417142.2020-02-29',\n",
       " 'hCoV-19.USA.WA-S87.2020.EPI_ISL_417140.2020-03-01',\n",
       " 'hCoV-19.USA.WA-S92.2020.EPI_ISL_417145.2020-02-29',\n",
       " 'hCoV-19.USA.WA-S93.2020.EPI_ISL_417146.2020-02-29',\n",
       " 'hCoV-19.USA.WA-S90.2020.EPI_ISL_417143.2020-02-29',\n",
       " 'hCoV-19.USA.WA-S91.2020.EPI_ISL_417144.2020-03-02',\n",
       " 'hCoV-19.USA.WA-S96.2020.EPI_ISL_417149.2020-02-28',\n",
       " 'hCoV-19.USA.WA-S94.2020.EPI_ISL_417147.2020-02-28',\n",
       " 'hCoV-19.USA.WA-S95.2020.EPI_ISL_417148.2020-02-28']"
      ]
     },
     "execution_count": 81,
     "metadata": {},
     "output_type": "execute_result"
    }
   ],
   "source": [
    "ls"
   ]
  },
  {
   "cell_type": "code",
   "execution_count": 4,
   "metadata": {},
   "outputs": [
    {
     "name": "stdout",
     "output_type": "stream",
     "text": [
      "Successfully Modified 1871 fastas\n",
      "Saved to ./data/mar20/gisaid_cov2020_sequences_26_c.fasta\n",
      "Wall time: 1.81 s\n"
     ]
    }
   ],
   "source": [
    "%%time\n",
    "bin_path = \"bins/mafft-win/mafft.bat\"\n",
    "out_path = \"./output/aligned/test_out.fasta\"\n",
    "ref_path = \"./data/reference/wuhan-hu-1.fasta\"\n",
    "\n",
    "fasta_path = \"./data/mar20/gisaid_cov2020_sequences_26.fasta\"\n",
    "clean_fasta_path = \"./data/mar20/gisaid_cov2020_sequences_26_c.fasta\"\n",
    "threads = 4\n",
    "\n",
    "clean_fasta(fasta_path, clean_fasta_path)"
   ]
  },
  {
   "cell_type": "markdown",
   "metadata": {},
   "source": [
    "### Extract Single Sequence Fasta file"
   ]
  },
  {
   "cell_type": "code",
   "execution_count": 65,
   "metadata": {},
   "outputs": [
    {
     "ename": "TypeError",
     "evalue": "split_fasta() got an unexpected keyword argument 'fasta_name_out'",
     "output_type": "error",
     "traceback": [
      "\u001b[1;31m---------------------------------------------------------------------------\u001b[0m",
      "\u001b[1;31mTypeError\u001b[0m                                 Traceback (most recent call last)",
      "\u001b[1;32m<timed exec>\u001b[0m in \u001b[0;36m<module>\u001b[1;34m\u001b[0m\n",
      "\u001b[1;31mTypeError\u001b[0m: split_fasta() got an unexpected keyword argument 'fasta_name_out'"
     ]
    }
   ],
   "source": [
    "%%time\n",
    "split_fasta(fasta_name = \"./data/mar20/gisaid_cov2020_sequences_26.fasta\",\n",
    "            path_out=\"./output/singleseq/\",\n",
    "            fasta_name_out = fasta_name_out)"
   ]
  },
  {
   "cell_type": "code",
   "execution_count": 50,
   "metadata": {},
   "outputs": [],
   "source": [
    "def align_sequence(bin_path, out_path, fasta_name_out, \n",
    "                   ref_path, bat_path=\"./bins/mafft_batch.bat\"):\n",
    "    \"\"\"Produce a batch file and runs bafft\"\"\"\n",
    "    command = f\"{bin_path} --out {out_path} --add {fasta_name_out} --mapout {ref_path}\"\n",
    "    #command=\"echo test\"\n",
    "    print(\"running command:\")\n",
    "    print(command)\n",
    "    stream = os.popen(command)\n",
    "    output = stream.read()\n",
    "    return output"
   ]
  },
  {
   "cell_type": "code",
   "execution_count": 49,
   "metadata": {},
   "outputs": [
    {
     "name": "stdout",
     "output_type": "stream",
     "text": [
      "running command:\n",
      "bins/mafft-win/mafft.bat --out ./output/aligned/test_out_single.fasta --addfull ./output/singleseq/test.fasta --mapout ./data/reference/wuhan-hu-1.fasta\n"
     ]
    },
    {
     "data": {
      "text/plain": [
       "''"
      ]
     },
     "execution_count": 49,
     "metadata": {},
     "output_type": "execute_result"
    }
   ],
   "source": [
    "align_sequence(bin_path, out_path, fasta_name_out, ref_path)"
   ]
  },
  {
   "cell_type": "markdown",
   "metadata": {},
   "source": [
    "### Align all fasta files\n",
    "Idea: Produce batch script that aligns them one by one"
   ]
  },
  {
   "cell_type": "code",
   "execution_count": 48,
   "metadata": {},
   "outputs": [],
   "source": [
    "bin_path = \"bins/mafft-win/mafft.bat\"\n",
    "out_path = \"./output/aligned/test_out.fasta\"\n",
    "ref_path = \"./data/reference/wuhan-hu-1.fasta\"\n",
    "clean_fasta_path = \"./data/mar20/gisaid_cov2020_sequences_26_c.fasta\"\n",
    "thread = 4"
   ]
  },
  {
   "cell_type": "code",
   "execution_count": 49,
   "metadata": {},
   "outputs": [
    {
     "name": "stdout",
     "output_type": "stream",
     "text": [
      "Run this command in (power) shell:\n",
      "bins/mafft-win/mafft.bat --out ./output/aligned/test_out.fasta --add ./data/mar20/gisaid_cov2020_sequences_26_c.fasta --thread 4 --mapout ./data/reference/wuhan-hu-1.fasta\n"
     ]
    }
   ],
   "source": [
    "print(\"Run this command in (power) shell:\")\n",
    "print(f\"{bin_path} --out {out_path} --add {clean_fasta_path} --thread {thread} --mapout {ref_path} --keeplength\")"
   ]
  },
  {
   "cell_type": "markdown",
   "metadata": {},
   "source": [
    "# Area 51"
   ]
  },
  {
   "cell_type": "code",
   "execution_count": 49,
   "metadata": {},
   "outputs": [],
   "source": [
    "fiter = fasta_iter(\"./data/mar20/gisaid_cov2020_sequences_26.fasta\")\n",
    "iids = np.array([ff[0] for ff in fiter])\n",
    "fiter = fasta_iter_raw(\"./data/mar20/gisaid_cov2020_sequences_26.fasta\")\n",
    "seqs = np.array([ff[1] for ff in fiter])"
   ]
  },
  {
   "cell_type": "code",
   "execution_count": null,
   "metadata": {},
   "outputs": [],
   "source": [
    "#sample_line, seq_line = next(fiter)"
   ]
  },
  {
   "cell_type": "code",
   "execution_count": 50,
   "metadata": {},
   "outputs": [],
   "source": [
    "covered = [len(s) - s.count('\\n') - s.count(\"N\") for s in seqs]"
   ]
  },
  {
   "cell_type": "code",
   "execution_count": 36,
   "metadata": {},
   "outputs": [],
   "source": [
    "ls = [set(s) for s in seqs]"
   ]
  },
  {
   "cell_type": "code",
   "execution_count": null,
   "metadata": {},
   "outputs": [],
   "source": [
    "seqs[0]"
   ]
  },
  {
   "cell_type": "code",
   "execution_count": null,
   "metadata": {},
   "outputs": [],
   "source": [
    "clean_seq_line(seqs[0])"
   ]
  },
  {
   "cell_type": "markdown",
   "metadata": {},
   "source": [
    "# Quick Coverage Analysis"
   ]
  },
  {
   "cell_type": "code",
   "execution_count": 56,
   "metadata": {},
   "outputs": [],
   "source": [
    "fiter = fasta_iter_raw(\"./data/mar20/gisaid_cov2020_sequences_26.fasta\")\n",
    "seqs = np.array([ff[1] for ff in fiter])\n",
    "covered = [len(s) - s.count('\\n') - s.count(\"N\") for s in seqs]"
   ]
  },
  {
   "cell_type": "code",
   "execution_count": 60,
   "metadata": {},
   "outputs": [
    {
     "data": {
      "image/png": "[encoded data removed]",
      "text/plain": [
       "<Figure size 432x288 with 1 Axes>"
      ]
     },
     "metadata": {
      "needs_background": "light"
     },
     "output_type": "display_data"
    }
   ],
   "source": [
    "bins = np.arange(0, 31000, 100)\n",
    "plt.figure()\n",
    "ax = plt.gca()\n",
    "ax.hist(covered, bins=bins, ec=\"k\")\n",
    "ax.set_xlim([20000,31000])\n",
    "plt.show()"
   ]
  },
  {
   "cell_type": "code",
   "execution_count": null,
   "metadata": {},
   "outputs": [],
   "source": [
    "re.sub()"
   ]
  }
 ],
 "metadata": {
  "kernelspec": {
   "display_name": "Python 3",
   "language": "python",
   "name": "python3"
  },
  "language_info": {
   "codemirror_mode": {
    "name": "ipython",
    "version": 3
   },
   "file_extension": ".py",
   "mimetype": "text/x-python",
   "name": "python",
   "nbconvert_exporter": "python",
   "pygments_lexer": "ipython3",
   "version": "3.7.7rc1"
  }
 },
 "nbformat": 4,
 "nbformat_minor": 4
}
