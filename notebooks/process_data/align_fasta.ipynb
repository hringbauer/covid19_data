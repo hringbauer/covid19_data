{
 "cells": [
  {
   "cell_type": "markdown",
   "metadata": {},
   "source": [
    "# Align Fasta to Reference Fasta"
   ]
  },
  {
   "cell_type": "code",
   "execution_count": 5,
   "metadata": {},
   "outputs": [
    {
     "name": "stdout",
     "output_type": "stream",
     "text": [
      "Current machine: compute-e-16-237.o2.rc.hms.harvard.edu\n",
      "HSM Computational partition detected.\n",
      "/n/groups/reich/hringbauer/git/covid19_data\n"
     ]
    }
   ],
   "source": [
    "import numpy as np\n",
    "import os as os\n",
    "import sys as sys\n",
    "import multiprocessing as mp\n",
    "import pandas as pd\n",
    "import socket\n",
    "import matplotlib.pyplot as plt\n",
    "from itertools import groupby\n",
    "from shutil import which\n",
    "import os\n",
    "import re as re\n",
    "\n",
    "### Pick the right path (whether on cluster or at home)\n",
    "socket_name = socket.gethostname()\n",
    "print(f\"Current machine: {socket_name}\")\n",
    "if socket_name == \"DESKTOP-5RJD9NC\":\n",
    "    path = \"/gitProjects/covid19_data\"   # The Path on Harald's machine\n",
    "if socket_name.startswith(\"compute-\"):\n",
    "    print(\"HSM Computational partition detected.\")\n",
    "    path = \"/n/groups/reich/hringbauer/git/covid19_data/\"  # The Path on Midway Cluster\n",
    "else: \n",
    "    raise RuntimeWarning(\"Not compatible machine. Check!!\")\n",
    "    \n",
    "### Check whether required bins are available\n",
    "req_bins = [\"mafft\"] \n",
    "for b in req_bins:\n",
    "    s = which(b)\n",
    "    if not s:\n",
    "        print(f\"Make sure to install {b} and have in path. I cannot find it!\")\n",
    "\n",
    "os.chdir(path)  # Set the right Path (in line with Atom default)\n",
    "print(os.getcwd())"
   ]
  },
  {
   "cell_type": "markdown",
   "metadata": {},
   "source": [
    "### Clean Fasta File (remove is)"
   ]
  },
  {
   "cell_type": "code",
   "execution_count": 18,
   "metadata": {},
   "outputs": [],
   "source": [
    "def write_fasta(sample_line, seq_lines, savepath=\"\", output=True):\n",
    "    \"\"\"Write a single Fasta file.\n",
    "    sample_line: Line of the Sample to write\n",
    "    seq_lines: Genotype Sequences to write\n",
    "    savepath: Where to write Fasta File to\n",
    "    \"\"\"\n",
    "    f1 = open(savepath, \"w\")\n",
    "    f1.write(sample_line)  # Write the new line\n",
    "    for line in seq_lines:\n",
    "        f1.write(line)\n",
    "    f1.close()\n",
    "    if output:\n",
    "        print(f\"Saved fasta to {savepath}\")\n",
    "    \n",
    "def fasta_iter_raw(fasta_name):\n",
    "    \"\"\"\n",
    "    Return iterator for fasta\n",
    "    \"\"\"\n",
    "    \n",
    "    \"first open the file outside \"\n",
    "    fh = open(fasta_name)\n",
    "    # ditch the boolean (x[0]) and just keep the header or sequence since\n",
    "    # we know they alternate.\n",
    "    faiter = (x[1] for x in groupby(fh, lambda line: line[0] == \">\"))\n",
    "    \n",
    "    for header in faiter:\n",
    "        # drop the \">\"\n",
    "        headerStr = header.__next__()   #[1:].strip()\n",
    "        # join all sequence lines to one.\n",
    "        seq = \"\".join(s for s in faiter.__next__())  # .strip()\n",
    "        yield (headerStr, seq) \n",
    "        \n",
    "def fasta_iter(fasta_name):\n",
    "    \"\"\"\n",
    "    Return iterator for fasta\n",
    "    \"\"\"\n",
    "    \"first open the file outside \"\n",
    "    fh = open(fasta_name)\n",
    "    # ditch the boolean (x[0]) and just keep the header or sequence since\n",
    "    # we know they alternate.\n",
    "    faiter = (x[1] for x in groupby(fh, lambda line: line[0] == \">\"))\n",
    "\n",
    "    for header in faiter:\n",
    "        # drop the \">\"\n",
    "        headerStr = header.__next__()[1:].strip()\n",
    "        # join all sequence lines to one.\n",
    "        seq = \"\".join(s.strip() for s in faiter.__next__())\n",
    "        yield (headerStr, seq) \n",
    "        \n",
    "def clean_seq_line(seq_line, replace_char=r'[^ACGTN\\n\\r]',\n",
    "                   with_char=\"N\"):\n",
    "    \"\"\"Clean seq_line String.\n",
    "    Return updated string\"\"\"\n",
    "    seq_line = seq_line.upper()   # Make Upper Case\n",
    "    seq_line = re.sub(replace_char, with_char, seq_line)\n",
    "    return seq_line\n",
    "\n",
    "def include_samples(sample_seq, min_cov_bs):\n",
    "    \"\"\"Quick check whether to include sample.\n",
    "    min_cov_bs: Minimum Number of covered Bases\n",
    "    return include status, nr covered bases\"\"\"\n",
    "    lgth = len(sample_seq) - sample_seq.count('\\n') - sample_seq.count(\"N\")\n",
    "    include = True\n",
    "    if lgth < min_cov_bs:\n",
    "        include = False\n",
    "    return include, lgth\n",
    "        \n",
    "def split_fasta(fasta_name, path_out=\"./output/singleseq/\", \n",
    "                iids=[], clean=True, \n",
    "                min_cov_bs=20000, output=True):\n",
    "    \"\"\"\n",
    "    Splits up samples from fasta if IID string contains\n",
    "    clean: Whether to clean string (make everything upper-case \n",
    "    and substitute with N)\n",
    "    min_cov_bs: How many bases covered at least once\n",
    "    Return list of samples that have been run\n",
    "    \"\"\"\n",
    "    fiter = fasta_iter_raw(fasta_name)\n",
    "    \n",
    "    iids_org, iids_prcsd = [], []\n",
    "    cvg, icld = [], []\n",
    "    \n",
    "    for sample_line, seq_line in fiter:\n",
    "        sample = sample_line[1:].strip()\n",
    "        if sample in iids:\n",
    "            if output:\n",
    "                print(f\"Matched: {sample}\")\n",
    "            sample1 = re.sub(\"[\\|\\/]\", \".\", sample)\n",
    "            sample1 = re.sub(\"\\s\", \"_\", sample1) # Remplace White Spaces\n",
    "            \n",
    "            if clean:\n",
    "                seq_line = clean_seq_line(seq_line)\n",
    "            include, lgth = include_samples(seq_line, min_cov_bs=min_cov_bs)\n",
    "            \n",
    "            ### Append Statistics\n",
    "            iids_org.append(sample)\n",
    "            iids_prcsd.append(sample1)\n",
    "            cvg.append(lgth)\n",
    "            icld.append(include)\n",
    "            \n",
    "            if include:\n",
    "                fasta_name_out = os.path.join(path_out, sample1 + \".fasta\")\n",
    "                write_fasta(sample_line, seq_line, fasta_name_out, output=output)\n",
    "                \n",
    "    # Make a Summary Dataframe\n",
    "    df = pd.DataFrame({\"iid\":iids_org, \"iid_clean\":iids_prcsd, \n",
    "                        \"cov\":cvg,  \"include\":icld, \"aligned_path\": \"\"})\n",
    "    return df\n",
    "                  \n",
    "def clean_fasta(fasta_name, fasta_name_out):\n",
    "    \"\"\"\n",
    "    Remove invalid characters in sequences\n",
    "    \"\"\"\n",
    "    \"first open the file outside \"\n",
    "    f = open(fasta_name)\n",
    "    f1 = open(fasta_name_out, \"w\")\n",
    "    n=0\n",
    "    \n",
    "    for line in f:\n",
    "        if line[0]==\">\":\n",
    "            n+=1\n",
    "        else:   # If Genome Data replace i\n",
    "            line = line.replace(\"i\", \"N\")\n",
    "        f1.write(line)  # Write the new line\n",
    "    f.close()\n",
    "    f1.close()\n",
    "    print(f\"Successfully Modified {n} fastas\")\n",
    "    print(f\"Saved to {clean_fasta_path}\")\n",
    "    \n",
    "def align_mafft(in_path, out_path, ref_path=\"./data/reference/wuhan-hu-1.fasta\", \n",
    "                thread=10, output=True):\n",
    "    \"\"\"Align in_path against ref_path using MAFFT.\n",
    "    Save in out_path\"\"\"\n",
    "    #command = f\"mafft --out {out_path} --add {in_path} --thread {thread} --keeplength {ref_path}\"\n",
    "    #print(command)\n",
    "    #stream = os.popen(command)\n",
    "    #if output:\n",
    "    #    output = stream.read()\n",
    "    #    return output  \n",
    "    if output:\n",
    "        !mafft --out $out_path --add $in_path --thread $thread --keeplength $ref_path\n",
    "    else: \n",
    "        !mafft --out $out_path --add $in_path --thread $thread --quiet --keeplength $ref_path \n",
    "    \n",
    "def align_mafft_multiple(df, \n",
    "                         in_folder = \"./output/singleseq/\",\n",
    "                         out_folder=\"./output/singleseq_aligned/\",\n",
    "                         ref_path = \"./data/reference/wuhan-hu-1.fasta\",\n",
    "                         save_path_df = \"\", threads=10, output=False, overwrite=False,\n",
    "                         iid_col=\"iid_clean\", align_col = \"aligned_path\", icl_col=\"include\",\n",
    "                         ):\n",
    "    \"\"\"Align all sequences not yet aligned\n",
    "    df: Dataframe with sample iids\n",
    "    out_folder: Where to save \n",
    "    overwrite: Whether to overwrite existing output\"\"\"\n",
    "    \n",
    "    if align_col not in df:\n",
    "        df[align_col] = \"\"\n",
    "\n",
    "    for index, row in df.iterrows():\n",
    "        iid = row[iid_col]\n",
    "        align_path = row[align_col]\n",
    "        align_path1 = os.path.join(out_folder, iid + \".fasta\")\n",
    "        icld = row[icl_col]\n",
    "        \n",
    "        if (align_path != align_path1) and icld: # Works also if np.nan\n",
    "            if os.path.exists(align_path1) and (not overwrite):  # Check if Path already exisits\n",
    "                continue\n",
    "            in_path = os.path.join(in_folder, iid + \".fasta\")\n",
    "            \n",
    "            align_mafft(in_path, out_path=align_path1, \n",
    "                        ref_path=ref_path, thread=threads, output=output)\n",
    "            row[align_col] = align_path1\n",
    "\n",
    "    if len(save_path_df)>0:\n",
    "        df.to_csv(save_path_df, sep=\"\\t\", index=False)\n",
    "        print(f\"Saved Summary Dataframe n={len(df)} to {save_path_df}\")"
   ]
  },
  {
   "cell_type": "markdown",
   "metadata": {},
   "source": [
    "### Split up the Multi FASTA for all iids"
   ]
  },
  {
   "cell_type": "code",
   "execution_count": 11,
   "metadata": {},
   "outputs": [
    {
     "name": "stdout",
     "output_type": "stream",
     "text": [
      "Successfully split up into single fastas.\n",
      "Saved Summary Dataframe n=1751 to ./output/single_seq_split.tsv\n",
      "CPU times: user 13.2 s, sys: 202 ms, total: 13.4 s\n",
      "Wall time: 21.4 s\n"
     ]
    }
   ],
   "source": [
    "%%time\n",
    "fasta_path = \"./data/mar20/gisaid_cov2020_sequences_30.fasta\"\n",
    "savepath = \"./output/single_seq_split.tsv\"\n",
    "min_cov_bs = 20000\n",
    "\n",
    "fiter = fasta_iter(fasta_path)\n",
    "iids = np.array([ff[0] for ff in fiter])\n",
    "\n",
    "df = split_fasta(fasta_name=\"./data/mar20/gisaid_cov2020_sequences_26.fasta\", \n",
    "            path_out=\"./output/singleseq/\", \n",
    "            iids=iids[:], clean=True, \n",
    "            min_cov_bs=min_cov_bs, output=False)\n",
    "\n",
    "#df[\"include\"].value_counts()\n",
    "print(f\"Successfully split up into single fastas.\")\n",
    "df.to_csv(savepath, sep=\"\\t\", index=False)\n",
    "print(f\"Saved Summary Dataframe n={len(df)} to {savepath}\")"
   ]
  },
  {
   "cell_type": "markdown",
   "metadata": {},
   "source": [
    "### Run the full alignment\n",
    "Requires mafft in path"
   ]
  },
  {
   "cell_type": "code",
   "execution_count": 12,
   "metadata": {},
   "outputs": [
    {
     "name": "stdout",
     "output_type": "stream",
     "text": [
      "Saved Summary Dataframe n=1751 to output/single_seq_aligned.tsv\n",
      "CPU times: user 9.92 s, sys: 16.7 s, total: 26.6 s\n",
      "Wall time: 9min 39s\n"
     ]
    }
   ],
   "source": [
    "%%time\n",
    "df = pd.read_csv(\"./output/single_seq_split.tsv\", sep=\"\\t\")\n",
    "align_mafft_multiple(df, \n",
    "                     in_folder = \"./output/singleseq/\",\n",
    "                     out_folder=\"./output/singleseq_aligned/\",\n",
    "                     ref_path = \"./data/reference/wuhan-hu-1.fasta\",\n",
    "                     save_path_df = \"output/single_seq_aligned.tsv\", threads=10)"
   ]
  },
  {
   "cell_type": "markdown",
   "metadata": {},
   "source": [
    "# Area 51"
   ]
  },
  {
   "cell_type": "markdown",
   "metadata": {},
   "source": [
    "## Run single test alignment\n",
    "(requires MAFFT in path)"
   ]
  },
  {
   "cell_type": "code",
   "execution_count": 152,
   "metadata": {},
   "outputs": [
    {
     "name": "stdout",
     "output_type": "stream",
     "text": [
      "CPU times: user 7.67 ms, sys: 11.8 ms, total: 19.5 ms\n",
      "Wall time: 353 ms\n"
     ]
    }
   ],
   "source": [
    "%%time\n",
    "in_path = \"./output/singleseq/hCoV-19.Beijing.235.2020.EPI_ISL_413521.2020-01-28.fasta\"\n",
    "out_path = \"./output/singleseq_aligned/test_out1.fasta\"\n",
    "\n",
    "align_mafft(in_path=in_path, out_path=out_path, thread=10, output=False)"
   ]
  },
  {
   "cell_type": "code",
   "execution_count": 54,
   "metadata": {},
   "outputs": [],
   "source": [
    "path_fasta = in_path\n",
    "\n",
    "fiter = fasta_iter(path_fasta)\n",
    "iids = np.array([ff[0] for ff in fiter])\n",
    "fiter = fasta_iter(path_fasta)\n",
    "seqs = np.array([ff[1] for ff in fiter])"
   ]
  },
  {
   "cell_type": "code",
   "execution_count": 55,
   "metadata": {},
   "outputs": [
    {
     "data": {
      "text/plain": [
       "29622"
      ]
     },
     "execution_count": 55,
     "metadata": {},
     "output_type": "execute_result"
    }
   ],
   "source": [
    "len(seqs[0])"
   ]
  },
  {
   "cell_type": "code",
   "execution_count": 56,
   "metadata": {},
   "outputs": [],
   "source": [
    "path_fasta = out_path\n",
    "\n",
    "fiter = fasta_iter(path_fasta)\n",
    "iids = np.array([ff[0] for ff in fiter])\n",
    "fiter = fasta_iter(path_fasta)\n",
    "seqs = np.array([ff[1] for ff in fiter])"
   ]
  },
  {
   "cell_type": "code",
   "execution_count": 59,
   "metadata": {},
   "outputs": [
    {
     "data": {
      "text/plain": [
       "29903"
      ]
     },
     "execution_count": 59,
     "metadata": {},
     "output_type": "execute_result"
    }
   ],
   "source": [
    "len(seqs[1])"
   ]
  },
  {
   "cell_type": "markdown",
   "metadata": {},
   "source": [
    "### Load multi fasta"
   ]
  },
  {
   "cell_type": "code",
   "execution_count": 206,
   "metadata": {},
   "outputs": [],
   "source": [
    "path_fasta = \"./data/mar20/gisaid_cov2020_sequences_26.fasta\"\n",
    "fiter = fasta_iter(path_fasta)\n",
    "iids = np.array([ff[0] for ff in fiter])\n",
    "fiter = fasta_iter_raw(path_fasta)\n",
    "seqs = np.array([ff[1] for ff in fiter])"
   ]
  },
  {
   "cell_type": "markdown",
   "metadata": {},
   "source": [
    "### Load single fasta"
   ]
  },
  {
   "cell_type": "code",
   "execution_count": 223,
   "metadata": {},
   "outputs": [],
   "source": [
    "path_fasta = \"./output/singleseq_aligned/hCoV-19.Brazil.SPBR-03.2020.EPI_ISL_414014.2020-03-02.fasta\"\n",
    "fiter = fasta_iter_raw(path_fasta)\n",
    "iid, seq = next(fiter)"
   ]
  },
  {
   "cell_type": "markdown",
   "metadata": {},
   "source": [
    "# Quick Coverage Analysis"
   ]
  },
  {
   "cell_type": "code",
   "execution_count": 14,
   "metadata": {},
   "outputs": [],
   "source": [
    "fiter = fasta_iter_raw(\"./data/mar20/gisaid_cov2020_sequences_30.fasta\")\n",
    "seqs = np.array([ff[1] for ff in fiter])\n",
    "covered = [len(s) - s.count('\\n') - s.count(\"N\") for s in seqs]"
   ]
  },
  {
   "cell_type": "code",
   "execution_count": 15,
   "metadata": {},
   "outputs": [
    {
     "data": {
      "image/png": "[encoded data removed]",
      "text/plain": [
       "<Figure size 432x288 with 1 Axes>"
      ]
     },
     "metadata": {
      "needs_background": "light"
     },
     "output_type": "display_data"
    }
   ],
   "source": [
    "bins = np.arange(0, 31000, 100)\n",
    "plt.figure()\n",
    "ax = plt.gca()\n",
    "ax.hist(covered, bins=bins, ec=\"k\")\n",
    "ax.set_xlim([20000,31000])\n",
    "plt.show()"
   ]
  },
  {
   "cell_type": "code",
   "execution_count": 166,
   "metadata": {},
   "outputs": [
    {
     "data": {
      "text/plain": [
       "'AB___Cd_E'"
      ]
     },
     "execution_count": 166,
     "metadata": {},
     "output_type": "execute_result"
    }
   ],
   "source": [
    "test = \"AB   Cd E\"\n",
    "test1 = re.sub(\"\\s\", \"_\", test)\n",
    "test1"
   ]
  },
  {
   "cell_type": "code",
   "execution_count": 17,
   "metadata": {},
   "outputs": [
    {
     "name": "stdout",
     "output_type": "stream",
     "text": [
      "lol\n"
     ]
    }
   ],
   "source": [
    "print('lol')"
   ]
  },
  {
   "cell_type": "code",
   "execution_count": null,
   "metadata": {},
   "outputs": [],
   "source": []
  }
 ],
 "metadata": {
  "kernelspec": {
   "display_name": "Python 3",
   "language": "python",
   "name": "python3"
  },
  "language_info": {
   "codemirror_mode": {
    "name": "ipython",
    "version": 3
   },
   "file_extension": ".py",
   "mimetype": "text/x-python",
   "name": "python",
   "nbconvert_exporter": "python",
   "pygments_lexer": "ipython3",
   "version": "3.7.4"
  }
 },
 "nbformat": 4,
 "nbformat_minor": 4
}
