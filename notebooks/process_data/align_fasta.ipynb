{
 "cells": [
  {
   "cell_type": "markdown",
   "metadata": {},
   "source": [
    "# Align Fasta to Reference Fasta"
   ]
  },
  {
   "cell_type": "code",
   "execution_count": 19,
   "metadata": {},
   "outputs": [
    {
     "name": "stdout",
     "output_type": "stream",
     "text": [
      "Current machine: DESKTOP-5RJD9NC\n",
      "D:\\gitProjects\\covid19_data\n"
     ]
    }
   ],
   "source": [
    "import numpy as np\n",
    "import os as os\n",
    "import sys as sys\n",
    "import multiprocessing as mp\n",
    "import pandas as pd\n",
    "import socket\n",
    "import matplotlib.pyplot as plt\n",
    "from itertools import groupby\n",
    "import os\n",
    "\n",
    "### Pick the right path (whether on cluster or at home)\n",
    "socket_name = socket.gethostname()\n",
    "print(f\"Current machine: {socket_name}\")\n",
    "if socket_name == \"DESKTOP-5RJD9NC\":\n",
    "    path = \"/gitProjects/covid19_data\"   # The Path on Harald's machine\n",
    "else: \n",
    "    raise RuntimeWarning(\"Not compatible machine. Check!!\")\n",
    "\n",
    "os.chdir(path)  # Set the right Path (in line with Atom default)\n",
    "print(os.getcwd())"
   ]
  },
  {
   "cell_type": "markdown",
   "metadata": {},
   "source": [
    "### Clean Fasta File (remove is)"
   ]
  },
  {
   "cell_type": "code",
   "execution_count": 61,
   "metadata": {},
   "outputs": [],
   "source": [
    "def write_fasta(sample_line, seq_lines, savepath=\"\"):\n",
    "    \"\"\"Write a single Fasta file.\n",
    "    sample_line: Line of the Sample to write\n",
    "    seq_lines: Genotype Sequences to write\n",
    "    savepath: Where to write Fasta File to\n",
    "    \"\"\"\n",
    "    f1 = open(savepath, \"w\")\n",
    "    f1.write(sample_line)  # Write the new line\n",
    "    for line in seq_lines:\n",
    "        f1.write(line)\n",
    "    f1.close()\n",
    "    print(f\"Saved fasta to {savepath}\")\n",
    "    \n",
    "def fasta_iter_raw(fasta_name):\n",
    "    \"\"\"\n",
    "    Return iterator for fasta\n",
    "    \"\"\"\n",
    "    \n",
    "    \"first open the file outside \"\n",
    "    fh = open(fasta_name)\n",
    "    # ditch the boolean (x[0]) and just keep the header or sequence since\n",
    "    # we know they alternate.\n",
    "    faiter = (x[1] for x in groupby(fh, lambda line: line[0] == \">\"))\n",
    "\n",
    "    for header in faiter:\n",
    "        # drop the \">\"\n",
    "        headerStr = header.__next__()   #[1:].strip()\n",
    "        # join all sequence lines to one.\n",
    "        seq = \"\".join(s for s in faiter.__next__())  # .strip()\n",
    "        yield (headerStr, seq) \n",
    "        \n",
    "def fasta_iter(fasta_name):\n",
    "    \"\"\"\n",
    "    Return iterator for fasta\n",
    "    \"\"\"\n",
    "    \n",
    "    \"first open the file outside \"\n",
    "    fh = open(fasta_name)\n",
    "    # ditch the boolean (x[0]) and just keep the header or sequence since\n",
    "    # we know they alternate.\n",
    "    faiter = (x[1] for x in groupby(fh, lambda line: line[0] == \">\"))\n",
    "\n",
    "    for header in faiter:\n",
    "        # drop the \">\"\n",
    "        headerStr = header.__next__()[1:].strip()\n",
    "        # join all sequence lines to one.\n",
    "        seq = \"\".join(s.strip() for s in faiter.__next__())\n",
    "        yield (headerStr, seq) \n",
    "    \n",
    "def split_fasta(fasta_name, path_out=\"./output/singleseq/\", \n",
    "                iids=[], clean=False):\n",
    "    \"\"\"\n",
    "    Splits up samples from fasta if IID string contains\n",
    "    \"\"\"\n",
    "    fiter = fasta_iter_raw(fasta_name)\n",
    "    for sample_line, seq_line in fiter:\n",
    "        sample = sample_line[1:].strip()\n",
    "        if sample in iids:\n",
    "            print(f\"Matched: {sample}\")\n",
    "            sample1 = sample.replace(\"/\", \".\")\n",
    "            sample1 = sample1.replace(\"|\", \".\")\n",
    "            fasta_name_out = os.path.join(path_out, sample1 + \".fasta\")\n",
    "            if clean:\n",
    "                  raise NotImplemented(\"Implement this\")\n",
    "            write_fasta(sample_line, seq_line, fasta_name_out)\n",
    "    \n",
    "                  \n",
    "def clean_fasta(fasta_name, fasta_name_out):\n",
    "    \"\"\"\n",
    "    Remove invalid characters in sequences\n",
    "    \"\"\"\n",
    "    \"first open the file outside \"\n",
    "    f = open(fasta_name)\n",
    "    f1 = open(fasta_name_out, \"w\")\n",
    "    n=0\n",
    "    \n",
    "    for line in f:\n",
    "        if line[0]==\">\":\n",
    "            n+=1\n",
    "        else:   # If Genome Data replace i\n",
    "            line = line.replace(\"i\", \"N\")\n",
    "        f1.write(line)  # Write the new line\n",
    "    f.close()\n",
    "    f1.close()\n",
    "    print(f\"Successfully Modified {n} fastas\")\n",
    "    print(f\"Saved to {clean_fasta_path}\")"
   ]
  },
  {
   "cell_type": "code",
   "execution_count": 5,
   "metadata": {},
   "outputs": [
    {
     "name": "stdout",
     "output_type": "stream",
     "text": [
      "Successfully Modified 1871 fastas\n",
      "Saved to ./data/mar20/gisaid_cov2020_sequences_26_c.fasta\n",
      "Wall time: 1.72 s\n"
     ]
    }
   ],
   "source": [
    "%%time\n",
    "bin_path = \"bins/mafft-win/mafft.bat\"\n",
    "out_path = \"./output/aligned/test_out.fasta\"\n",
    "ref_path = \"./data/reference/wuhan-hu-1.fasta\"\n",
    "\n",
    "fasta_path = \"./data/mar20/gisaid_cov2020_sequences_26.fasta\"\n",
    "clean_fasta_path = \"./data/mar20/gisaid_cov2020_sequences_26_c.fasta\"\n",
    "threads = 4\n",
    "\n",
    "clean_fasta(fasta_path, clean_fasta_path)"
   ]
  },
  {
   "cell_type": "markdown",
   "metadata": {},
   "source": [
    "### Extract Single Sequence Fasta file"
   ]
  },
  {
   "cell_type": "code",
   "execution_count": 47,
   "metadata": {},
   "outputs": [
    {
     "name": "stdout",
     "output_type": "stream",
     "text": [
      "Saved fasta to ./output/singleseq/test.fasta\n",
      "Wall time: 29.9 ms\n"
     ]
    }
   ],
   "source": [
    "%%time\n",
    "fasta_name_out =  \"./output/singleseq/test.fasta\"\n",
    "split_fasta(fasta_name = \"./data/mar20/gisaid_cov2020_sequences_26.fasta\",\n",
    "            fasta_name_out = fasta_name_out)"
   ]
  },
  {
   "cell_type": "code",
   "execution_count": 50,
   "metadata": {},
   "outputs": [],
   "source": [
    "def align_sequence(bin_path, out_path, fasta_name_out, \n",
    "                   ref_path, bat_path=\"./bins/mafft_batch.bat\"):\n",
    "    \"\"\"Produce a batch file and runs bafft\"\"\"\n",
    "    command = f\"{bin_path} --out {out_path} --add {fasta_name_out} --mapout {ref_path}\"\n",
    "    #command=\"echo test\"\n",
    "    print(\"running command:\")\n",
    "    print(command)\n",
    "    stream = os.popen(command)\n",
    "    output = stream.read()\n",
    "    return output"
   ]
  },
  {
   "cell_type": "code",
   "execution_count": 49,
   "metadata": {},
   "outputs": [
    {
     "name": "stdout",
     "output_type": "stream",
     "text": [
      "running command:\n",
      "bins/mafft-win/mafft.bat --out ./output/aligned/test_out_single.fasta --addfull ./output/singleseq/test.fasta --mapout ./data/reference/wuhan-hu-1.fasta\n"
     ]
    },
    {
     "data": {
      "text/plain": [
       "''"
      ]
     },
     "execution_count": 49,
     "metadata": {},
     "output_type": "execute_result"
    }
   ],
   "source": [
    "align_sequence(bin_path, out_path, fasta_name_out, ref_path)"
   ]
  },
  {
   "cell_type": "markdown",
   "metadata": {},
   "source": [
    "### Align all fasta files\n",
    "Idea: Produce batch script that aligns them one by one"
   ]
  },
  {
   "cell_type": "code",
   "execution_count": 48,
   "metadata": {},
   "outputs": [],
   "source": [
    "bin_path = \"bins/mafft-win/mafft.bat\"\n",
    "out_path = \"./output/aligned/test_out.fasta\"\n",
    "ref_path = \"./data/reference/wuhan-hu-1.fasta\"\n",
    "clean_fasta_path = \"./data/mar20/gisaid_cov2020_sequences_26_c.fasta\"\n",
    "thread = 4"
   ]
  },
  {
   "cell_type": "code",
   "execution_count": 49,
   "metadata": {},
   "outputs": [
    {
     "name": "stdout",
     "output_type": "stream",
     "text": [
      "Run this command in (power) shell:\n",
      "bins/mafft-win/mafft.bat --out ./output/aligned/test_out.fasta --add ./data/mar20/gisaid_cov2020_sequences_26_c.fasta --thread 4 --mapout ./data/reference/wuhan-hu-1.fasta\n"
     ]
    }
   ],
   "source": [
    "print(\"Run this command in (power) shell:\")\n",
    "print(f\"{bin_path} --out {out_path} --add {clean_fasta_path} --thread {thread} --mapout {ref_path} --keeplength\")"
   ]
  },
  {
   "cell_type": "markdown",
   "metadata": {},
   "source": [
    "# Area 51"
   ]
  },
  {
   "cell_type": "code",
   "execution_count": 67,
   "metadata": {},
   "outputs": [],
   "source": [
    "fiter = fasta_iter(\"./data/mar20/gisaid_cov2020_sequences_26.fasta\")\n",
    "iids = np.array([ff[0] for ff in fiter])\n",
    "fiter = fasta_iter(\"./data/mar20/gisaid_cov2020_sequences_26.fasta\")\n",
    "seqs = np.array([ff[1] for ff in fiter])"
   ]
  },
  {
   "cell_type": "code",
   "execution_count": 66,
   "metadata": {},
   "outputs": [
    {
     "data": {
      "text/plain": [
       "30129"
      ]
     },
     "execution_count": 66,
     "metadata": {},
     "output_type": "execute_result"
    }
   ],
   "source": [
    "ll = [len(s) for s in seqs]\n",
    "ll[734]"
   ]
  },
  {
   "cell_type": "code",
   "execution_count": 68,
   "metadata": {},
   "outputs": [
    {
     "data": {
      "text/plain": [
       "'hCoV-19/USA/WA-UW182/2020|EPI_ISL_416720|2020-03-13'"
      ]
     },
     "execution_count": 68,
     "metadata": {},
     "output_type": "execute_result"
    }
   ],
   "source": [
    "iids[734]"
   ]
  },
  {
   "cell_type": "code",
   "execution_count": 54,
   "metadata": {},
   "outputs": [],
   "source": [
    "sample_line, seq_line = next(fiter)"
   ]
  },
  {
   "cell_type": "code",
   "execution_count": 28,
   "metadata": {},
   "outputs": [
    {
     "data": {
      "text/plain": [
       "'>hCoV-19/USA/WA-S88/2020|EPI_ISL_417141|2020-03-01\\n'"
      ]
     },
     "execution_count": 28,
     "metadata": {},
     "output_type": "execute_result"
    }
   ],
   "source": [
    "sample_line"
   ]
  },
  {
   "cell_type": "code",
   "execution_count": 42,
   "metadata": {},
   "outputs": [
    {
     "data": {
      "text/plain": [
       "30277"
      ]
     },
     "execution_count": 42,
     "metadata": {},
     "output_type": "execute_result"
    }
   ],
   "source": [
    "len(seq_line)"
   ]
  },
  {
   "cell_type": "code",
   "execution_count": 70,
   "metadata": {},
   "outputs": [
    {
     "name": "stdout",
     "output_type": "stream",
     "text": [
      "Matched: hCoV-19/USA/WA-UW182/2020|EPI_ISL_416720|2020-03-13\n",
      "Saved fasta to ./output/singleseq/hCoV-19.USA.WA-UW182.2020.EPI_ISL_416720.2020-03-13.fasta\n"
     ]
    }
   ],
   "source": [
    "split_fasta(fasta_name=\"./data/mar20/gisaid_cov2020_sequences_26.fasta\", \n",
    "            path_out=\"./output/singleseq/\", \n",
    "            iids=['hCoV-19/USA/WA-UW182/2020|EPI_ISL_416720|2020-03-13'], \n",
    "            clean=False)"
   ]
  },
  {
   "cell_type": "code",
   "execution_count": null,
   "metadata": {},
   "outputs": [],
   "source": []
  }
 ],
 "metadata": {
  "kernelspec": {
   "display_name": "Python 3",
   "language": "python",
   "name": "python3"
  },
  "language_info": {
   "codemirror_mode": {
    "name": "ipython",
    "version": 3
   },
   "file_extension": ".py",
   "mimetype": "text/x-python",
   "name": "python",
   "nbconvert_exporter": "python",
   "pygments_lexer": "ipython3",
   "version": "3.7.7rc1"
  }
 },
 "nbformat": 4,
 "nbformat_minor": 4
}
