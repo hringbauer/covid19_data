{
 "cells": [
  {
   "cell_type": "markdown",
   "metadata": {},
   "source": [
    "# Align Fasta to Reference Fasta"
   ]
  },
  {
   "cell_type": "code",
   "execution_count": 44,
   "metadata": {},
   "outputs": [
    {
     "name": "stdout",
     "output_type": "stream",
     "text": [
      "Current machine: compute-a-16-161.o2.rc.hms.harvard.edu\n",
      "HSM Computational partition detected.\n",
      "/n/groups/reich/hringbauer/git/covid19_data\n"
     ]
    }
   ],
   "source": [
    "import numpy as np\n",
    "import os as os\n",
    "import sys as sys\n",
    "import multiprocessing as mp\n",
    "import pandas as pd\n",
    "import socket\n",
    "import matplotlib.pyplot as plt\n",
    "from itertools import groupby\n",
    "from shutil import which\n",
    "import os\n",
    "import re as re\n",
    "import h5py  # Python Package to do the HDF5.\n",
    "\n",
    "### Pick the right path (whether on cluster or at home)\n",
    "socket_name = socket.gethostname()\n",
    "print(f\"Current machine: {socket_name}\")\n",
    "if socket_name == \"DESKTOP-5RJD9NC\":\n",
    "    path = \"/gitProjects/covid19_data\"   # The Path on Harald's machine\n",
    "if socket_name.startswith(\"compute-\"):\n",
    "    print(\"HSM Computational partition detected.\")\n",
    "    path = \"/n/groups/reich/hringbauer/git/covid19_data/\"  # The Path on Midway Cluster\n",
    "else: \n",
    "    raise RuntimeWarning(\"Not compatible machine. Check!!\")\n",
    "    \n",
    "### Check whether required bins are available\n",
    "req_bins = [\"mafft\"] \n",
    "for b in req_bins:\n",
    "    s = which(b)\n",
    "    if not s:\n",
    "        print(f\"Make sure to install {b} and have in path. I cannot find it!\")\n",
    "\n",
    "os.chdir(path)  # Set the right Path (in line with Atom default)\n",
    "print(os.getcwd())"
   ]
  },
  {
   "cell_type": "markdown",
   "metadata": {},
   "source": [
    "### Clean Fasta File (remove is)"
   ]
  },
  {
   "cell_type": "code",
   "execution_count": 39,
   "metadata": {},
   "outputs": [],
   "source": [
    "def write_fasta(sample_line, seq_lines, savepath=\"\", output=True):\n",
    "    \"\"\"Write a single Fasta file.\n",
    "    sample_line: Line of the Sample to write\n",
    "    seq_lines: Genotype Sequences to write\n",
    "    savepath: Where to write Fasta File to\n",
    "    \"\"\"\n",
    "    f1 = open(savepath, \"w\")\n",
    "    f1.write(sample_line)  # Write the new line\n",
    "    for line in seq_lines:\n",
    "        f1.write(line)\n",
    "    f1.close()\n",
    "    if output:\n",
    "        print(f\"Saved fasta to {savepath}\")\n",
    "    \n",
    "def fasta_iter_raw(fasta_name):\n",
    "    \"\"\"\n",
    "    Return iterator for fasta\n",
    "    \"\"\"\n",
    "    \n",
    "    \"first open the file outside \"\n",
    "    fh = open(fasta_name)\n",
    "    # ditch the boolean (x[0]) and just keep the header or sequence since\n",
    "    # we know they alternate.\n",
    "    faiter = (x[1] for x in groupby(fh, lambda line: line[0] == \">\"))\n",
    "    \n",
    "    for header in faiter:\n",
    "        # drop the \">\"\n",
    "        headerStr = header.__next__()   #[1:].strip()\n",
    "        # join all sequence lines to one.\n",
    "        seq = \"\".join(s for s in faiter.__next__())  # .strip()\n",
    "        yield (headerStr, seq) \n",
    "        \n",
    "def fasta_iter(fasta_name):\n",
    "    \"\"\"\n",
    "    Return iterator for fasta\n",
    "    \"\"\"\n",
    "    \"first open the file outside \"\n",
    "    fh = open(fasta_name)\n",
    "    # ditch the boolean (x[0]) and just keep the header or sequence since\n",
    "    # we know they alternate.\n",
    "    faiter = (x[1] for x in groupby(fh, lambda line: line[0] == \">\"))\n",
    "\n",
    "    for header in faiter:\n",
    "        # drop the \">\"\n",
    "        headerStr = header.__next__()[1:].strip()\n",
    "        # join all sequence lines to one.\n",
    "        seq = \"\".join(s.strip() for s in faiter.__next__())\n",
    "        yield (headerStr, seq) \n",
    "        \n",
    "def clean_seq_line(seq_line, replace_char=r'[^ACGTN\\n\\r]',\n",
    "                   with_char=\"N\"):\n",
    "    \"\"\"Clean seq_line String.\n",
    "    Return updated string\"\"\"\n",
    "    seq_line = seq_line.upper()   # Make Upper Case\n",
    "    seq_line = re.sub(replace_char, with_char, seq_line)\n",
    "    return seq_line\n",
    "\n",
    "def include_samples(sample_seq, min_cov_bs):\n",
    "    \"\"\"Quick check whether to include sample.\n",
    "    min_cov_bs: Minimum Number of covered Bases\n",
    "    return include status, nr covered bases\"\"\"\n",
    "    lgth = len(sample_seq) - sample_seq.count('\\n') - sample_seq.count(\"N\")\n",
    "    include = True\n",
    "    if lgth < min_cov_bs:\n",
    "        include = False\n",
    "    return include, lgth\n",
    "        \n",
    "def split_fasta(fasta_name, path_out=\"./output/singleseq/\", \n",
    "                iids=[], clean=True, \n",
    "                min_cov_bs=20000, output=True):\n",
    "    \"\"\"\n",
    "    Splits up samples from fasta if IID string contains\n",
    "    clean: Whether to clean string (make everything upper-case \n",
    "    and substitute with N)\n",
    "    min_cov_bs: How many bases covered at least once\n",
    "    Return list of samples that have been run\n",
    "    df_prev\n",
    "    \"\"\"\n",
    "    fiter = fasta_iter_raw(fasta_name)\n",
    "    \n",
    "    iids_org, iids_prcsd = [], []\n",
    "    cvg, icld = [], []\n",
    "    \n",
    "    for sample_line, seq_line in fiter:\n",
    "        sample = sample_line[1:].strip()\n",
    "        if sample in iids:\n",
    "            if output:\n",
    "                print(f\"Matched: {sample}\")\n",
    "            sample1 = re.sub(\"[\\|\\/]\", \".\", sample)\n",
    "            sample1 = re.sub(\"\\s\", \"_\", sample1) # Remplace White Spaces\n",
    "            \n",
    "            if clean:\n",
    "                seq_line = clean_seq_line(seq_line)\n",
    "            include, lgth = include_samples(seq_line, min_cov_bs=min_cov_bs)\n",
    "            \n",
    "            ### Append Statistics\n",
    "            iids_org.append(sample)\n",
    "            iids_prcsd.append(sample1)\n",
    "            cvg.append(lgth)\n",
    "            icld.append(include)\n",
    "            \n",
    "            if include:\n",
    "                fasta_name_out = os.path.join(path_out, sample1 + \".fasta\")\n",
    "                write_fasta(sample_line, seq_line, fasta_name_out, output=output)\n",
    "                \n",
    "    # Make a Summary Dataframe\n",
    "    df = pd.DataFrame({\"iid\":iids_org, \"iid_clean\":iids_prcsd, \n",
    "                        \"cov\":cvg,  \"include\":icld, \"aligned_path\": \"\"})\n",
    "    return df\n",
    "                  \n",
    "def clean_fasta(fasta_name, fasta_name_out):\n",
    "    \"\"\"\n",
    "    Remove invalid characters in sequences\n",
    "    \"\"\"\n",
    "    \"first open the file outside \"\n",
    "    f = open(fasta_name)\n",
    "    f1 = open(fasta_name_out, \"w\")\n",
    "    n=0\n",
    "    \n",
    "    for line in f:\n",
    "        if line[0]==\">\":\n",
    "            n+=1\n",
    "        else:   # If Genome Data replace i\n",
    "            line = line.replace(\"i\", \"N\")\n",
    "        f1.write(line)  # Write the new line\n",
    "    f.close()\n",
    "    f1.close()\n",
    "    print(f\"Successfully Modified {n} fastas\")\n",
    "    print(f\"Saved to {clean_fasta_path}\")\n",
    "    \n",
    "def align_mafft(in_path, out_path, ref_path=\"./data/reference/wuhan-hu-1.fasta\", \n",
    "                thread=10, output=True):\n",
    "    \"\"\"Align in_path against ref_path using MAFFT.\n",
    "    Save in out_path\"\"\"\n",
    "    #command = f\"mafft --out {out_path} --add {in_path} --thread {thread} --keeplength {ref_path}\"\n",
    "    #print(command)\n",
    "    #stream = os.popen(command)\n",
    "    #if output:\n",
    "    #    output = stream.read()\n",
    "    #    return output  \n",
    "    if output:\n",
    "        !mafft --out $out_path --add $in_path --thread $thread --keeplength $ref_path\n",
    "    else: \n",
    "        !mafft --out $out_path --add $in_path --thread $thread --quiet --keeplength $ref_path \n",
    "    \n",
    "def align_mafft_multiple(df, \n",
    "                         in_folder = \"./output/singleseq/\",\n",
    "                         out_folder=\"./output/singleseq_aligned/\",\n",
    "                         ref_path = \"./data/reference/wuhan-hu-1.fasta\",\n",
    "                         save_path_df = \"\", threads=10, output=False, overwrite=False,\n",
    "                         iid_col=\"iid_clean\", align_col = \"aligned_path\", icl_col=\"include\",\n",
    "                         ):\n",
    "    \"\"\"Align all sequences not yet aligned\n",
    "    df: Dataframe with sample iids\n",
    "    out_folder: Where to save \n",
    "    overwrite: Whether to overwrite existing output\"\"\"\n",
    "    \n",
    "    if align_col not in df:\n",
    "        df[align_col] = \"\"\n",
    "\n",
    "    for index, row in df.iterrows():\n",
    "        iid = row[iid_col]\n",
    "        align_path = row[align_col]\n",
    "        align_path1 = os.path.join(out_folder, iid + \".fasta\")\n",
    "        icld = row[icl_col]\n",
    "        \n",
    "        if (align_path != align_path1) and icld: # Works also if np.nan\n",
    "            if os.path.exists(align_path1) and (not overwrite):  # Check if Path already exisits\n",
    "                continue\n",
    "            in_path = os.path.join(in_folder, iid + \".fasta\")\n",
    "            \n",
    "            align_mafft(in_path, out_path=align_path1, \n",
    "                        ref_path=ref_path, thread=threads, output=output)\n",
    "            row[align_col] = align_path1\n",
    "\n",
    "    if len(save_path_df)>0:\n",
    "        df.to_csv(save_path_df, sep=\"\\t\", index=False)\n",
    "        print(f\"Saved Summary Dataframe n={len(df)} to {save_path_df}\")\n",
    "        \n",
    "def merge_new_existing_df(path_new= \"./output/single_seq_split.tsv\", \n",
    "                          path_existing= \"output/single_seq_aligned.tsv\", \n",
    "                          savepath = \"same\",\n",
    "                          align_col = \"aligned_path\"):\n",
    "    \"\"\"Merge New and Existing Dataframe\"\"\"\n",
    "    if savepath==\"same\":\n",
    "        savepath = path_existing\n",
    "\n",
    "    df1 = pd.read_csv(path_new, sep=\"\\t\") \n",
    "    df2 = pd.read_csv(path_existing, sep=\"\\t\")\n",
    "\n",
    "    ### Add the alginment to the new one:\n",
    "    df1[align_col] = \"\"\n",
    "    assert((df1.columns ==df2.columns).all())\n",
    "\n",
    "    df_merge = pd.concat([df2,df1]) # put existing ones first\n",
    "    df_merge = df_merge.drop_duplicates(subset=\"iid_clean\", keep=\"first\").reset_index(drop=True)\n",
    "\n",
    "    if len(savepath)>0:\n",
    "        df_merge.to_csv(savepath, sep=\"\\t\", index=False)\n",
    "        print(f\"Saved Summary Dataframe n={len(df_merge)} to {savepath}\")\n",
    "    return df_merge"
   ]
  },
  {
   "cell_type": "markdown",
   "metadata": {},
   "source": [
    "### Split up the Multi FASTA into single FASTAs"
   ]
  },
  {
   "cell_type": "code",
   "execution_count": 5,
   "metadata": {},
   "outputs": [
    {
     "name": "stdout",
     "output_type": "stream",
     "text": [
      "Successfully split up into single fastas.\n",
      "Saved Summary Dataframe n=3332 to ./output/single_seq_split.tsv\n",
      "CPU times: user 30.4 s, sys: 671 ms, total: 31 s\n",
      "Wall time: 1min 32s\n"
     ]
    }
   ],
   "source": [
    "%%time\n",
    "fasta_path = \"./data/apr20/gisaid_cov2020_sequences.fasta\"  # Change\n",
    "savepath = \"./output/single_seq_split.tsv\"\n",
    "min_cov_bs = 20000\n",
    "\n",
    "fiter = fasta_iter(fasta_path)\n",
    "iids = np.array([ff[0] for ff in fiter])\n",
    "\n",
    "df = split_fasta(fasta_name=\"./data/apr20/gisaid_cov2020_sequences.fasta\", \n",
    "            path_out=\"./output/singleseq/\", \n",
    "            iids=iids[:], clean=True, \n",
    "            min_cov_bs=min_cov_bs, output=False)\n",
    "\n",
    "#df[\"include\"].value_counts()\n",
    "print(f\"Successfully split up into single fastas.\")\n",
    "df.to_csv(savepath, sep=\"\\t\", index=False)\n",
    "print(f\"Saved Summary Dataframe n={len(df)} to {savepath}\")"
   ]
  },
  {
   "cell_type": "markdown",
   "metadata": {},
   "source": [
    "### Merge new Individuals into existing dataframe\n",
    "(only keep the existing ones)"
   ]
  },
  {
   "cell_type": "code",
   "execution_count": 43,
   "metadata": {},
   "outputs": [
    {
     "name": "stdout",
     "output_type": "stream",
     "text": [
      "Saved Summary Dataframe n=3332 to output/single_seq_aligned1.tsv\n"
     ]
    }
   ],
   "source": [
    "df_merge = merge_new_existing_df(path_new= \"./output/single_seq_split.tsv\", \n",
    "                          path_existing= \"output/single_seq_aligned.tsv\", \n",
    "                          savepath = \"output/single_seq_aligned1.tsv\")"
   ]
  },
  {
   "cell_type": "markdown",
   "metadata": {},
   "source": [
    "### Run the full alignment\n",
    "Requires mafft in path"
   ]
  },
  {
   "cell_type": "code",
   "execution_count": 6,
   "metadata": {},
   "outputs": [
    {
     "name": "stdout",
     "output_type": "stream",
     "text": [
      "Saved Summary Dataframe n=3332 to output/single_seq_aligned.tsv\n",
      "CPU times: user 12.7 s, sys: 10.4 s, total: 23.1 s\n",
      "Wall time: 10min 42s\n"
     ]
    }
   ],
   "source": [
    "%%time\n",
    "df = pd.read_csv(\"./output/single_seq_split.tsv\", sep=\"\\t\")  \n",
    "\n",
    "align_mafft_multiple(df, \n",
    "                     in_folder = \"./output/singleseq/\",\n",
    "                     out_folder=\"./output/singleseq_aligned/\",\n",
    "                     ref_path = \"./data/reference/wuhan-hu-1.fasta\",\n",
    "                     save_path_df = \"output/single_seq_aligned.tsv\", threads=10)"
   ]
  },
  {
   "cell_type": "markdown",
   "metadata": {},
   "source": [
    "# Area 51"
   ]
  },
  {
   "cell_type": "code",
   "execution_count": 36,
   "metadata": {},
   "outputs": [],
   "source": [
    "df = pd.read_csv(\"./output/single_seq_aligned.tsv\", sep=\"\\t\") "
   ]
  },
  {
   "cell_type": "markdown",
   "metadata": {},
   "source": [
    "## Run single test alignment\n",
    "(requires MAFFT in path)"
   ]
  },
  {
   "cell_type": "code",
   "execution_count": 152,
   "metadata": {},
   "outputs": [
    {
     "name": "stdout",
     "output_type": "stream",
     "text": [
      "CPU times: user 7.67 ms, sys: 11.8 ms, total: 19.5 ms\n",
      "Wall time: 353 ms\n"
     ]
    }
   ],
   "source": [
    "%%time\n",
    "in_path = \"./output/singleseq/hCoV-19.Beijing.235.2020.EPI_ISL_413521.2020-01-28.fasta\"\n",
    "out_path = \"./output/singleseq_aligned/test_out1.fasta\"\n",
    "\n",
    "align_mafft(in_path=in_path, out_path=out_path, thread=10, output=False)"
   ]
  },
  {
   "cell_type": "code",
   "execution_count": 54,
   "metadata": {},
   "outputs": [],
   "source": [
    "path_fasta = in_path\n",
    "\n",
    "fiter = fasta_iter(path_fasta)\n",
    "iids = np.array([ff[0] for ff in fiter])\n",
    "fiter = fasta_iter(path_fasta)\n",
    "seqs = np.array([ff[1] for ff in fiter])"
   ]
  },
  {
   "cell_type": "code",
   "execution_count": 55,
   "metadata": {},
   "outputs": [
    {
     "data": {
      "text/plain": [
       "29622"
      ]
     },
     "execution_count": 55,
     "metadata": {},
     "output_type": "execute_result"
    }
   ],
   "source": [
    "len(seqs[0])"
   ]
  },
  {
   "cell_type": "code",
   "execution_count": 56,
   "metadata": {},
   "outputs": [],
   "source": [
    "path_fasta = out_path\n",
    "\n",
    "fiter = fasta_iter(path_fasta)\n",
    "iids = np.array([ff[0] for ff in fiter])\n",
    "fiter = fasta_iter(path_fasta)\n",
    "seqs = np.array([ff[1] for ff in fiter])"
   ]
  },
  {
   "cell_type": "code",
   "execution_count": 59,
   "metadata": {},
   "outputs": [
    {
     "data": {
      "text/plain": [
       "29903"
      ]
     },
     "execution_count": 59,
     "metadata": {},
     "output_type": "execute_result"
    }
   ],
   "source": [
    "len(seqs[1])"
   ]
  },
  {
   "cell_type": "markdown",
   "metadata": {},
   "source": [
    "### Load multi fasta"
   ]
  },
  {
   "cell_type": "code",
   "execution_count": 38,
   "metadata": {},
   "outputs": [],
   "source": [
    "path_fasta = \"./data/mar20/gisaid_cov2020_sequences_30.fasta\"\n",
    "fiter = fasta_iter(path_fasta)\n",
    "iids = np.array([ff[0] for ff in fiter])\n",
    "fiter = fasta_iter(path_fasta)  # iter_raw\n",
    "seqs = np.array([ff[1] for ff in fiter])"
   ]
  },
  {
   "cell_type": "code",
   "execution_count": 63,
   "metadata": {},
   "outputs": [
    {
     "data": {
      "text/plain": [
       "1"
      ]
     },
     "execution_count": 63,
     "metadata": {},
     "output_type": "execute_result"
    }
   ],
   "source": [
    "target_iid = 'hCoV-19/Scotland/EDB007/2020|EPI_ISL_415634|2020-03-06'\n",
    "target_iid = 'hCoV-19/USA/WA-S91/2020|EPI_ISL_417144|2020-03-02'\n",
    "idx = (iids==target_iid)\n",
    "#idx = (iids==\"hCoV-19/Japan/DP0763/2020|EPI_ISL_416623|2020-02-17\")\n",
    "np.sum(idx)"
   ]
  },
  {
   "cell_type": "code",
   "execution_count": 64,
   "metadata": {},
   "outputs": [
    {
     "name": "stdout",
     "output_type": "stream",
     "text": [
      "29903\n"
     ]
    }
   ],
   "source": [
    "seq = seqs[idx][0]\n",
    "print(len(seq))"
   ]
  },
  {
   "cell_type": "code",
   "execution_count": 65,
   "metadata": {},
   "outputs": [
    {
     "data": {
      "text/plain": [
       "'GCAAACTGGAAAGATTGCTGATTATAATTATAAATTACCAGATGATTTTACAGGCTGCGTTATAGCTTGGAATTCTAACAATCTTGATTCTAAGGTTGGTGGTAATTATAATTACCTGTATAGATTGTTTAGGAAGTCTAATCTCAAACCTTTTGAGAGAGATATTTCAACTGAAATCTATCAGGCCGGTAGCACACCTTGTAATGGTGTTGAAGGTTTTAATTGTTACTTTCCTTTACAATCATATGGTTTCCAACCCACTAATGGTGTTGGTTACCAACCATACAGAGTAGTAGTACTTTCTTTTGAACTTCTACATGCACCAGCAACTGTTTGTGGACCTAAAAAGTCTACTAATTTGGTTAAAAACAAATGTGTCAATTTCAACTTCAATGGTTTAA'"
      ]
     },
     "execution_count": 65,
     "metadata": {},
     "output_type": "execute_result"
    }
   ],
   "source": [
    "seq[22800:23201]"
   ]
  },
  {
   "cell_type": "code",
   "execution_count": 24,
   "metadata": {},
   "outputs": [
    {
     "data": {
      "text/plain": [
       "array([22900, 22901, 22902, 22903, 22904, 22905, 22906, 22907, 22908,\n",
       "       22909, 22910, 22911, 22912, 22913, 22914, 22915, 22916, 22917,\n",
       "       22918, 22919, 22920, 22921, 22922, 22923, 22924, 22925, 22926,\n",
       "       22927, 22928, 22929, 22930, 22931, 22932, 22933, 22934, 22935,\n",
       "       22936, 22937, 22938, 22939, 22940, 22941, 22942, 22943, 22944,\n",
       "       22945, 22946, 22947, 22948, 22949, 22950, 22951, 22952, 22953,\n",
       "       22954, 22955, 22956, 22957, 22958, 22959, 22960, 22961, 22962,\n",
       "       22963, 22964, 22965, 22966, 22967, 22968, 22969, 22970, 22971,\n",
       "       22972, 22973, 22974, 22975, 22976, 22977, 22978, 22979, 22980,\n",
       "       22981, 22982, 22983, 22984, 22985, 22986, 22987, 22988, 22989,\n",
       "       22990, 22991, 22992, 22993, 22994, 22995, 22996, 22997, 22998,\n",
       "       22999, 23000, 23001, 23002, 23003, 23004, 23005, 23006, 23007,\n",
       "       23008, 23009, 23010, 23011, 23012, 23013, 23014, 23015, 23016,\n",
       "       23017, 23018, 23019, 23020, 23021, 23022, 23023, 23024, 23025,\n",
       "       23026, 23027, 23028, 23029, 23030, 23031, 23032, 23033, 23034,\n",
       "       23035, 23036, 23037, 23038, 23039, 23040, 23041, 23042, 23043,\n",
       "       23044, 23045, 23046, 23047, 23048, 23049, 23050, 23051, 23052,\n",
       "       23053, 23054, 23055, 23056, 23057, 23058, 23059, 23060, 23061,\n",
       "       23062, 23063, 23064, 23065, 23066, 23067, 23068, 23069, 23070,\n",
       "       23071, 23072, 23073, 23074, 23075, 23076, 23077, 23078, 23079,\n",
       "       23080, 23081, 23082, 23083, 23084, 23085, 23086, 23087, 23088,\n",
       "       23089, 23090, 23091, 23092, 23093, 23094, 23095, 23096, 23097,\n",
       "       23098, 23099, 23100])"
      ]
     },
     "execution_count": 24,
     "metadata": {},
     "output_type": "execute_result"
    }
   ],
   "source": [
    "np.arange(22900,23101)"
   ]
  },
  {
   "cell_type": "markdown",
   "metadata": {},
   "source": [
    "### Load single fasta"
   ]
  },
  {
   "cell_type": "code",
   "execution_count": 6,
   "metadata": {},
   "outputs": [],
   "source": [
    "path_fasta = \"./output/singleseq/hCoV-19.Australia.NSW01.2020.EPI_ISL_407893.2020-01-24.fasta\"\n",
    "fiter = fasta_iter_raw(path_fasta)\n",
    "iid, seq = next(fiter)"
   ]
  },
  {
   "cell_type": "markdown",
   "metadata": {},
   "source": [
    "# Quick Coverage Analysis"
   ]
  },
  {
   "cell_type": "code",
   "execution_count": 14,
   "metadata": {},
   "outputs": [],
   "source": [
    "fiter = fasta_iter_raw(\"./data/mar20/gisaid_cov2020_sequences_30.fasta\")\n",
    "seqs = np.array([ff[1] for ff in fiter])\n",
    "covered = [len(s) - s.count('\\n') - s.count(\"N\") for s in seqs]"
   ]
  },
  {
   "cell_type": "code",
   "execution_count": 15,
   "metadata": {},
   "outputs": [
    {
     "data": {
      "image/png": "[encoded data removed]",
      "text/plain": [
       "<Figure size 432x288 with 1 Axes>"
      ]
     },
     "metadata": {
      "needs_background": "light"
     },
     "output_type": "display_data"
    }
   ],
   "source": [
    "bins = np.arange(0, 31000, 100)\n",
    "plt.figure()\n",
    "ax = plt.gca()\n",
    "ax.hist(covered, bins=bins, ec=\"k\")\n",
    "ax.set_xlim([20000,31000])\n",
    "plt.show()"
   ]
  },
  {
   "cell_type": "code",
   "execution_count": 166,
   "metadata": {},
   "outputs": [
    {
     "data": {
      "text/plain": [
       "'AB___Cd_E'"
      ]
     },
     "execution_count": 166,
     "metadata": {},
     "output_type": "execute_result"
    }
   ],
   "source": [
    "test = \"AB   Cd E\"\n",
    "test1 = re.sub(\"\\s\", \"_\", test)\n",
    "test1"
   ]
  },
  {
   "cell_type": "code",
   "execution_count": 19,
   "metadata": {},
   "outputs": [
    {
     "name": "stdout",
     "output_type": "stream",
     "text": [
      "lol\n"
     ]
    }
   ],
   "source": [
    "print('lol')"
   ]
  },
  {
   "cell_type": "code",
   "execution_count": null,
   "metadata": {},
   "outputs": [],
   "source": []
  }
 ],
 "metadata": {
  "kernelspec": {
   "display_name": "Python 3",
   "language": "python",
   "name": "python3"
  },
  "language_info": {
   "codemirror_mode": {
    "name": "ipython",
    "version": 3
   },
   "file_extension": ".py",
   "mimetype": "text/x-python",
   "name": "python",
   "nbconvert_exporter": "python",
   "pygments_lexer": "ipython3",
   "version": "3.7.4"
  }
 },
 "nbformat": 4,
 "nbformat_minor": 4
}
