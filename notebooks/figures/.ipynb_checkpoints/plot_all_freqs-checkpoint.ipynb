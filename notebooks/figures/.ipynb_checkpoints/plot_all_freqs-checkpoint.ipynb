{
 "cells": [
  {
   "cell_type": "markdown",
   "metadata": {},
   "source": [
    "### Allele Frequency Trajectories"
   ]
  },
  {
   "cell_type": "code",
   "execution_count": 3,
   "metadata": {},
   "outputs": [
    {
     "name": "stdout",
     "output_type": "stream",
     "text": [
      "Current machine: compute-a-16-161.o2.rc.hms.harvard.edu\n",
      "HSM Computational partition detected.\n",
      "/n/groups/reich/hringbauer/git/covid19_data\n"
     ]
    }
   ],
   "source": [
    "import numpy as np\n",
    "import os as os\n",
    "import sys as sys\n",
    "import multiprocessing as mp\n",
    "import pandas as pd\n",
    "import socket\n",
    "import matplotlib.pyplot as plt\n",
    "from itertools import groupby\n",
    "from shutil import which\n",
    "import os\n",
    "import re as re\n",
    "from datetime import date\n",
    "\n",
    "### Pick the right path (whether on cluster or at home)\n",
    "socket_name = socket.gethostname()\n",
    "print(f\"Current machine: {socket_name}\")\n",
    "if socket_name == \"DESKTOP-5RJD9NC\":\n",
    "    path = \"/gitProjects/covid19_data\"   # The Path on Harald's machine\n",
    "if socket_name.startswith(\"compute-\"):\n",
    "    print(\"HSM Computational partition detected.\")\n",
    "    path = \"/n/groups/reich/hringbauer/git/covid19_data/\"  # The Path on Midway Cluster\n",
    "else: \n",
    "    raise RuntimeWarning(\"Not compatible machine. Check!!\")\n",
    "    \n",
    "### Check whether required bins are available\n",
    "req_bins = [\"mafft\"] \n",
    "for b in req_bins:\n",
    "    s = which(b)\n",
    "    if not s:\n",
    "        print(f\"Make sure to install {b} and have in path. I cannot find it!\")\n",
    "        \n",
    "os.chdir(path)  # Set the right Path (in line with Atom default)\n",
    "print(os.getcwd())\n",
    "\n",
    "sys.path.append(\"./python3/\")\n",
    "from manipulate_fasta import fasta_iter_raw, fasta_iter"
   ]
  },
  {
   "cell_type": "markdown",
   "metadata": {},
   "source": [
    "### Define Functions"
   ]
  },
  {
   "cell_type": "code",
   "execution_count": 4,
   "metadata": {},
   "outputs": [],
   "source": [
    "def load_merged_df(var_path=\"./output/tables/march30/derived.tsv\",\n",
    "                   meta_path=\"./data/mar20/metadata31.tsv\",\n",
    "                   epi_col = \"gisaid_epi_isl\"):\n",
    "    \"\"\"Load variant df and meta df, and merge on epi_col\"\"\"\n",
    "    df = pd.read_csv(var_path, sep=\"\\t\")\n",
    "    df[epi_col] = df[\"iid\"].str.split(\"|\").str[1]  # Split out the EPI ID\n",
    "    df_meta = pd.read_csv(meta_path, sep=\"\\t\")\n",
    "    df1 = pd.merge(df, df_meta, on=epi_col)\n",
    "    print(f\"Merged to {len(df1)}/{len(df)} Individuals\")\n",
    "    return df1"
   ]
  },
  {
   "cell_type": "markdown",
   "metadata": {},
   "source": [
    "### Load the variant Data"
   ]
  },
  {
   "cell_type": "code",
   "execution_count": 33,
   "metadata": {},
   "outputs": [
    {
     "name": "stdout",
     "output_type": "stream",
     "text": [
      "Merged to 3305/3325 Individuals\n"
     ]
    },
    {
     "data": {
      "text/plain": [
       "3281"
      ]
     },
     "execution_count": 33,
     "metadata": {},
     "output_type": "execute_result"
    }
   ],
   "source": [
    "df1 = load_merged_df(var_path=\"./output/tables/derived_common_snps.tsv\",\n",
    "                     meta_path=\"./data/apr20/metadata.tsv\")\n",
    "df1 = df1[~(df1[\"date\"]==\"2020-02-XX\")].copy() # Throw out garbage data\n",
    "df1 = df1[~(df1[\"date\"]==\"2020-01-XX\")].copy() # Throw out garbage data\n",
    "df1 = df1[~(df1[\"date\"]==\"2020-03-XX\")].copy() # Throw out garbage data\n",
    "df1 = df1[~(df1[\"date\"]==\"2020-01-01\")].copy()\n",
    "df1[\"date1\"] =  pd.to_datetime(df1[\"date\"]) # New Sort Column\n",
    "len(df1)"
   ]
  },
  {
   "cell_type": "markdown",
   "metadata": {},
   "source": [
    "### Plot Cumulative Frequency"
   ]
  },
  {
   "cell_type": "code",
   "execution_count": 34,
   "metadata": {},
   "outputs": [
    {
     "name": "stdout",
     "output_type": "stream",
     "text": [
      "Human Samples: 3240\n"
     ]
    }
   ],
   "source": [
    "df2 = df1.copy()\n",
    "pos= f\"23402\"\n",
    "df2 = df2[df2[\"date1\"]!=\"2020-01-01\"]\n",
    "df2 = df2.sort_values(by=\"date1\")\n",
    "df2 = df2[df2['host']==\"Human\"]\n",
    "print(f\"Human Samples: {len(df2)}\")\n",
    "derived = df2[pos]\n",
    "\n",
    "dts = df2[\"date1\"]\n",
    "cum_count = np.arange(len(df2))+1\n",
    "cum_der = np.cumsum(derived)\n",
    "all_freq = cum_der / cum_count"
   ]
  },
  {
   "cell_type": "code",
   "execution_count": 9,
   "metadata": {},
   "outputs": [
    {
     "name": "stdout",
     "output_type": "stream",
     "text": [
      "Saved to ./figures/dumpster/all_freq_full.png\n"
     ]
    },
    {
     "data": {
      "image/png": "[encoded data removed]",
      "text/plain": [
       "<Figure size 432x288 with 1 Axes>"
      ]
     },
     "metadata": {
      "needs_background": "light"
     },
     "output_type": "display_data"
    }
   ],
   "source": [
    "savepath=\"./figures/dumpster/all_freq_full.png\"\n",
    "\n",
    "plt.figure()\n",
    "ax=plt.gca()\n",
    "ax.plot(dts, all_freq, lw=2, c=\"r\")\n",
    "\n",
    "#plt.plot(date, cum_count)\n",
    "ax.set_ylabel(f\"Cumulative Allele Frequency {23402}\")\n",
    "ax.set_xlabel(\"Date\")\n",
    "plt.xticks(rotation=30, ha='right')\n",
    "#ax.set_xlim([date(\"2020-02-01\"), date(\"2020-04-01\")])\n",
    "ax.set_xlim([date(2020, 2, 8), date(2020, 3, 22)])\n",
    "if len(savepath)>0:\n",
    "    plt.savefig(savepath, bbox_inches = 'tight', \n",
    "                pad_inches = 0, dpi=200)\n",
    "    print(f\"Saved to {savepath}\")\n",
    "\n",
    "plt.show()"
   ]
  },
  {
   "cell_type": "code",
   "execution_count": 22,
   "metadata": {},
   "outputs": [],
   "source": [
    "def plot_freq_traj_group(savepath=\"./figures/dumpster/all_freq_country_april.png\",\n",
    "                         pos= f\"23402\", min_cases = 10, col = \"country\",\n",
    "                         countries = [\"Netherlands\", \"United Kingdom\", \"France\", \"Belgium\", \n",
    "                                      \"Switzerland\", \"Germany\", \"Luxembourg\", \"USA\", \"Canada\", \"Australia\", \"China\"]):\n",
    "    plt.figure()\n",
    "    ax=plt.gca()\n",
    "\n",
    "    for ctry in countries:\n",
    "        df_t = df2[df2[col]==ctry]\n",
    "\n",
    "        derived = df_t[pos]\n",
    "        dts = df_t[\"date1\"]\n",
    "        cum_count = np.arange(len(df_t))+1\n",
    "        cum_der = np.cumsum(derived)\n",
    "        all_freq = cum_der / cum_count\n",
    "\n",
    "        ax.plot(dts[min_cases:], all_freq[min_cases:], label=ctry)\n",
    "\n",
    "    #plt.plot(date, cum_count)\n",
    "    ax.set_ylabel(f\"Cumulative Allele Frequency {23402}\")\n",
    "    ax.set_xlabel(\"Date\")\n",
    "    ax.set_xlim([date(2020, 2, 8), date(2020, 3, 22)])\n",
    "    ax.legend(loc = \"upper left\")\n",
    "    plt.xticks(rotation=30, ha='right')\n",
    "\n",
    "    if len(savepath)>0:\n",
    "        plt.savefig(savepath, bbox_inches = 'tight', \n",
    "                    pad_inches = 0, dpi=200)\n",
    "        print(f\"Saved to {savepath}\")\n",
    "\n",
    "    plt.show()"
   ]
  },
  {
   "cell_type": "code",
   "execution_count": 50,
   "metadata": {},
   "outputs": [
    {
     "name": "stdout",
     "output_type": "stream",
     "text": [
      "Saved to ./figures/dumpster/all_freq_country_april.png\n"
     ]
    },
    {
     "data": {
      "image/png": "[encoded data removed]",
      "text/plain": [
       "<Figure size 432x288 with 1 Axes>"
      ]
     },
     "metadata": {
      "needs_background": "light"
     },
     "output_type": "display_data"
    }
   ],
   "source": [
    "plot_freq_traj_group(savepath=\"./figures/dumpster/all_freq_country_april.png\",\n",
    "                     pos= f\"3036\", min_cases = 10, col = \"country\",\n",
    "                     countries = [\"Netherlands\", \"United Kingdom\", \"Iceland\", \"France\", \"Spain\", \"Belgium\", \n",
    "                                  \"Switzerland\", \"Germany\", \"Luxembourg\", \"USA\", \"Canada\", \"Australia\", \n",
    "                                  \"China\"])"
   ]
  },
  {
   "cell_type": "code",
   "execution_count": 32,
   "metadata": {},
   "outputs": [
    {
     "name": "stdout",
     "output_type": "stream",
     "text": [
      "Saved to ./figures/dumpster/all_freq_country_april.png\n"
     ]
    },
    {
     "data": {
      "image/png": "[encoded data removed]",
      "text/plain": [
       "<Figure size 432x288 with 1 Axes>"
      ]
     },
     "metadata": {
      "needs_background": "light"
     },
     "output_type": "display_data"
    }
   ],
   "source": [
    "plot_freq_traj_group(savepath=\"./figures/dumpster/all_freq_country_april.png\",\n",
    "                     pos= f\"23402\", min_cases = 10, col = \"division\",\n",
    "                     countries = [\"Washington\", \"Reykjavik\", \"England\", \"Wales\",\n",
    "                                  \"Auvergne-Rhône-Alpes\", \"North Brabant\", \"Ontario\", \"Portugal\",\n",
    "                                 \"Minnesota\", \"New York\", \"California\"])"
   ]
  },
  {
   "cell_type": "code",
   "execution_count": 30,
   "metadata": {},
   "outputs": [
    {
     "data": {
      "text/plain": [
       "Washington              526\n",
       "Reykjavik               343\n",
       "England                 299\n",
       "Wales                   219\n",
       "Shanghai                 96\n",
       "Guangdong                79\n",
       "unknown                  70\n",
       "Liège                    64\n",
       "Auvergne-Rhône-Alpes     63\n",
       "North Brabant            62\n",
       "Ontario                  59\n",
       "British Columbia         59\n",
       "Portugal                 44\n",
       "New South Wales          44\n",
       "Minnesota                42\n",
       "California               39\n",
       "New York                 36\n",
       "South Holland            34\n",
       "Netherlands              32\n",
       "Hauts de France          31\n",
       "Name: division, dtype: int64"
      ]
     },
     "execution_count": 30,
     "metadata": {},
     "output_type": "execute_result"
    }
   ],
   "source": [
    "df2[\"division\"].value_counts()[:20]"
   ]
  },
  {
   "cell_type": "code",
   "execution_count": 27,
   "metadata": {},
   "outputs": [
    {
     "data": {
      "text/plain": [
       "Index(['iid', 'iid_clean', 'cov', 'include', 'aligned_path', '240', '1058',\n",
       "       '3036', '8781', '11082', '14407', '14804', '17746', '17857', '18059',\n",
       "       '23402', '25562', '26143', '27045', '28143', '28880', '28881', '28882',\n",
       "       'gisaid_epi_isl', 'strain', 'virus', 'genbank_accession', 'date',\n",
       "       'region', 'country', 'division', 'location', 'country_exposure',\n",
       "       'division_exposure', 'segment', 'length', 'host', 'age', 'sex',\n",
       "       'originating_lab', 'submitting_lab', 'authors', 'url', 'title',\n",
       "       'date_submitted', 'date1'],\n",
       "      dtype='object')"
      ]
     },
     "execution_count": 27,
     "metadata": {},
     "output_type": "execute_result"
    }
   ],
   "source": [
    "df2.columns"
   ]
  },
  {
   "cell_type": "code",
   "execution_count": 40,
   "metadata": {},
   "outputs": [
    {
     "data": {
      "text/plain": [
       "Human                  3263\n",
       "human                     9\n",
       "Manis javanica            8\n",
       "Rhinolophus affinis       1\n",
       "Name: host, dtype: int64"
      ]
     },
     "execution_count": 40,
     "metadata": {},
     "output_type": "execute_result"
    }
   ],
   "source": [
    "df1[\"host\"].value_counts()"
   ]
  },
  {
   "cell_type": "code",
   "execution_count": 63,
   "metadata": {},
   "outputs": [
    {
     "data": {
      "text/html": [
       "<div>\n",
       "<style scoped>\n",
       "    .dataframe tbody tr th:only-of-type {\n",
       "        vertical-align: middle;\n",
       "    }\n",
       "\n",
       "    .dataframe tbody tr th {\n",
       "        vertical-align: top;\n",
       "    }\n",
       "\n",
       "    .dataframe thead th {\n",
       "        text-align: right;\n",
       "    }\n",
       "</style>\n",
       "<table border=\"1\" class=\"dataframe\">\n",
       "  <thead>\n",
       "    <tr style=\"text-align: right;\">\n",
       "      <th></th>\n",
       "      <th>3036</th>\n",
       "      <th>14407</th>\n",
       "    </tr>\n",
       "  </thead>\n",
       "  <tbody>\n",
       "    <tr>\n",
       "      <th>51</th>\n",
       "      <td>False</td>\n",
       "      <td>False</td>\n",
       "    </tr>\n",
       "    <tr>\n",
       "      <th>63</th>\n",
       "      <td>False</td>\n",
       "      <td>False</td>\n",
       "    </tr>\n",
       "    <tr>\n",
       "      <th>64</th>\n",
       "      <td>False</td>\n",
       "      <td>False</td>\n",
       "    </tr>\n",
       "    <tr>\n",
       "      <th>68</th>\n",
       "      <td>False</td>\n",
       "      <td>False</td>\n",
       "    </tr>\n",
       "    <tr>\n",
       "      <th>69</th>\n",
       "      <td>False</td>\n",
       "      <td>False</td>\n",
       "    </tr>\n",
       "    <tr>\n",
       "      <th>70</th>\n",
       "      <td>False</td>\n",
       "      <td>False</td>\n",
       "    </tr>\n",
       "    <tr>\n",
       "      <th>71</th>\n",
       "      <td>False</td>\n",
       "      <td>False</td>\n",
       "    </tr>\n",
       "    <tr>\n",
       "      <th>662</th>\n",
       "      <td>True</td>\n",
       "      <td>False</td>\n",
       "    </tr>\n",
       "    <tr>\n",
       "      <th>2761</th>\n",
       "      <td>False</td>\n",
       "      <td>False</td>\n",
       "    </tr>\n",
       "  </tbody>\n",
       "</table>\n",
       "</div>"
      ],
      "text/plain": [
       "       3036  14407\n",
       "51    False  False\n",
       "63    False  False\n",
       "64    False  False\n",
       "68    False  False\n",
       "69    False  False\n",
       "70    False  False\n",
       "71    False  False\n",
       "662    True  False\n",
       "2761  False  False"
      ]
     },
     "execution_count": 63,
     "metadata": {},
     "output_type": "execute_result"
    }
   ],
   "source": [
    "df1[df1[\"host\"].str.lower()!=\"human\"][[f\"3036\", f\"14407\"]]"
   ]
  },
  {
   "cell_type": "code",
   "execution_count": 58,
   "metadata": {},
   "outputs": [
    {
     "data": {
      "text/html": [
       "<div>\n",
       "<style scoped>\n",
       "    .dataframe tbody tr th:only-of-type {\n",
       "        vertical-align: middle;\n",
       "    }\n",
       "\n",
       "    .dataframe tbody tr th {\n",
       "        vertical-align: top;\n",
       "    }\n",
       "\n",
       "    .dataframe thead th {\n",
       "        text-align: right;\n",
       "    }\n",
       "</style>\n",
       "<table border=\"1\" class=\"dataframe\">\n",
       "  <thead>\n",
       "    <tr style=\"text-align: right;\">\n",
       "      <th></th>\n",
       "      <th>3036</th>\n",
       "      <th>23402</th>\n",
       "    </tr>\n",
       "  </thead>\n",
       "  <tbody>\n",
       "    <tr>\n",
       "      <th>0</th>\n",
       "      <td>False</td>\n",
       "      <td>False</td>\n",
       "    </tr>\n",
       "    <tr>\n",
       "      <th>1</th>\n",
       "      <td>False</td>\n",
       "      <td>False</td>\n",
       "    </tr>\n",
       "    <tr>\n",
       "      <th>2</th>\n",
       "      <td>False</td>\n",
       "      <td>False</td>\n",
       "    </tr>\n",
       "    <tr>\n",
       "      <th>3</th>\n",
       "      <td>False</td>\n",
       "      <td>False</td>\n",
       "    </tr>\n",
       "    <tr>\n",
       "      <th>4</th>\n",
       "      <td>False</td>\n",
       "      <td>False</td>\n",
       "    </tr>\n",
       "    <tr>\n",
       "      <th>...</th>\n",
       "      <td>...</td>\n",
       "      <td>...</td>\n",
       "    </tr>\n",
       "    <tr>\n",
       "      <th>3300</th>\n",
       "      <td>False</td>\n",
       "      <td>False</td>\n",
       "    </tr>\n",
       "    <tr>\n",
       "      <th>3301</th>\n",
       "      <td>False</td>\n",
       "      <td>False</td>\n",
       "    </tr>\n",
       "    <tr>\n",
       "      <th>3302</th>\n",
       "      <td>False</td>\n",
       "      <td>False</td>\n",
       "    </tr>\n",
       "    <tr>\n",
       "      <th>3303</th>\n",
       "      <td>False</td>\n",
       "      <td>False</td>\n",
       "    </tr>\n",
       "    <tr>\n",
       "      <th>3304</th>\n",
       "      <td>False</td>\n",
       "      <td>False</td>\n",
       "    </tr>\n",
       "  </tbody>\n",
       "</table>\n",
       "<p>3281 rows × 2 columns</p>\n",
       "</div>"
      ],
      "text/plain": [
       "       3036  23402\n",
       "0     False  False\n",
       "1     False  False\n",
       "2     False  False\n",
       "3     False  False\n",
       "4     False  False\n",
       "...     ...    ...\n",
       "3300  False  False\n",
       "3301  False  False\n",
       "3302  False  False\n",
       "3303  False  False\n",
       "3304  False  False\n",
       "\n",
       "[3281 rows x 2 columns]"
      ]
     },
     "execution_count": 58,
     "metadata": {},
     "output_type": "execute_result"
    }
   ],
   "source": [
    "df1[[f\"3036\", f\"23402\"]]"
   ]
  },
  {
   "cell_type": "code",
   "execution_count": 62,
   "metadata": {},
   "outputs": [
    {
     "data": {
      "text/plain": [
       "array([[1.        , 0.98522176],\n",
       "       [0.98522176, 1.        ]])"
      ]
     },
     "execution_count": 62,
     "metadata": {},
     "output_type": "execute_result"
    }
   ],
   "source": [
    "np.corrcoef(df1[\"14407\"], df1[\"23402\"]) # \"3036\", \"14407\" \"23402\""
   ]
  },
  {
   "cell_type": "code",
   "execution_count": null,
   "metadata": {},
   "outputs": [],
   "source": []
  }
 ],
 "metadata": {
  "kernelspec": {
   "display_name": "Python 3",
   "language": "python",
   "name": "python3"
  },
  "language_info": {
   "codemirror_mode": {
    "name": "ipython",
    "version": 3
   },
   "file_extension": ".py",
   "mimetype": "text/x-python",
   "name": "python",
   "nbconvert_exporter": "python",
   "pygments_lexer": "ipython3",
   "version": "3.7.4"
  }
 },
 "nbformat": 4,
 "nbformat_minor": 4
}
