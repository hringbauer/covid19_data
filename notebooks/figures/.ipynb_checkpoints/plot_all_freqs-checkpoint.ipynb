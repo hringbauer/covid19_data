{
 "cells": [
  {
   "cell_type": "markdown",
   "metadata": {},
   "source": [
    "### Allele Frequency Trajectories"
   ]
  },
  {
   "cell_type": "code",
   "execution_count": 3,
   "metadata": {},
   "outputs": [
    {
     "name": "stdout",
     "output_type": "stream",
     "text": [
      "Current machine: compute-a-16-161.o2.rc.hms.harvard.edu\n",
      "HSM Computational partition detected.\n",
      "/n/groups/reich/hringbauer/git/covid19_data\n"
     ]
    }
   ],
   "source": [
    "import numpy as np\n",
    "import os as os\n",
    "import sys as sys\n",
    "import multiprocessing as mp\n",
    "import pandas as pd\n",
    "import socket\n",
    "import matplotlib.pyplot as plt\n",
    "from itertools import groupby\n",
    "from shutil import which\n",
    "import os\n",
    "import re as re\n",
    "from datetime import date\n",
    "\n",
    "### Pick the right path (whether on cluster or at home)\n",
    "socket_name = socket.gethostname()\n",
    "print(f\"Current machine: {socket_name}\")\n",
    "if socket_name == \"DESKTOP-5RJD9NC\":\n",
    "    path = \"/gitProjects/covid19_data\"   # The Path on Harald's machine\n",
    "if socket_name.startswith(\"compute-\"):\n",
    "    print(\"HSM Computational partition detected.\")\n",
    "    path = \"/n/groups/reich/hringbauer/git/covid19_data/\"  # The Path on Midway Cluster\n",
    "else: \n",
    "    raise RuntimeWarning(\"Not compatible machine. Check!!\")\n",
    "    \n",
    "### Check whether required bins are available\n",
    "req_bins = [\"mafft\"] \n",
    "for b in req_bins:\n",
    "    s = which(b)\n",
    "    if not s:\n",
    "        print(f\"Make sure to install {b} and have in path. I cannot find it!\")\n",
    "        \n",
    "os.chdir(path)  # Set the right Path (in line with Atom default)\n",
    "print(os.getcwd())\n",
    "\n",
    "sys.path.append(\"./python3/\")\n",
    "from manipulate_fasta import fasta_iter_raw, fasta_iter"
   ]
  },
  {
   "cell_type": "markdown",
   "metadata": {},
   "source": [
    "### Define useful Functions"
   ]
  },
  {
   "cell_type": "code",
   "execution_count": 4,
   "metadata": {},
   "outputs": [],
   "source": [
    "def load_merged_df(var_path=\"./output/tables/march30/derived.tsv\",\n",
    "                   meta_path=\"./data/mar20/metadata31.tsv\",\n",
    "                   epi_col = \"gisaid_epi_isl\"):\n",
    "    \"\"\"Load variant df and meta df, and merge on epi_col\"\"\"\n",
    "    df = pd.read_csv(var_path, sep=\"\\t\")\n",
    "    df[epi_col] = df[\"iid\"].str.split(\"|\").str[1]  # Split out the EPI ID\n",
    "    df_meta = pd.read_csv(meta_path, sep=\"\\t\")\n",
    "    df1 = pd.merge(df, df_meta, on=epi_col)\n",
    "    print(f\"Merged to {len(df1)}/{len(df)} Individuals\")\n",
    "    return df1"
   ]
  },
  {
   "cell_type": "code",
   "execution_count": 7,
   "metadata": {},
   "outputs": [
    {
     "name": "stdout",
     "output_type": "stream",
     "text": [
      "Merged to 3305/3325 Individuals\n"
     ]
    },
    {
     "data": {
      "text/plain": [
       "3281"
      ]
     },
     "execution_count": 7,
     "metadata": {},
     "output_type": "execute_result"
    }
   ],
   "source": [
    "df1 = load_merged_df(var_path=\"./output/tables/derived_common_snps.tsv\",\n",
    "                     meta_path=\"./data/apr20/metadata.tsv\")\n",
    "df1 = df1[~(df1[\"date\"]==\"2020-02-XX\")].copy() # Throw out garbage data\n",
    "df1 = df1[~(df1[\"date\"]==\"2020-01-XX\")].copy() # Throw out garbage data\n",
    "df1 = df1[~(df1[\"date\"]==\"2020-03-XX\")].copy() # Throw out garbage data\n",
    "df1 = df1[~(df1[\"date\"]==\"2020-01-01\")].copy()\n",
    "df1[\"date1\"] =  pd.to_datetime(df1[\"date\"]) # New Sort Column\n",
    "len(df1)"
   ]
  },
  {
   "cell_type": "markdown",
   "metadata": {},
   "source": [
    "### Plot Cumulative Frequency"
   ]
  },
  {
   "cell_type": "code",
   "execution_count": 8,
   "metadata": {},
   "outputs": [],
   "source": [
    "df2 = df1.copy()\n",
    "pos= f\"23402\"\n",
    "df2 = df2[df2[\"date1\"]!=\"2020-01-01\"]\n",
    "df2 = df2.sort_values(by=\"date1\")\n",
    "df2 = df2[df2['host']==\"Human\"]\n",
    "derived = df2[pos]\n",
    "\n",
    "dts = df2[\"date1\"]\n",
    "cum_count = np.arange(len(df2))+1\n",
    "cum_der = np.cumsum(derived)\n",
    "all_freq = cum_der / cum_count"
   ]
  },
  {
   "cell_type": "code",
   "execution_count": 9,
   "metadata": {},
   "outputs": [
    {
     "name": "stdout",
     "output_type": "stream",
     "text": [
      "Saved to ./figures/dumpster/all_freq_full.png\n"
     ]
    },
    {
     "data": {
      "image/png": "[encoded data removed]",
      "text/plain": [
       "<Figure size 432x288 with 1 Axes>"
      ]
     },
     "metadata": {
      "needs_background": "light"
     },
     "output_type": "display_data"
    }
   ],
   "source": [
    "savepath=\"./figures/dumpster/all_freq_full.png\"\n",
    "\n",
    "plt.figure()\n",
    "ax=plt.gca()\n",
    "ax.plot(dts, all_freq, lw=2, c=\"r\")\n",
    "\n",
    "#plt.plot(date, cum_count)\n",
    "ax.set_ylabel(f\"Cumulative Allele Frequency {23402}\")\n",
    "ax.set_xlabel(\"Date\")\n",
    "plt.xticks(rotation=30, ha='right')\n",
    "#ax.set_xlim([date(\"2020-02-01\"), date(\"2020-04-01\")])\n",
    "ax.set_xlim([date(2020, 2, 8), date(2020, 3, 22)])\n",
    "if len(savepath)>0:\n",
    "    plt.savefig(savepath, bbox_inches = 'tight', \n",
    "                pad_inches = 0, dpi=200)\n",
    "    print(f\"Saved to {savepath}\")\n",
    "\n",
    "plt.show()"
   ]
  },
  {
   "cell_type": "code",
   "execution_count": 22,
   "metadata": {},
   "outputs": [],
   "source": [
    "def plot_freq_traj_group(savepath=\"./figures/dumpster/all_freq_country_april.png\",\n",
    "                         pos= f\"23402\", min_cases = 10, col = \"country\",\n",
    "                         countries = [\"Netherlands\", \"United Kingdom\", \"France\", \"Belgium\", \n",
    "                                      \"Switzerland\", \"Germany\", \"Luxembourg\", \"USA\", \"Canada\", \"Australia\", \"China\"]):\n",
    "    plt.figure()\n",
    "    ax=plt.gca()\n",
    "\n",
    "    for ctry in countries:\n",
    "        df_t = df2[df2[col]==ctry]\n",
    "\n",
    "        derived = df_t[pos]\n",
    "        dts = df_t[\"date1\"]\n",
    "        cum_count = np.arange(len(df_t))+1\n",
    "        cum_der = np.cumsum(derived)\n",
    "        all_freq = cum_der / cum_count\n",
    "\n",
    "        ax.plot(dts[min_cases:], all_freq[min_cases:], label=ctry)\n",
    "\n",
    "    #plt.plot(date, cum_count)\n",
    "    ax.set_ylabel(f\"Cumulative Allele Frequency {23402}\")\n",
    "    ax.set_xlabel(\"Date\")\n",
    "    ax.set_xlim([date(2020, 2, 8), date(2020, 3, 22)])\n",
    "    ax.legend(loc = \"upper left\")\n",
    "    plt.xticks(rotation=30, ha='right')\n",
    "\n",
    "    if len(savepath)>0:\n",
    "        plt.savefig(savepath, bbox_inches = 'tight', \n",
    "                    pad_inches = 0, dpi=200)\n",
    "        print(f\"Saved to {savepath}\")\n",
    "\n",
    "    plt.show()"
   ]
  },
  {
   "cell_type": "code",
   "execution_count": 24,
   "metadata": {},
   "outputs": [
    {
     "name": "stdout",
     "output_type": "stream",
     "text": [
      "Saved to ./figures/dumpster/all_freq_country_april.png\n"
     ]
    },
    {
     "data": {
      "image/png": "[encoded data removed]",
      "text/plain": [
       "<Figure size 432x288 with 1 Axes>"
      ]
     },
     "metadata": {
      "needs_background": "light"
     },
     "output_type": "display_data"
    }
   ],
   "source": [
    "plot_freq_traj_group(savepath=\"./figures/dumpster/all_freq_country_april.png\",\n",
    "                     pos= f\"23402\", min_cases = 10, col = \"country\",\n",
    "                     countries = [\"Netherlands\", \"United Kingdom\", \"Iceland\", \"France\", \"Belgium\", \n",
    "                                  \"Switzerland\", \"Germany\", \"Luxembourg\", \"USA\", \"Canada\", \"Australia\", \n",
    "                                  \"China\"])"
   ]
  },
  {
   "cell_type": "code",
   "execution_count": 11,
   "metadata": {},
   "outputs": [
    {
     "data": {
      "text/plain": [
       "USA               774\n",
       "United Kingdom    538\n",
       "Iceland           343\n",
       "China             264\n",
       "Netherlands       169\n",
       "France            139\n",
       "Canada            123\n",
       "Belgium           112\n",
       "Japan              99\n",
       "Australia          71\n",
       "Hong Kong          62\n",
       "Luxembourg         56\n",
       "Switzerland        52\n",
       "Spain              49\n",
       "Portugal           46\n",
       "Finland            40\n",
       "Germany            39\n",
       "Brazil             36\n",
       "Italy              25\n",
       "Singapore          24\n",
       "Congo              19\n",
       "Taiwan             18\n",
       "Ireland            13\n",
       "Senegal            12\n",
       "South Korea        12\n",
       "Georgia            10\n",
       "Malaysia           10\n",
       "Denmark             9\n",
       "New Zealand         8\n",
       "Norway              8\n",
       "Vietnam             8\n",
       "Chile               7\n",
       "Slovakia            4\n",
       "Kuwait              4\n",
       "Saudi Arabia        3\n",
       "Hungary             3\n",
       "Czech Republic      3\n",
       "Greece              3\n",
       "India               2\n",
       "Algeria             2\n",
       "Pakistan            2\n",
       "Israel              2\n",
       "Thailand            2\n",
       "Colombia            2\n",
       "Mexico              1\n",
       "Peru                1\n",
       "Russia              1\n",
       "Nepal               1\n",
       "Ecuador             1\n",
       "Poland              1\n",
       "South Africa        1\n",
       "Turkey              1\n",
       "Sweden              1\n",
       "Panama              1\n",
       "Nigeria             1\n",
       "Lithuania           1\n",
       "Cambodia            1\n",
       "Name: country, dtype: int64"
      ]
     },
     "execution_count": 11,
     "metadata": {},
     "output_type": "execute_result"
    }
   ],
   "source": [
    "df2[\"country\"].value_counts()"
   ]
  }
 ],
 "metadata": {
  "kernelspec": {
   "display_name": "Python 3",
   "language": "python",
   "name": "python3"
  },
  "language_info": {
   "codemirror_mode": {
    "name": "ipython",
    "version": 3
   },
   "file_extension": ".py",
   "mimetype": "text/x-python",
   "name": "python",
   "nbconvert_exporter": "python",
   "pygments_lexer": "ipython3",
   "version": "3.7.4"
  }
 },
 "nbformat": 4,
 "nbformat_minor": 4
}
